{
 "cells": [
  {
   "cell_type": "code",
   "execution_count": 11,
   "metadata": {},
   "outputs": [],
   "source": [
    "import pandas as pd \n",
    "import numpy as np \n",
    "import matplotlib.pyplot as plt \n",
    "import unicodedata\n",
    "from datetime import datetime"
   ]
  },
  {
   "cell_type": "code",
   "execution_count": 12,
   "metadata": {},
   "outputs": [],
   "source": [
    "data = pd.read_csv('./readyToClassify.csv',sep=';')"
   ]
  },
  {
   "cell_type": "code",
   "execution_count": 13,
   "metadata": {},
   "outputs": [
    {
     "data": {
      "text/html": [
       "<div>\n",
       "<style scoped>\n",
       "    .dataframe tbody tr th:only-of-type {\n",
       "        vertical-align: middle;\n",
       "    }\n",
       "\n",
       "    .dataframe tbody tr th {\n",
       "        vertical-align: top;\n",
       "    }\n",
       "\n",
       "    .dataframe thead th {\n",
       "        text-align: right;\n",
       "    }\n",
       "</style>\n",
       "<table border=\"1\" class=\"dataframe\">\n",
       "  <thead>\n",
       "    <tr style=\"text-align: right;\">\n",
       "      <th></th>\n",
       "      <th>Identificacion</th>\n",
       "      <th>Id_Estancia</th>\n",
       "      <th>Evolucion</th>\n",
       "      <th>Diagnostico</th>\n",
       "      <th>set</th>\n",
       "    </tr>\n",
       "  </thead>\n",
       "  <tbody>\n",
       "    <tr>\n",
       "      <th>0</th>\n",
       "      <td>6512</td>\n",
       "      <td>40551</td>\n",
       "      <td>PACINETE QUIEN SE ENCUENTRA CON CUADRO CLINICO...</td>\n",
       "      <td>1.0</td>\n",
       "      <td>train</td>\n",
       "    </tr>\n",
       "    <tr>\n",
       "      <th>1</th>\n",
       "      <td>6512</td>\n",
       "      <td>48953</td>\n",
       "      <td>MANUEL GUILLERMO BOLIVAR BOLIVARNota de Inbgre...</td>\n",
       "      <td>1.0</td>\n",
       "      <td>train</td>\n",
       "    </tr>\n",
       "    <tr>\n",
       "      <th>2</th>\n",
       "      <td>6512</td>\n",
       "      <td>54779</td>\n",
       "      <td>MANUEL GUILLERMO BOLIVAR BOLIVARINGRESO UCI NE...</td>\n",
       "      <td>1.0</td>\n",
       "      <td>train</td>\n",
       "    </tr>\n",
       "    <tr>\n",
       "      <th>3</th>\n",
       "      <td>34256</td>\n",
       "      <td>45181</td>\n",
       "      <td>PACIENTE CON HC Y DX ANOTADOS. INGRESA A LA UN...</td>\n",
       "      <td>1.0</td>\n",
       "      <td>test</td>\n",
       "    </tr>\n",
       "    <tr>\n",
       "      <th>4</th>\n",
       "      <td>38177</td>\n",
       "      <td>45032</td>\n",
       "      <td>PACIENTE CURSANDO CON BLOQUEO AV COMPLETO, SIN...</td>\n",
       "      <td>0.0</td>\n",
       "      <td>train</td>\n",
       "    </tr>\n",
       "  </tbody>\n",
       "</table>\n",
       "</div>"
      ],
      "text/plain": [
       "   Identificacion  Id_Estancia  \\\n",
       "0            6512        40551   \n",
       "1            6512        48953   \n",
       "2            6512        54779   \n",
       "3           34256        45181   \n",
       "4           38177        45032   \n",
       "\n",
       "                                           Evolucion  Diagnostico    set  \n",
       "0  PACINETE QUIEN SE ENCUENTRA CON CUADRO CLINICO...          1.0  train  \n",
       "1  MANUEL GUILLERMO BOLIVAR BOLIVARNota de Inbgre...          1.0  train  \n",
       "2  MANUEL GUILLERMO BOLIVAR BOLIVARINGRESO UCI NE...          1.0  train  \n",
       "3  PACIENTE CON HC Y DX ANOTADOS. INGRESA A LA UN...          1.0   test  \n",
       "4  PACIENTE CURSANDO CON BLOQUEO AV COMPLETO, SIN...          0.0  train  "
      ]
     },
     "execution_count": 13,
     "metadata": {},
     "output_type": "execute_result"
    }
   ],
   "source": [
    "data.head()"
   ]
  },
  {
   "cell_type": "code",
   "execution_count": 21,
   "metadata": {},
   "outputs": [],
   "source": [
    "#limpieza\n",
    "def normunicode_data(string):\n",
    "    '''\n",
    "     Normalise (normalize) unicode data in Python to remove umlauts, accents etc.\n",
    "    '''\n",
    "    #print(strin)\n",
    "    return unicodedata.normalize('NFKD', string).encode('ASCII', 'ignore').decode(\"utf-8\").lower()\n",
    "\n",
    "\n",
    "def probability_of_disease(diagnosis, dic):\n",
    "    '''\n",
    "    input:  diagnosis: (str) diagnosis patient\n",
    "            dic: (list)  keywords of certain disease\n",
    "            name: (str) name of disease\n",
    "    output: value between 0 and 1 according to probability of disease\n",
    "    '''\n",
    "    occurr = 0\n",
    "    freq = 0\n",
    "    list_diagnosis = normunicode_data(diagnosis).split()  # split string values\n",
    "    len_diagnosis = len(list_diagnosis)\n",
    "    len_vocabulary = len(dic)\n",
    "    for token in dic:  # len(dic) iterations\n",
    "        if any(token in word for word in list_diagnosis):\n",
    "            occurr += 1\n",
    "        freq += normunicode_data(diagnosis).count(token)\n",
    "\n",
    "    # metrics\n",
    "    # ocurrence of one word in diagnosis\n",
    "    # to be effective, delete words withouth clinical value\n",
    "    # problematic when some word repeats\n",
    "    prob_coronaria_g1_1 = round(occurr / len_diagnosis, 3)\n",
    "    # ocurrence of one word in vocabulary\n",
    "    prob_coronaria_g1_2 = round(100 * (occurr / len_vocabulary), 1)\n",
    "\n",
    "    if occurr != 0:\n",
    "        prob_cor1 = round((freq / occurr) * prob_coronaria_g1_1, 3)\n",
    "        prob_cor2 = round((freq / occurr) * prob_coronaria_g1_2, 3)\n",
    "\n",
    "    if occurr == 0:\n",
    "        result = 0\n",
    "    else:\n",
    "        if prob_cor2 > 0.1:\n",
    "            result = 1\n",
    "        else:\n",
    "            result = 0\n",
    "\n",
    "    return pd.Series({'Ocurrencia': occurr, 'Frecuencia': freq, 'Porcentaje_palabras': prob_coronaria_g1_2})"
   ]
  },
  {
   "cell_type": "code",
   "execution_count": 115,
   "metadata": {},
   "outputs": [],
   "source": [
    "dic = pd.read_csv('../../Data/dic_coronario_g1.csv')"
   ]
  },
  {
   "cell_type": "code",
   "execution_count": 116,
   "metadata": {},
   "outputs": [],
   "source": [
    "dic = [x.lower() for x in list(dic.Nombre.unique())]"
   ]
  },
  {
   "cell_type": "code",
   "execution_count": 15,
   "metadata": {},
   "outputs": [],
   "source": [
    "data['cleanEvolucion'] = data.apply(lambda row: normunicode_data(row.Evolucion) ,axis=1)\n"
   ]
  },
  {
   "cell_type": "code",
   "execution_count": 16,
   "metadata": {},
   "outputs": [
    {
     "data": {
      "text/html": [
       "<div>\n",
       "<style scoped>\n",
       "    .dataframe tbody tr th:only-of-type {\n",
       "        vertical-align: middle;\n",
       "    }\n",
       "\n",
       "    .dataframe tbody tr th {\n",
       "        vertical-align: top;\n",
       "    }\n",
       "\n",
       "    .dataframe thead th {\n",
       "        text-align: right;\n",
       "    }\n",
       "</style>\n",
       "<table border=\"1\" class=\"dataframe\">\n",
       "  <thead>\n",
       "    <tr style=\"text-align: right;\">\n",
       "      <th></th>\n",
       "      <th>Identificacion</th>\n",
       "      <th>Id_Estancia</th>\n",
       "      <th>Evolucion</th>\n",
       "      <th>Diagnostico</th>\n",
       "      <th>set</th>\n",
       "      <th>cleanEvolucion</th>\n",
       "    </tr>\n",
       "  </thead>\n",
       "  <tbody>\n",
       "    <tr>\n",
       "      <th>0</th>\n",
       "      <td>6512</td>\n",
       "      <td>40551</td>\n",
       "      <td>PACINETE QUIEN SE ENCUENTRA CON CUADRO CLINICO...</td>\n",
       "      <td>1.0</td>\n",
       "      <td>train</td>\n",
       "      <td>pacinete quien se encuentra con cuadro clinico...</td>\n",
       "    </tr>\n",
       "    <tr>\n",
       "      <th>1</th>\n",
       "      <td>6512</td>\n",
       "      <td>48953</td>\n",
       "      <td>MANUEL GUILLERMO BOLIVAR BOLIVARNota de Inbgre...</td>\n",
       "      <td>1.0</td>\n",
       "      <td>train</td>\n",
       "      <td>manuel guillermo bolivar bolivarnota de inbgre...</td>\n",
       "    </tr>\n",
       "    <tr>\n",
       "      <th>2</th>\n",
       "      <td>6512</td>\n",
       "      <td>54779</td>\n",
       "      <td>MANUEL GUILLERMO BOLIVAR BOLIVARINGRESO UCI NE...</td>\n",
       "      <td>1.0</td>\n",
       "      <td>train</td>\n",
       "      <td>manuel guillermo bolivar bolivaringreso uci ne...</td>\n",
       "    </tr>\n",
       "    <tr>\n",
       "      <th>3</th>\n",
       "      <td>34256</td>\n",
       "      <td>45181</td>\n",
       "      <td>PACIENTE CON HC Y DX ANOTADOS. INGRESA A LA UN...</td>\n",
       "      <td>1.0</td>\n",
       "      <td>test</td>\n",
       "      <td>paciente con hc y dx anotados. ingresa a la un...</td>\n",
       "    </tr>\n",
       "    <tr>\n",
       "      <th>4</th>\n",
       "      <td>38177</td>\n",
       "      <td>45032</td>\n",
       "      <td>PACIENTE CURSANDO CON BLOQUEO AV COMPLETO, SIN...</td>\n",
       "      <td>0.0</td>\n",
       "      <td>train</td>\n",
       "      <td>paciente cursando con bloqueo av completo, sin...</td>\n",
       "    </tr>\n",
       "  </tbody>\n",
       "</table>\n",
       "</div>"
      ],
      "text/plain": [
       "   Identificacion  Id_Estancia  \\\n",
       "0            6512        40551   \n",
       "1            6512        48953   \n",
       "2            6512        54779   \n",
       "3           34256        45181   \n",
       "4           38177        45032   \n",
       "\n",
       "                                           Evolucion  Diagnostico    set  \\\n",
       "0  PACINETE QUIEN SE ENCUENTRA CON CUADRO CLINICO...          1.0  train   \n",
       "1  MANUEL GUILLERMO BOLIVAR BOLIVARNota de Inbgre...          1.0  train   \n",
       "2  MANUEL GUILLERMO BOLIVAR BOLIVARINGRESO UCI NE...          1.0  train   \n",
       "3  PACIENTE CON HC Y DX ANOTADOS. INGRESA A LA UN...          1.0   test   \n",
       "4  PACIENTE CURSANDO CON BLOQUEO AV COMPLETO, SIN...          0.0  train   \n",
       "\n",
       "                                      cleanEvolucion  \n",
       "0  pacinete quien se encuentra con cuadro clinico...  \n",
       "1  manuel guillermo bolivar bolivarnota de inbgre...  \n",
       "2  manuel guillermo bolivar bolivaringreso uci ne...  \n",
       "3  paciente con hc y dx anotados. ingresa a la un...  \n",
       "4  paciente cursando con bloqueo av completo, sin...  "
      ]
     },
     "execution_count": 16,
     "metadata": {},
     "output_type": "execute_result"
    }
   ],
   "source": [
    "data.head()"
   ]
  },
  {
   "cell_type": "code",
   "execution_count": 117,
   "metadata": {},
   "outputs": [],
   "source": [
    "# takes a little bit of time\n",
    "data[['Ocurrencia','Frecuencia','Porcentaje_palabras']] = data.apply(lambda row: probability_of_disease(diagnosis=row['cleanEvolucion'], dic=dic),axis=1)\n"
   ]
  },
  {
   "cell_type": "code",
   "execution_count": 126,
   "metadata": {},
   "outputs": [],
   "source": [
    "normedData = data.Frecuencia/len(dic)"
   ]
  },
  {
   "cell_type": "code",
   "execution_count": 127,
   "metadata": {},
   "outputs": [],
   "source": [
    "normedData /= max(normedData)"
   ]
  },
  {
   "cell_type": "code",
   "execution_count": 130,
   "metadata": {},
   "outputs": [],
   "source": [
    "probs = normedData[data.set == 'test']"
   ]
  },
  {
   "cell_type": "code",
   "execution_count": 131,
   "metadata": {},
   "outputs": [],
   "source": [
    "anots = data[data.set=='test']['Diagnostico']"
   ]
  },
  {
   "cell_type": "code",
   "execution_count": 144,
   "metadata": {},
   "outputs": [
    {
     "data": {
      "image/png": "[encoded data removed]",
      "text/plain": [
       "<Figure size 432x288 with 1 Axes>"
      ]
     },
     "metadata": {},
     "output_type": "display_data"
    }
   ],
   "source": [
    "from sklearn.metrics import precision_recall_curve\n",
    "import matplotlib.pyplot as plt\n",
    "from inspect import signature\n",
    "\n",
    "precision, recall, _ = precision_recall_curve(anots, probs)\n",
    "f1 = 2*precision*recall/(precision+recall)\n",
    "maxF1 = max(f1)\n",
    "\n",
    "# In matplotlib < 1.5, plt.fill_between does not have a 'step' argument\n",
    "step_kwargs = ({'step': 'post'}\n",
    "               if 'step' in signature(plt.fill_between).parameters\n",
    "               else {})\n",
    "plt.step(recall, precision,\n",
    "         where='post')\n",
    "plt.fill_between(recall, precision, alpha=0.2, color='b', **step_kwargs)\n",
    "\n",
    "plt.xlabel('Recall')\n",
    "plt.ylabel('Precision')\n",
    "plt.ylim([0.0, 1.05])\n",
    "plt.xlim([0.0, 1.0])\n",
    "plt.title('2-class Precision-Recall curve: max f1 = {:.4f}'.format(maxF1))\n",
    "plt.savefig('./results/dictionaryClassification.png')"
   ]
  },
  {
   "cell_type": "code",
   "execution_count": 201,
   "metadata": {},
   "outputs": [],
   "source": [
    "\n",
    "import sys\n",
    "sys.path.insert(0, './models')\n",
    "\n",
    "from sklearn.feature_extraction.text import TfidfVectorizer, CountVectorizer\n",
    "from sklearn.feature_selection import SelectKBest, chi2\n",
    "from sklearn.pipeline import Pipeline\n",
    "from sklearn.naive_bayes import MultinomialNB\n",
    "from sklearn.externals import joblib\n",
    "from MarisaTfidfVectorizer import *\n",
    "\n",
    "\n",
    "\n",
    "best_params = {'f__k': 80000, 'v__max_features': 200000, 'v__ngram_range': (1, 6), 'c__alpha': 0.01}\n"
   ]
  },
  {
   "cell_type": "code",
   "execution_count": 202,
   "metadata": {},
   "outputs": [],
   "source": [
    "pipe = Pipeline([\n",
    "    ('v', TfidfVectorizer(\n",
    "        ngram_range=best_params['v__ngram_range'], \n",
    "        max_features=best_params['v__max_features'])),\n",
    "    ('f', SelectKBest(chi2, k=best_params['f__k'])),\n",
    "    ('c', MultinomialNB(alpha=0.01))\n",
    "])"
   ]
  },
  {
   "cell_type": "code",
   "execution_count": 203,
   "metadata": {},
   "outputs": [
    {
     "data": {
      "text/plain": [
       "Pipeline(memory=None,\n",
       "     steps=[('v', TfidfVectorizer(analyzer='word', binary=False, decode_error='strict',\n",
       "        dtype=<class 'numpy.int64'>, encoding='utf-8', input='content',\n",
       "        lowercase=True, max_df=1.0, max_features=200000, min_df=1,\n",
       "        ngram_range=(1, 6), norm='l2', preprocessor=None, smooth_idf=True,\n",
       "   ...ction chi2 at 0x7ff7a6cb6ae8>)), ('c', MultinomialNB(alpha=0.01, class_prior=None, fit_prior=True))])"
      ]
     },
     "execution_count": 203,
     "metadata": {},
     "output_type": "execute_result"
    }
   ],
   "source": [
    "pipe.fit(data[data.set=='train']['cleanEvolucion'],data[data.set=='train']['Diagnostico'])"
   ]
  },
  {
   "cell_type": "code",
   "execution_count": 204,
   "metadata": {},
   "outputs": [],
   "source": [
    "hardPreds = pipe.predict(data[data.set=='test']['cleanEvolucion'])"
   ]
  },
  {
   "cell_type": "code",
   "execution_count": 205,
   "metadata": {},
   "outputs": [],
   "source": [
    "probs = pipe.predict_proba(data[data.set=='test']['cleanEvolucion'])"
   ]
  },
  {
   "cell_type": "code",
   "execution_count": 206,
   "metadata": {},
   "outputs": [],
   "source": [
    "probs = probs[:,1]"
   ]
  },
  {
   "cell_type": "code",
   "execution_count": 207,
   "metadata": {},
   "outputs": [],
   "source": [
    "anots = data[data.set=='test']['Diagnostico']"
   ]
  },
  {
   "cell_type": "code",
   "execution_count": 208,
   "metadata": {},
   "outputs": [
    {
     "data": {
      "image/png": "[encoded data removed]",
      "text/plain": [
       "<Figure size 432x288 with 1 Axes>"
      ]
     },
     "metadata": {},
     "output_type": "display_data"
    }
   ],
   "source": [
    "from sklearn.metrics import precision_recall_curve\n",
    "import matplotlib.pyplot as plt\n",
    "from inspect import signature\n",
    "\n",
    "precision, recall, _ = precision_recall_curve(anots, probs)\n",
    "f1 = 2*precision*recall/(precision+recall)\n",
    "maxF1 = max(f1)\n",
    "\n",
    "# In matplotlib < 1.5, plt.fill_between does not have a 'step' argument\n",
    "step_kwargs = ({'step': 'post'}\n",
    "               if 'step' in signature(plt.fill_between).parameters\n",
    "               else {})\n",
    "plt.step(recall, precision,\n",
    "         where='post')\n",
    "plt.fill_between(recall, precision, alpha=0.2, color='b', **step_kwargs)\n",
    "\n",
    "plt.xlabel('Recall')\n",
    "plt.ylabel('Precision')\n",
    "plt.ylim([0.0, 1.05])\n",
    "plt.xlim([0.0, 1.0])\n",
    "plt.title('2-class Precision-Recall curve: max f1 = {:.4f}'.format(maxF1))\n",
    "plt.savefig('./results/dictionaryClassification.png')"
   ]
  },
  {
   "cell_type": "code",
   "execution_count": null,
   "metadata": {},
   "outputs": [],
   "source": []
  }
 ],
 "metadata": {
  "kernelspec": {
   "display_name": "Python 3",
   "language": "python",
   "name": "python3"
  },
  "language_info": {
   "codemirror_mode": {
    "name": "ipython",
    "version": 3
   },
   "file_extension": ".py",
   "mimetype": "text/x-python",
   "name": "python",
   "nbconvert_exporter": "python",
   "pygments_lexer": "ipython3",
   "version": "3.7.3"
  }
 },
 "nbformat": 4,
 "nbformat_minor": 4
}
