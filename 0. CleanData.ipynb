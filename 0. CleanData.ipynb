{
 "cells": [
  {
   "cell_type": "code",
   "execution_count": 1,
   "metadata": {},
   "outputs": [],
   "source": [
    "import pandas as pd \n",
    "import numpy as np "
   ]
  },
  {
   "cell_type": "code",
   "execution_count": null,
   "metadata": {},
   "outputs": [],
   "source": []
  },
  {
   "cell_type": "code",
   "execution_count": 3,
   "metadata": {},
   "outputs": [
    {
     "name": "stderr",
     "output_type": "stream",
     "text": [
      "/home/mauro/anaconda3/lib/python3.7/site-packages/IPython/core/interactiveshell.py:3058: DtypeWarning: Columns (12,13,14) have mixed types. Specify dtype option on import or set low_memory=False.\n",
      "  interactivity=interactivity, compiler=compiler, result=result)\n"
     ]
    }
   ],
   "source": [
    "# windows-1252 encoding\n",
    "data = pd.read_csv('./data/rawDataCategoricalAge.csv',encoding='cp1252')"
   ]
  },
  {
   "cell_type": "code",
   "execution_count": 4,
   "metadata": {},
   "outputs": [
    {
     "data": {
      "text/html": [
       "<div>\n",
       "<style scoped>\n",
       "    .dataframe tbody tr th:only-of-type {\n",
       "        vertical-align: middle;\n",
       "    }\n",
       "\n",
       "    .dataframe tbody tr th {\n",
       "        vertical-align: top;\n",
       "    }\n",
       "\n",
       "    .dataframe thead th {\n",
       "        text-align: right;\n",
       "    }\n",
       "</style>\n",
       "<table border=\"1\" class=\"dataframe\">\n",
       "  <thead>\n",
       "    <tr style=\"text-align: right;\">\n",
       "      <th></th>\n",
       "      <th>idGenero</th>\n",
       "      <th>edad_grupos</th>\n",
       "      <th>idEstadoCivil</th>\n",
       "      <th>idTipoAfiliacion</th>\n",
       "      <th>idNivelAfiliacion</th>\n",
       "      <th>fechaActividadA</th>\n",
       "      <th>fechaActividadM</th>\n",
       "      <th>Analisis</th>\n",
       "      <th>Medicion1_PA_Sistolica</th>\n",
       "      <th>Medicion2_PA_Diastolica</th>\n",
       "      <th>...</th>\n",
       "      <th>Medicion7_Talla</th>\n",
       "      <th>Medicion8_IMC</th>\n",
       "      <th>motivoPaciente</th>\n",
       "      <th>enfermedadActual</th>\n",
       "      <th>Zona1_Abdomen</th>\n",
       "      <th>Zona2_Cabeza_Cuello</th>\n",
       "      <th>Zona3_Cardio_Pulmonar</th>\n",
       "      <th>codigoDiagnostico</th>\n",
       "      <th>Plan_Manejo</th>\n",
       "      <th>Concepto</th>\n",
       "    </tr>\n",
       "  </thead>\n",
       "  <tbody>\n",
       "    <tr>\n",
       "      <td>0</td>\n",
       "      <td>1</td>\n",
       "      <td>1-67</td>\n",
       "      <td>9</td>\n",
       "      <td>2</td>\n",
       "      <td>5</td>\n",
       "      <td>2015</td>\n",
       "      <td>Mar</td>\n",
       "      <td>HIPERTENCION</td>\n",
       "      <td>138</td>\n",
       "      <td>82</td>\n",
       "      <td>...</td>\n",
       "      <td>175</td>\n",
       "      <td>28.73</td>\n",
       "      <td>CONTROL</td>\n",
       "      <td>PACIENTE DE 60 AÑOS DE EDAD CON DIAGNOSTICOS  ...</td>\n",
       "      <td>I</td>\n",
       "      <td>Sin alteraciones.</td>\n",
       "      <td>RSCS RIMTICOS SIN SOPLOS RSRS MURMULLO EVSICUL...</td>\n",
       "      <td>I10X</td>\n",
       "      <td>-  PROGRAMA CRONICOS  -  LOSARTAN 50 X 2  - HC...</td>\n",
       "      <td>PACIENTE DE 60 AÑOS DE EDAD CON DIAGNOSTICOS H...</td>\n",
       "    </tr>\n",
       "    <tr>\n",
       "      <td>1</td>\n",
       "      <td>2</td>\n",
       "      <td>78-84</td>\n",
       "      <td>1</td>\n",
       "      <td>2</td>\n",
       "      <td>5</td>\n",
       "      <td>2015</td>\n",
       "      <td>Mar</td>\n",
       "      <td>HIPERTENCION</td>\n",
       "      <td>187</td>\n",
       "      <td>64</td>\n",
       "      <td>...</td>\n",
       "      <td>132</td>\n",
       "      <td>30.42</td>\n",
       "      <td>\" TENEMOS EL CONTROL \"</td>\n",
       "      <td>PACIENTE DE 76 AÑOS  CON DIAGNOSTICO:   1. HIP...</td>\n",
       "      <td>I</td>\n",
       "      <td>Sin alteraciones.</td>\n",
       "      <td>RSRS SIN AGREGADOS RSCS RITMICOS SIN SOPLOS</td>\n",
       "      <td>I10X</td>\n",
       "      <td>- PROGRAMA CRONICOS. - ATORVASTATINA 20 MG DIA...</td>\n",
       "      <td>PACIENTE EN PROGRAMA CRONICO; CURSA CON HTA EN...</td>\n",
       "    </tr>\n",
       "    <tr>\n",
       "      <td>2</td>\n",
       "      <td>1</td>\n",
       "      <td>1-67</td>\n",
       "      <td>6</td>\n",
       "      <td>31</td>\n",
       "      <td>6</td>\n",
       "      <td>2015</td>\n",
       "      <td>Mar</td>\n",
       "      <td>APNEA</td>\n",
       "      <td>176</td>\n",
       "      <td>98</td>\n",
       "      <td>...</td>\n",
       "      <td>166</td>\n",
       "      <td>30.30</td>\n",
       "      <td>CONTROL OXIGENOREQUIRIENTE</td>\n",
       "      <td>PACIENTE MASCULINO 53 AÑOS CON DIAGNOSTICO DE:...</td>\n",
       "      <td>BLANDO DEPRESIBLE NO DLOROSO A LA PALPACIPON</td>\n",
       "      <td>MUCOSA ORAL HUMEDA  CUELLO NO IY NO SOPLOS</td>\n",
       "      <td>RUIDOS CARDIACOS RITMICOS  RUIDOS RESPIRATORIO...</td>\n",
       "      <td>G473</td>\n",
       "      <td>- OXIGENO POR CONCENTRADOR  USAR CON CANULA NA...</td>\n",
       "      <td>PACIENTE CON SAHOS EN MANEJO CON OXIGENOTERAPI...</td>\n",
       "    </tr>\n",
       "    <tr>\n",
       "      <td>3</td>\n",
       "      <td>1</td>\n",
       "      <td>68-77</td>\n",
       "      <td>9</td>\n",
       "      <td>31</td>\n",
       "      <td>6</td>\n",
       "      <td>2015</td>\n",
       "      <td>Mar</td>\n",
       "      <td>PULMONAR</td>\n",
       "      <td>88</td>\n",
       "      <td>60</td>\n",
       "      <td>...</td>\n",
       "      <td>168</td>\n",
       "      <td>26.57</td>\n",
       "      <td>CONTROL NO OXIGENO TERAPIA CAPITAL SALUD.</td>\n",
       "      <td>PACIENTE MASCULINO 68 AÑOS CON DIAGNOSTICOS DE...</td>\n",
       "      <td>BLANDO</td>\n",
       "      <td>SIN CIANOSIS</td>\n",
       "      <td>RUIDOS CARDIACOS RITMICOS SIN SOPLOS  RUIDOS R...</td>\n",
       "      <td>J449</td>\n",
       "      <td>- NO OXIGENORREQUIRIENTE - ACETAMINOFEN SI DOL...</td>\n",
       "      <td>PACIENTE MASCULINO CON DIAGNÓSTICOS ANOTADOS C...</td>\n",
       "    </tr>\n",
       "    <tr>\n",
       "      <td>4</td>\n",
       "      <td>2</td>\n",
       "      <td>&gt;84</td>\n",
       "      <td>9</td>\n",
       "      <td>2</td>\n",
       "      <td>5</td>\n",
       "      <td>2015</td>\n",
       "      <td>Mar</td>\n",
       "      <td>PULMONAR</td>\n",
       "      <td>145</td>\n",
       "      <td>72</td>\n",
       "      <td>...</td>\n",
       "      <td>138</td>\n",
       "      <td>23.63</td>\n",
       "      <td>\" TENEMOS EL CONTROL \"</td>\n",
       "      <td>PACIENTE DE 83 AÑOS CON DIAGNOSTICOS DE:   1. ...</td>\n",
       "      <td>I</td>\n",
       "      <td>Sin alteraciones.</td>\n",
       "      <td>I</td>\n",
       "      <td>J449</td>\n",
       "      <td>- PROGRAMA NO OXIGENOTERAPIA DOMICILIARIA.   -...</td>\n",
       "      <td>PACIENTE CON EPOC GRUPO A SIN SIGNOS D DESCOMP...</td>\n",
       "    </tr>\n",
       "  </tbody>\n",
       "</table>\n",
       "<p>5 rows × 24 columns</p>\n",
       "</div>"
      ],
      "text/plain": [
       "   idGenero edad_grupos  idEstadoCivil  idTipoAfiliacion  idNivelAfiliacion  \\\n",
       "0         1        1-67              9                 2                  5   \n",
       "1         2       78-84              1                 2                  5   \n",
       "2         1        1-67              6                31                  6   \n",
       "3         1       68-77              9                31                  6   \n",
       "4         2         >84              9                 2                  5   \n",
       "\n",
       "   fechaActividadA fechaActividadM      Analisis  Medicion1_PA_Sistolica  \\\n",
       "0             2015             Mar  HIPERTENCION                     138   \n",
       "1             2015             Mar  HIPERTENCION                     187   \n",
       "2             2015             Mar         APNEA                     176   \n",
       "3             2015             Mar      PULMONAR                      88   \n",
       "4             2015             Mar      PULMONAR                     145   \n",
       "\n",
       "   Medicion2_PA_Diastolica  ...  Medicion7_Talla  Medicion8_IMC  \\\n",
       "0                       82  ...              175          28.73   \n",
       "1                       64  ...              132          30.42   \n",
       "2                       98  ...              166          30.30   \n",
       "3                       60  ...              168          26.57   \n",
       "4                       72  ...              138          23.63   \n",
       "\n",
       "                               motivoPaciente  \\\n",
       "0                                     CONTROL   \n",
       "1                     \" TENEMOS EL CONTROL \"    \n",
       "2                  CONTROL OXIGENOREQUIRIENTE   \n",
       "3  CONTROL NO OXIGENO TERAPIA CAPITAL SALUD.    \n",
       "4                     \" TENEMOS EL CONTROL \"    \n",
       "\n",
       "                                    enfermedadActual  \\\n",
       "0  PACIENTE DE 60 AÑOS DE EDAD CON DIAGNOSTICOS  ...   \n",
       "1  PACIENTE DE 76 AÑOS  CON DIAGNOSTICO:   1. HIP...   \n",
       "2  PACIENTE MASCULINO 53 AÑOS CON DIAGNOSTICO DE:...   \n",
       "3  PACIENTE MASCULINO 68 AÑOS CON DIAGNOSTICOS DE...   \n",
       "4  PACIENTE DE 83 AÑOS CON DIAGNOSTICOS DE:   1. ...   \n",
       "\n",
       "                                   Zona1_Abdomen  \\\n",
       "0                                              I   \n",
       "1                                              I   \n",
       "2  BLANDO DEPRESIBLE NO DLOROSO A LA PALPACIPON    \n",
       "3                                        BLANDO    \n",
       "4                                              I   \n",
       "\n",
       "                          Zona2_Cabeza_Cuello  \\\n",
       "0                           Sin alteraciones.   \n",
       "1                           Sin alteraciones.   \n",
       "2  MUCOSA ORAL HUMEDA  CUELLO NO IY NO SOPLOS   \n",
       "3                               SIN CIANOSIS    \n",
       "4                           Sin alteraciones.   \n",
       "\n",
       "                               Zona3_Cardio_Pulmonar codigoDiagnostico  \\\n",
       "0  RSCS RIMTICOS SIN SOPLOS RSRS MURMULLO EVSICUL...              I10X   \n",
       "1        RSRS SIN AGREGADOS RSCS RITMICOS SIN SOPLOS              I10X   \n",
       "2  RUIDOS CARDIACOS RITMICOS  RUIDOS RESPIRATORIO...              G473   \n",
       "3  RUIDOS CARDIACOS RITMICOS SIN SOPLOS  RUIDOS R...              J449   \n",
       "4                                                  I              J449   \n",
       "\n",
       "                                         Plan_Manejo  \\\n",
       "0  -  PROGRAMA CRONICOS  -  LOSARTAN 50 X 2  - HC...   \n",
       "1  - PROGRAMA CRONICOS. - ATORVASTATINA 20 MG DIA...   \n",
       "2  - OXIGENO POR CONCENTRADOR  USAR CON CANULA NA...   \n",
       "3  - NO OXIGENORREQUIRIENTE - ACETAMINOFEN SI DOL...   \n",
       "4  - PROGRAMA NO OXIGENOTERAPIA DOMICILIARIA.   -...   \n",
       "\n",
       "                                            Concepto  \n",
       "0  PACIENTE DE 60 AÑOS DE EDAD CON DIAGNOSTICOS H...  \n",
       "1  PACIENTE EN PROGRAMA CRONICO; CURSA CON HTA EN...  \n",
       "2  PACIENTE CON SAHOS EN MANEJO CON OXIGENOTERAPI...  \n",
       "3  PACIENTE MASCULINO CON DIAGNÓSTICOS ANOTADOS C...  \n",
       "4  PACIENTE CON EPOC GRUPO A SIN SIGNOS D DESCOMP...  \n",
       "\n",
       "[5 rows x 24 columns]"
      ]
     },
     "execution_count": 4,
     "metadata": {},
     "output_type": "execute_result"
    }
   ],
   "source": [
    "data.head()"
   ]
  },
  {
   "cell_type": "code",
   "execution_count": 22,
   "metadata": {},
   "outputs": [
    {
     "data": {
      "text/plain": [
       "45234     Normal\n",
       "45235     Normal\n",
       "45243     Normal\n",
       "45245     Normal\n",
       "45251     Normal\n",
       "           ...  \n",
       "101110    Normal\n",
       "101111    Normal\n",
       "101113    Normal\n",
       "101114    Normal\n",
       "101115    Normal\n",
       "Name: Zona1_Abdomen, Length: 39156, dtype: object"
      ]
     },
     "execution_count": 22,
     "metadata": {},
     "output_type": "execute_result"
    }
   ],
   "source": [
    "data[data.Zona1_Abdomen=='Normal'].Zona1_Abdomen"
   ]
  },
  {
   "cell_type": "code",
   "execution_count": 17,
   "metadata": {},
   "outputs": [
    {
     "data": {
      "text/plain": [
       "(101116, 25)"
      ]
     },
     "execution_count": 17,
     "metadata": {},
     "output_type": "execute_result"
    }
   ],
   "source": [
    "data.shape"
   ]
  },
  {
   "cell_type": "code",
   "execution_count": 23,
   "metadata": {},
   "outputs": [
    {
     "data": {
      "text/plain": [
       "44592"
      ]
     },
     "execution_count": 23,
     "metadata": {},
     "output_type": "execute_result"
    }
   ],
   "source": [
    "101116-17368-39156"
   ]
  },
  {
   "cell_type": "code",
   "execution_count": 9,
   "metadata": {},
   "outputs": [],
   "source": [
    "data[\"id\"] = data.index + 1"
   ]
  },
  {
   "cell_type": "code",
   "execution_count": 11,
   "metadata": {},
   "outputs": [],
   "source": [
    "data['Medicion5_Temperatura'] = data['Medicion5_Temperatura'].astype(str).str.replace(',','.')\n",
    "data['Medicion6_Peso'] = data['Medicion6_Peso'].astype(str).str.replace(',','.')\n",
    "data['Medicion7_Talla'] = data['Medicion7_Talla'].astype(str).str.replace(',','.')"
   ]
  },
  {
   "cell_type": "code",
   "execution_count": 13,
   "metadata": {},
   "outputs": [],
   "source": [
    "data[['Medicion5_Temperatura','Medicion6_Peso','Medicion7_Talla']] = data[['Medicion5_Temperatura','Medicion6_Peso','Medicion7_Talla']].apply(pd.to_numeric)"
   ]
  },
  {
   "cell_type": "code",
   "execution_count": 14,
   "metadata": {},
   "outputs": [
    {
     "data": {
      "text/plain": [
       "idGenero                           int64\n",
       "edad_grupos                       object\n",
       "idEstadoCivil                      int64\n",
       "idTipoAfiliacion                   int64\n",
       "idNivelAfiliacion                  int64\n",
       "fechaActividadA                    int64\n",
       "fechaActividadM                   object\n",
       "Analisis                          object\n",
       "Medicion1_PA_Sistolica             int64\n",
       "Medicion2_PA_Diastolica            int64\n",
       "Medicion3_Frecuencia_cardiaca      int64\n",
       "Medicion4_Frec_Respiratoria        int64\n",
       "Medicion5_Temperatura            float64\n",
       "Medicion6_Peso                   float64\n",
       "Medicion7_Talla                  float64\n",
       "Medicion8_IMC                    float64\n",
       "motivoPaciente                    object\n",
       "enfermedadActual                  object\n",
       "Zona1_Abdomen                     object\n",
       "Zona2_Cabeza_Cuello               object\n",
       "Zona3_Cardio_Pulmonar             object\n",
       "codigoDiagnostico                 object\n",
       "Plan_Manejo                       object\n",
       "Concepto                          object\n",
       "id                                 int64\n",
       "dtype: object"
      ]
     },
     "execution_count": 14,
     "metadata": {},
     "output_type": "execute_result"
    }
   ],
   "source": [
    "data.dtypes"
   ]
  },
  {
   "cell_type": "code",
   "execution_count": 24,
   "metadata": {},
   "outputs": [],
   "source": [
    "data = data.drop(['idTipoAfiliacion', 'idNivelAfiliacion','fechaActividadA','fechaActividadM','Zona1_Abdomen','Plan_Manejo'], axis=1)"
   ]
  },
  {
   "cell_type": "code",
   "execution_count": 26,
   "metadata": {},
   "outputs": [
    {
     "ename": "ValueError",
     "evalue": "Item wrong length 19 instead of 101116.",
     "output_type": "error",
     "traceback": [
      "\u001b[0;31m---------------------------------------------------------------------------\u001b[0m",
      "\u001b[0;31mValueError\u001b[0m                                Traceback (most recent call last)",
      "\u001b[0;32m<ipython-input-26-437bbd50488d>\u001b[0m in \u001b[0;36m<module>\u001b[0;34m\u001b[0m\n\u001b[0;32m----> 1\u001b[0;31m \u001b[0mdata\u001b[0m\u001b[0;34m[\u001b[0m\u001b[0mdata\u001b[0m\u001b[0;34m.\u001b[0m\u001b[0mcolumns\u001b[0m\u001b[0;34m.\u001b[0m\u001b[0misin\u001b[0m\u001b[0;34m(\u001b[0m\u001b[0;34m[\u001b[0m\u001b[0;34m'motivoPaciente'\u001b[0m\u001b[0;34m,\u001b[0m\u001b[0;34m'enfermedadActual'\u001b[0m\u001b[0;34m,\u001b[0m\u001b[0;34m'Zona2_Cabeza_Cuello'\u001b[0m\u001b[0;34m,\u001b[0m\u001b[0;34m'Zona3_Cardio_Pulmonar'\u001b[0m\u001b[0;34m,\u001b[0m\u001b[0;34m'Concepto'\u001b[0m\u001b[0;34m]\u001b[0m\u001b[0;34m)\u001b[0m\u001b[0;34m]\u001b[0m\u001b[0;34m\u001b[0m\u001b[0;34m\u001b[0m\u001b[0m\n\u001b[0m",
      "\u001b[0;32m~/anaconda3/lib/python3.7/site-packages/pandas/core/frame.py\u001b[0m in \u001b[0;36m__getitem__\u001b[0;34m(self, key)\u001b[0m\n\u001b[1;32m   2969\u001b[0m         \u001b[0;31m# Do we have a (boolean) 1d indexer?\u001b[0m\u001b[0;34m\u001b[0m\u001b[0;34m\u001b[0m\u001b[0;34m\u001b[0m\u001b[0m\n\u001b[1;32m   2970\u001b[0m         \u001b[0;32mif\u001b[0m \u001b[0mcom\u001b[0m\u001b[0;34m.\u001b[0m\u001b[0mis_bool_indexer\u001b[0m\u001b[0;34m(\u001b[0m\u001b[0mkey\u001b[0m\u001b[0;34m)\u001b[0m\u001b[0;34m:\u001b[0m\u001b[0;34m\u001b[0m\u001b[0;34m\u001b[0m\u001b[0m\n\u001b[0;32m-> 2971\u001b[0;31m             \u001b[0;32mreturn\u001b[0m \u001b[0mself\u001b[0m\u001b[0;34m.\u001b[0m\u001b[0m_getitem_bool_array\u001b[0m\u001b[0;34m(\u001b[0m\u001b[0mkey\u001b[0m\u001b[0;34m)\u001b[0m\u001b[0;34m\u001b[0m\u001b[0;34m\u001b[0m\u001b[0m\n\u001b[0m\u001b[1;32m   2972\u001b[0m \u001b[0;34m\u001b[0m\u001b[0m\n\u001b[1;32m   2973\u001b[0m         \u001b[0;31m# We are left with two options: a single key, and a collection of keys,\u001b[0m\u001b[0;34m\u001b[0m\u001b[0;34m\u001b[0m\u001b[0;34m\u001b[0m\u001b[0m\n",
      "\u001b[0;32m~/anaconda3/lib/python3.7/site-packages/pandas/core/frame.py\u001b[0m in \u001b[0;36m_getitem_bool_array\u001b[0;34m(self, key)\u001b[0m\n\u001b[1;32m   3016\u001b[0m         \u001b[0;32melif\u001b[0m \u001b[0mlen\u001b[0m\u001b[0;34m(\u001b[0m\u001b[0mkey\u001b[0m\u001b[0;34m)\u001b[0m \u001b[0;34m!=\u001b[0m \u001b[0mlen\u001b[0m\u001b[0;34m(\u001b[0m\u001b[0mself\u001b[0m\u001b[0;34m.\u001b[0m\u001b[0mindex\u001b[0m\u001b[0;34m)\u001b[0m\u001b[0;34m:\u001b[0m\u001b[0;34m\u001b[0m\u001b[0;34m\u001b[0m\u001b[0m\n\u001b[1;32m   3017\u001b[0m             raise ValueError(\n\u001b[0;32m-> 3018\u001b[0;31m                 \u001b[0;34m\"Item wrong length %d instead of %d.\"\u001b[0m \u001b[0;34m%\u001b[0m \u001b[0;34m(\u001b[0m\u001b[0mlen\u001b[0m\u001b[0;34m(\u001b[0m\u001b[0mkey\u001b[0m\u001b[0;34m)\u001b[0m\u001b[0;34m,\u001b[0m \u001b[0mlen\u001b[0m\u001b[0;34m(\u001b[0m\u001b[0mself\u001b[0m\u001b[0;34m.\u001b[0m\u001b[0mindex\u001b[0m\u001b[0;34m)\u001b[0m\u001b[0;34m)\u001b[0m\u001b[0;34m\u001b[0m\u001b[0;34m\u001b[0m\u001b[0m\n\u001b[0m\u001b[1;32m   3019\u001b[0m             )\n\u001b[1;32m   3020\u001b[0m \u001b[0;34m\u001b[0m\u001b[0m\n",
      "\u001b[0;31mValueError\u001b[0m: Item wrong length 19 instead of 101116."
     ]
    }
   ],
   "source": [
    "data[data.columns.isin(['motivoPaciente','enfermedadActual','Zona2_Cabeza_Cuello','Zona3_Cardio_Pulmonar','Concepto'])]"
   ]
  },
  {
   "cell_type": "code",
   "execution_count": 27,
   "metadata": {},
   "outputs": [
    {
     "data": {
      "text/plain": [
       "Index(['idGenero', 'edad_grupos', 'idEstadoCivil', 'Analisis',\n",
       "       'Medicion1_PA_Sistolica', 'Medicion2_PA_Diastolica',\n",
       "       'Medicion3_Frecuencia_cardiaca', 'Medicion4_Frec_Respiratoria',\n",
       "       'Medicion5_Temperatura', 'Medicion6_Peso', 'Medicion7_Talla',\n",
       "       'Medicion8_IMC', 'motivoPaciente', 'enfermedadActual',\n",
       "       'Zona2_Cabeza_Cuello', 'Zona3_Cardio_Pulmonar', 'codigoDiagnostico',\n",
       "       'Concepto', 'id'],\n",
       "      dtype='object')"
      ]
     },
     "execution_count": 27,
     "metadata": {},
     "output_type": "execute_result"
    }
   ],
   "source": [
    "data.columns"
   ]
  },
  {
   "cell_type": "code",
   "execution_count": 31,
   "metadata": {},
   "outputs": [],
   "source": [
    "data[['idGenero', 'edad_grupos', 'idEstadoCivil',\n",
    "       'Medicion1_PA_Sistolica', 'Medicion2_PA_Diastolica',\n",
    "       'Medicion3_Frecuencia_cardiaca', 'Medicion4_Frec_Respiratoria',\n",
    "       'Medicion5_Temperatura', 'Medicion6_Peso', 'Medicion7_Talla',\n",
    "       'Medicion8_IMC', 'id']].to_csv('withoutText.csv',encoding='utf8')"
   ]
  },
  {
   "cell_type": "code",
   "execution_count": null,
   "metadata": {},
   "outputs": [],
   "source": []
  }
 ],
 "metadata": {
  "kernelspec": {
   "display_name": "Python 3",
   "language": "python",
   "name": "python3"
  },
  "language_info": {
   "codemirror_mode": {
    "name": "ipython",
    "version": 3
   },
   "file_extension": ".py",
   "mimetype": "text/x-python",
   "name": "python",
   "nbconvert_exporter": "python",
   "pygments_lexer": "ipython3",
   "version": "3.7.3"
  }
 },
 "nbformat": 4,
 "nbformat_minor": 4
}
