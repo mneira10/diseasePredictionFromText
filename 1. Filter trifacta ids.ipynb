{
 "cells": [
  {
   "cell_type": "code",
   "execution_count": 24,
   "metadata": {},
   "outputs": [],
   "source": [
    "import pandas as pd\n",
    "import numpy as np\n",
    "import matplotlib.pyplot as plt\n",
    "np.random.seed(0)\n",
    "import tqdm "
   ]
  },
  {
   "cell_type": "markdown",
   "metadata": {},
   "source": [
    "# Cargar datos pre-limpiados (output de 0. CleanData)"
   ]
  },
  {
   "cell_type": "code",
   "execution_count": 25,
   "metadata": {},
   "outputs": [
    {
     "name": "stderr",
     "output_type": "stream",
     "text": [
      "/home/mauro/anaconda3/lib/python3.7/site-packages/IPython/core/interactiveshell.py:3058: DtypeWarning: Columns (12,13,14) have mixed types. Specify dtype option on import or set low_memory=False.\n",
      "  interactivity=interactivity, compiler=compiler, result=result)\n"
     ]
    }
   ],
   "source": [
    "data = pd.read_csv('./data/rawDataCategoricalAge.csv',encoding='cp1252')\n",
    "data[\"id\"] = data.index + 1"
   ]
  },
  {
   "cell_type": "markdown",
   "metadata": {},
   "source": [
    "Los datos tienen extremos que no representan valores válidos."
   ]
  },
  {
   "cell_type": "code",
   "execution_count": 26,
   "metadata": {},
   "outputs": [
    {
     "data": {
      "text/plain": [
       "Index(['idGenero', 'edad_grupos', 'idEstadoCivil', 'idTipoAfiliacion',\n",
       "       'idNivelAfiliacion', 'fechaActividadA', 'fechaActividadM', 'Analisis',\n",
       "       'Medicion1_PA_Sistolica', 'Medicion2_PA_Diastolica',\n",
       "       'Medicion3_Frecuencia_cardiaca', 'Medicion4_Frec_Respiratoria',\n",
       "       'Medicion5_Temperatura', 'Medicion6_Peso', 'Medicion7_Talla',\n",
       "       'Medicion8_IMC', 'motivoPaciente', 'enfermedadActual', 'Zona1_Abdomen',\n",
       "       'Zona2_Cabeza_Cuello', 'Zona3_Cardio_Pulmonar', 'codigoDiagnostico',\n",
       "       'Plan_Manejo', 'Concepto', 'id'],\n",
       "      dtype='object')"
      ]
     },
     "execution_count": 26,
     "metadata": {},
     "output_type": "execute_result"
    }
   ],
   "source": [
    "data.columns"
   ]
  },
  {
   "cell_type": "code",
   "execution_count": 27,
   "metadata": {},
   "outputs": [],
   "source": [
    "data = data.drop(['idTipoAfiliacion','idNivelAfiliacion','fechaActividadA','fechaActividadM','Zona1_Abdomen','Plan_Manejo'],axis=1)"
   ]
  },
  {
   "cell_type": "code",
   "execution_count": 28,
   "metadata": {},
   "outputs": [],
   "source": [
    "data['Medicion5_Temperatura'] = data['Medicion5_Temperatura'].astype(str).str.replace(',','.')\n",
    "data['Medicion6_Peso'] = data['Medicion6_Peso'].astype(str).str.replace(',','.')\n",
    "data['Medicion7_Talla'] = data['Medicion7_Talla'].astype(str).str.replace(',','.')"
   ]
  },
  {
   "cell_type": "code",
   "execution_count": 29,
   "metadata": {},
   "outputs": [
    {
     "data": {
      "text/plain": [
       "Index(['idGenero', 'edad_grupos', 'idEstadoCivil', 'Analisis',\n",
       "       'Medicion1_PA_Sistolica', 'Medicion2_PA_Diastolica',\n",
       "       'Medicion3_Frecuencia_cardiaca', 'Medicion4_Frec_Respiratoria',\n",
       "       'Medicion5_Temperatura', 'Medicion6_Peso', 'Medicion7_Talla',\n",
       "       'Medicion8_IMC', 'motivoPaciente', 'enfermedadActual',\n",
       "       'Zona2_Cabeza_Cuello', 'Zona3_Cardio_Pulmonar', 'codigoDiagnostico',\n",
       "       'Concepto', 'id'],\n",
       "      dtype='object')"
      ]
     },
     "execution_count": 29,
     "metadata": {},
     "output_type": "execute_result"
    }
   ],
   "source": [
    "data.columns"
   ]
  },
  {
   "cell_type": "code",
   "execution_count": 30,
   "metadata": {},
   "outputs": [
    {
     "name": "stdout",
     "output_type": "stream",
     "text": [
      "(101116, 19)\n"
     ]
    },
    {
     "data": {
      "text/plain": [
       "<matplotlib.axes._subplots.AxesSubplot at 0x7f7421c35dd8>"
      ]
     },
     "execution_count": 30,
     "metadata": {},
     "output_type": "execute_result"
    },
    {
     "data": {
      "image/png": "[encoded data removed]",
      "text/plain": [
       "<Figure size 432x288 with 1 Axes>"
      ]
     },
     "metadata": {
      "needs_background": "light"
     },
     "output_type": "display_data"
    }
   ],
   "source": [
    "print(data.shape)\n",
    "data.Medicion1_PA_Sistolica.hist()"
   ]
  },
  {
   "cell_type": "markdown",
   "metadata": {},
   "source": [
    "# Carguemos los ids filtrados de trifacta y filtremos todo el dataframe"
   ]
  },
  {
   "cell_type": "code",
   "execution_count": 33,
   "metadata": {},
   "outputs": [],
   "source": [
    "cleanIds = pd.read_csv('./data/Rodrigo.csv')"
   ]
  },
  {
   "cell_type": "code",
   "execution_count": 34,
   "metadata": {},
   "outputs": [],
   "source": [
    "cleanData = data[data.id.isin(cleanIds.id)]"
   ]
  },
  {
   "cell_type": "markdown",
   "metadata": {},
   "source": [
    "Los datos ya NO TIIENEN extremos; se pueden usar para clasificar"
   ]
  },
  {
   "cell_type": "code",
   "execution_count": 35,
   "metadata": {},
   "outputs": [
    {
     "name": "stdout",
     "output_type": "stream",
     "text": [
      "(96567, 19)\n"
     ]
    },
    {
     "data": {
      "text/plain": [
       "<matplotlib.axes._subplots.AxesSubplot at 0x7f742ed77320>"
      ]
     },
     "execution_count": 35,
     "metadata": {},
     "output_type": "execute_result"
    },
    {
     "data": {
      "image/png": "[encoded data removed]",
      "text/plain": [
       "<Figure size 432x288 with 1 Axes>"
      ]
     },
     "metadata": {
      "needs_background": "light"
     },
     "output_type": "display_data"
    }
   ],
   "source": [
    "print(cleanData.shape)\n",
    "cleanData.Medicion1_PA_Sistolica.hist()"
   ]
  },
  {
   "cell_type": "markdown",
   "metadata": {},
   "source": [
    "# Particion de datos en train y test"
   ]
  },
  {
   "cell_type": "code",
   "execution_count": 36,
   "metadata": {},
   "outputs": [],
   "source": [
    "def splitTrainTest(dataframe):\n",
    "    #create output dataframes\n",
    "    test = pd.DataFrame(columns = dataframe.columns)\n",
    "\n",
    "    train = pd.DataFrame(columns = dataframe.columns)\n",
    "    \n",
    "    for uClass in dataframe.Analisis.unique():\n",
    "        #get each class \n",
    "        classDf = dataframe[dataframe.Analisis == uClass]\n",
    "        \n",
    "        # randomly choose 25% of indices \n",
    "        ids = [x for x in range(classDf.shape[0])]\n",
    "        testInd = np.random.choice(ids, int(0.25*len(ids)),replace=False)\n",
    "        \n",
    "        trainInd = list(set(ids)-set(testInd))\n",
    "\n",
    "        #get dataframes\n",
    "        test = pd.concat([test,classDf.iloc[testInd]])\n",
    "        \n",
    "        train = pd.concat([train,classDf.iloc[trainInd]])\n",
    "\n",
    "    return train,test"
   ]
  },
  {
   "cell_type": "code",
   "execution_count": 37,
   "metadata": {},
   "outputs": [],
   "source": [
    "train,test = splitTrainTest(cleanData)\n"
   ]
  },
  {
   "cell_type": "code",
   "execution_count": 38,
   "metadata": {},
   "outputs": [
    {
     "data": {
      "text/plain": [
       "Text(0.5, 1.0, 'Train')"
      ]
     },
     "execution_count": 38,
     "metadata": {},
     "output_type": "execute_result"
    },
    {
     "data": {
      "image/png": "[encoded data removed]",
      "text/plain": [
       "<Figure size 432x288 with 1 Axes>"
      ]
     },
     "metadata": {
      "needs_background": "light"
     },
     "output_type": "display_data"
    }
   ],
   "source": [
    "train.Analisis.hist()\n",
    "plt.title('Train')"
   ]
  },
  {
   "cell_type": "code",
   "execution_count": 39,
   "metadata": {},
   "outputs": [
    {
     "data": {
      "text/plain": [
       "Text(0.5, 1.0, 'Test')"
      ]
     },
     "execution_count": 39,
     "metadata": {},
     "output_type": "execute_result"
    },
    {
     "data": {
      "image/png": "[encoded data removed]",
      "text/plain": [
       "<Figure size 432x288 with 1 Axes>"
      ]
     },
     "metadata": {
      "needs_background": "light"
     },
     "output_type": "display_data"
    }
   ],
   "source": [
    "test.Analisis.hist()\n",
    "plt.title('Test')"
   ]
  },
  {
   "cell_type": "code",
   "execution_count": 40,
   "metadata": {},
   "outputs": [],
   "source": [
    "train['original'] = True\n",
    "test['original'] = True"
   ]
  },
  {
   "cell_type": "markdown",
   "metadata": {},
   "source": [
    "# Balanceo de clases en conjunto de entrenamiento - repitiendo entradas"
   ]
  },
  {
   "cell_type": "markdown",
   "metadata": {},
   "source": [
    "Enfermedad PULMONAR tiene demasiadas entradas, recotamos en 15k y aumentamos el resto de las clases para que tengan la misma representacion. 15k es un corte arbitrario. Se pueden explorar otros umbrales. "
   ]
  },
  {
   "cell_type": "code",
   "execution_count": 41,
   "metadata": {},
   "outputs": [],
   "source": [
    " def oversample(dataframe, oversampleThreshold):\n",
    "        \n",
    "    ans = pd.DataFrame(columns=dataframe.columns)\n",
    "    \n",
    "    for uClass in tqdm.tqdm(dataframe.Analisis.unique()):\n",
    "        #get each class \n",
    "        classDf = dataframe[dataframe.Analisis == uClass]\n",
    "        ids = classDf.id\n",
    "        \n",
    "        if classDf.shape[0]< oversampleThreshold:\n",
    "            \n",
    "            while(classDf.shape[0]<oversampleThreshold):\n",
    "                missing = oversampleThreshold-classDf.shape[0]\n",
    "                if missing>=classDf[classDf.original==True].shape[0]:\n",
    "                    sample = classDf[classDf.original==True].copy()\n",
    "                    sample['original']= False\n",
    "                    classDf = pd.concat([classDf,sample])\n",
    "                else:\n",
    "                    sample = classDf[classDf.original==True].sample(n=int(missing), random_state=1,replace=False)\n",
    "                    sample['original']= False\n",
    "                    classDf = pd.concat([classDf,sample])\n",
    "                    \n",
    "            \n",
    "        elif classDf.shape[0]> oversampleThreshold:\n",
    "            newIds = np.random.choice(ids, int(oversampleThreshold),replace=False)\n",
    "            classDf = classDf[classDf.id.isin(newIds)]\n",
    "\n",
    "        #get dataframes\n",
    "        ans = pd.concat([ans,classDf])\n",
    "        \n",
    "\n",
    "    return ans"
   ]
  },
  {
   "cell_type": "code",
   "execution_count": 42,
   "metadata": {},
   "outputs": [
    {
     "name": "stderr",
     "output_type": "stream",
     "text": [
      "100%|██████████| 5/5 [00:00<00:00,  5.11it/s]\n"
     ]
    }
   ],
   "source": [
    "oversampledTrainData = oversample(train, 15e3)"
   ]
  },
  {
   "cell_type": "code",
   "execution_count": 43,
   "metadata": {},
   "outputs": [
    {
     "data": {
      "text/plain": [
       "<matplotlib.axes._subplots.AxesSubplot at 0x7f74281ec2e8>"
      ]
     },
     "execution_count": 43,
     "metadata": {},
     "output_type": "execute_result"
    },
    {
     "data": {
      "image/png": "[encoded data removed]",
      "text/plain": [
       "<Figure size 432x288 with 1 Axes>"
      ]
     },
     "metadata": {
      "needs_background": "light"
     },
     "output_type": "display_data"
    }
   ],
   "source": [
    "oversampledTrainData.Analisis.hist()"
   ]
  },
  {
   "cell_type": "code",
   "execution_count": 44,
   "metadata": {},
   "outputs": [],
   "source": [
    "train['dataset'] = 'train'\n",
    "test['dataset'] = 'test'\n",
    "allData = pd.concat([train,test])"
   ]
  },
  {
   "cell_type": "code",
   "execution_count": 45,
   "metadata": {},
   "outputs": [
    {
     "data": {
      "text/html": [
       "<div>\n",
       "<style scoped>\n",
       "    .dataframe tbody tr th:only-of-type {\n",
       "        vertical-align: middle;\n",
       "    }\n",
       "\n",
       "    .dataframe tbody tr th {\n",
       "        vertical-align: top;\n",
       "    }\n",
       "\n",
       "    .dataframe thead th {\n",
       "        text-align: right;\n",
       "    }\n",
       "</style>\n",
       "<table border=\"1\" class=\"dataframe\">\n",
       "  <thead>\n",
       "    <tr style=\"text-align: right;\">\n",
       "      <th></th>\n",
       "      <th>idGenero</th>\n",
       "      <th>edad_grupos</th>\n",
       "      <th>idEstadoCivil</th>\n",
       "      <th>Analisis</th>\n",
       "      <th>Medicion1_PA_Sistolica</th>\n",
       "      <th>Medicion2_PA_Diastolica</th>\n",
       "      <th>Medicion3_Frecuencia_cardiaca</th>\n",
       "      <th>Medicion4_Frec_Respiratoria</th>\n",
       "      <th>Medicion5_Temperatura</th>\n",
       "      <th>Medicion6_Peso</th>\n",
       "      <th>...</th>\n",
       "      <th>Medicion8_IMC</th>\n",
       "      <th>motivoPaciente</th>\n",
       "      <th>enfermedadActual</th>\n",
       "      <th>Zona2_Cabeza_Cuello</th>\n",
       "      <th>Zona3_Cardio_Pulmonar</th>\n",
       "      <th>codigoDiagnostico</th>\n",
       "      <th>Concepto</th>\n",
       "      <th>id</th>\n",
       "      <th>original</th>\n",
       "      <th>dataset</th>\n",
       "    </tr>\n",
       "  </thead>\n",
       "  <tbody>\n",
       "    <tr>\n",
       "      <td>0</td>\n",
       "      <td>1</td>\n",
       "      <td>1-67</td>\n",
       "      <td>9</td>\n",
       "      <td>HIPERTENCION</td>\n",
       "      <td>138</td>\n",
       "      <td>82</td>\n",
       "      <td>64</td>\n",
       "      <td>19</td>\n",
       "      <td>36.3</td>\n",
       "      <td>88</td>\n",
       "      <td>...</td>\n",
       "      <td>28.73</td>\n",
       "      <td>CONTROL</td>\n",
       "      <td>PACIENTE DE 60 AÑOS DE EDAD CON DIAGNOSTICOS  ...</td>\n",
       "      <td>Sin alteraciones.</td>\n",
       "      <td>RSCS RIMTICOS SIN SOPLOS RSRS MURMULLO EVSICUL...</td>\n",
       "      <td>I10X</td>\n",
       "      <td>PACIENTE DE 60 AÑOS DE EDAD CON DIAGNOSTICOS H...</td>\n",
       "      <td>1</td>\n",
       "      <td>True</td>\n",
       "      <td>train</td>\n",
       "    </tr>\n",
       "    <tr>\n",
       "      <td>1</td>\n",
       "      <td>2</td>\n",
       "      <td>78-84</td>\n",
       "      <td>1</td>\n",
       "      <td>HIPERTENCION</td>\n",
       "      <td>187</td>\n",
       "      <td>64</td>\n",
       "      <td>73</td>\n",
       "      <td>17</td>\n",
       "      <td>36.2</td>\n",
       "      <td>53</td>\n",
       "      <td>...</td>\n",
       "      <td>30.42</td>\n",
       "      <td>\" TENEMOS EL CONTROL \"</td>\n",
       "      <td>PACIENTE DE 76 AÑOS  CON DIAGNOSTICO:   1. HIP...</td>\n",
       "      <td>Sin alteraciones.</td>\n",
       "      <td>RSRS SIN AGREGADOS RSCS RITMICOS SIN SOPLOS</td>\n",
       "      <td>I10X</td>\n",
       "      <td>PACIENTE EN PROGRAMA CRONICO; CURSA CON HTA EN...</td>\n",
       "      <td>2</td>\n",
       "      <td>True</td>\n",
       "      <td>train</td>\n",
       "    </tr>\n",
       "    <tr>\n",
       "      <td>8</td>\n",
       "      <td>2</td>\n",
       "      <td>1-67</td>\n",
       "      <td>3</td>\n",
       "      <td>HIPERTENCION</td>\n",
       "      <td>118</td>\n",
       "      <td>75</td>\n",
       "      <td>90</td>\n",
       "      <td>19</td>\n",
       "      <td>36.2</td>\n",
       "      <td>57</td>\n",
       "      <td>...</td>\n",
       "      <td>26.02</td>\n",
       "      <td>CONTROL CRÓNICOS CAPITAL SALUD  NATURAL LA CAP...</td>\n",
       "      <td>PACIENTE FEMENINA DE 54 AÑOS CON DIAGNÓSTICOS ...</td>\n",
       "      <td>SIN CIANOSIS</td>\n",
       "      <td>RUIDOS CARDIOVASCULAR  RUIDOS RESPIRATORIOS CO...</td>\n",
       "      <td>I10X</td>\n",
       "      <td>PACIENTE FEMENINA CON DIAGNÓSTICOS ANOTADOS  S...</td>\n",
       "      <td>9</td>\n",
       "      <td>True</td>\n",
       "      <td>train</td>\n",
       "    </tr>\n",
       "    <tr>\n",
       "      <td>9</td>\n",
       "      <td>2</td>\n",
       "      <td>&gt;84</td>\n",
       "      <td>1</td>\n",
       "      <td>HIPERTENCION</td>\n",
       "      <td>158</td>\n",
       "      <td>59</td>\n",
       "      <td>58</td>\n",
       "      <td>15</td>\n",
       "      <td>36</td>\n",
       "      <td>56</td>\n",
       "      <td>...</td>\n",
       "      <td>24.89</td>\n",
       "      <td>CONTROL PROGRAMA CRONICOS</td>\n",
       "      <td>PACIENTE DE 84 AÑOS CON DIAGNOSTICOS DE:  1. E...</td>\n",
       "      <td>NO INGURGITACION YUGULAR.</td>\n",
       "      <td>RSCS RITMICOS SIN SOPLOS. RSRS MV CONSERVADOS ...</td>\n",
       "      <td>I10X</td>\n",
       "      <td>PACIENTE ADULTA MAYOR  CON DIAGNOSTICOS ANOTAD...</td>\n",
       "      <td>10</td>\n",
       "      <td>True</td>\n",
       "      <td>train</td>\n",
       "    </tr>\n",
       "    <tr>\n",
       "      <td>11</td>\n",
       "      <td>2</td>\n",
       "      <td>1-67</td>\n",
       "      <td>9</td>\n",
       "      <td>HIPERTENCION</td>\n",
       "      <td>112</td>\n",
       "      <td>76</td>\n",
       "      <td>95</td>\n",
       "      <td>20</td>\n",
       "      <td>36.6</td>\n",
       "      <td>79</td>\n",
       "      <td>...</td>\n",
       "      <td>34.19</td>\n",
       "      <td>CONTROL</td>\n",
       "      <td>PACIENTE DE 42 AÑOS DE EDAD CON DIAGNOSTICO DE...</td>\n",
       "      <td>Sin alteraciones.</td>\n",
       "      <td>RSCS RITMICOS SIN SOPLOS RSRS MURMULLO EVSICUL...</td>\n",
       "      <td>I10X</td>\n",
       "      <td>PACIENTE DE 42 AÑOS DE EDAD CON DIAGNOSTICO DE...</td>\n",
       "      <td>12</td>\n",
       "      <td>True</td>\n",
       "      <td>train</td>\n",
       "    </tr>\n",
       "    <tr>\n",
       "      <td>...</td>\n",
       "      <td>...</td>\n",
       "      <td>...</td>\n",
       "      <td>...</td>\n",
       "      <td>...</td>\n",
       "      <td>...</td>\n",
       "      <td>...</td>\n",
       "      <td>...</td>\n",
       "      <td>...</td>\n",
       "      <td>...</td>\n",
       "      <td>...</td>\n",
       "      <td>...</td>\n",
       "      <td>...</td>\n",
       "      <td>...</td>\n",
       "      <td>...</td>\n",
       "      <td>...</td>\n",
       "      <td>...</td>\n",
       "      <td>...</td>\n",
       "      <td>...</td>\n",
       "      <td>...</td>\n",
       "      <td>...</td>\n",
       "      <td>...</td>\n",
       "    </tr>\n",
       "    <tr>\n",
       "      <td>69557</td>\n",
       "      <td>1</td>\n",
       "      <td>1-67</td>\n",
       "      <td>9</td>\n",
       "      <td>EPILEPSIA</td>\n",
       "      <td>110</td>\n",
       "      <td>66</td>\n",
       "      <td>78</td>\n",
       "      <td>17</td>\n",
       "      <td>36.0</td>\n",
       "      <td>87.0</td>\n",
       "      <td>...</td>\n",
       "      <td>26.85</td>\n",
       "      <td>REFORMULACION NEUROLOGIA</td>\n",
       "      <td>PACIENTE DE 61 AÑOS CON DIAGNOSTICOS DE:   1. ...</td>\n",
       "      <td>CUELLO CORTO Y ANCHO MNUCOAO ORAL HUMEDA</td>\n",
       "      <td>RSCS RITMICO SIN SOPLOS RSRS SIN AGREAGDOS</td>\n",
       "      <td>G403</td>\n",
       "      <td>PACIENTE  DE 61 AÑOS CON DIAGNOSTICO DE EPILEP...</td>\n",
       "      <td>69558</td>\n",
       "      <td>True</td>\n",
       "      <td>test</td>\n",
       "    </tr>\n",
       "    <tr>\n",
       "      <td>86880</td>\n",
       "      <td>2</td>\n",
       "      <td>1-67</td>\n",
       "      <td>6</td>\n",
       "      <td>EPILEPSIA</td>\n",
       "      <td>110</td>\n",
       "      <td>70</td>\n",
       "      <td>88</td>\n",
       "      <td>18</td>\n",
       "      <td>36.5</td>\n",
       "      <td>35.0</td>\n",
       "      <td>...</td>\n",
       "      <td>16.20</td>\n",
       "      <td>\"INICIAR HISTORIA CLINICA\"</td>\n",
       "      <td>PACIENTE D E11 AÑOS DE EDAD EN COMPAÑIA DE SU ...</td>\n",
       "      <td>NORMOCEFALICO  ESCLERAS ANICTERICAS  CONJUNTIV...</td>\n",
       "      <td>TORAX NORMOEXPANSIBLE  RUIDOS CARDIACOS RITMIC...</td>\n",
       "      <td>G409</td>\n",
       "      <td>PACIENTE DE 11 AÑOS DE EDAD CON ANTECEDENTE DE...</td>\n",
       "      <td>86881</td>\n",
       "      <td>True</td>\n",
       "      <td>test</td>\n",
       "    </tr>\n",
       "    <tr>\n",
       "      <td>83968</td>\n",
       "      <td>2</td>\n",
       "      <td>1-67</td>\n",
       "      <td>1</td>\n",
       "      <td>EPILEPSIA</td>\n",
       "      <td>120</td>\n",
       "      <td>70</td>\n",
       "      <td>74</td>\n",
       "      <td>20</td>\n",
       "      <td>37.0</td>\n",
       "      <td>57.0</td>\n",
       "      <td>...</td>\n",
       "      <td>18.61</td>\n",
       "      <td>REFORMULACION</td>\n",
       "      <td>PACIENTE FEMENINA DE 45 AÑOS CON DX:   1. EPIL...</td>\n",
       "      <td>I</td>\n",
       "      <td>I</td>\n",
       "      <td>G402</td>\n",
       "      <td>PACIENTE CON EPILEPSIAREFRACTARIA EN CONTROLES...</td>\n",
       "      <td>83969</td>\n",
       "      <td>True</td>\n",
       "      <td>test</td>\n",
       "    </tr>\n",
       "    <tr>\n",
       "      <td>82835</td>\n",
       "      <td>2</td>\n",
       "      <td>1-67</td>\n",
       "      <td>9</td>\n",
       "      <td>EPILEPSIA</td>\n",
       "      <td>110</td>\n",
       "      <td>60</td>\n",
       "      <td>68</td>\n",
       "      <td>20</td>\n",
       "      <td>37.0</td>\n",
       "      <td>61.0</td>\n",
       "      <td>...</td>\n",
       "      <td>25.72</td>\n",
       "      <td>REFORMULACION</td>\n",
       "      <td>PACIENTE FEMENINA DE 38 AÑOS  CON DX DE :   1....</td>\n",
       "      <td>I</td>\n",
       "      <td>I</td>\n",
       "      <td>G409</td>\n",
       "      <td>PACIENTE CON EPILEPSIA FOCAL REFRACTARIA + ESC...</td>\n",
       "      <td>82836</td>\n",
       "      <td>True</td>\n",
       "      <td>test</td>\n",
       "    </tr>\n",
       "    <tr>\n",
       "      <td>92871</td>\n",
       "      <td>1</td>\n",
       "      <td>1-67</td>\n",
       "      <td>1</td>\n",
       "      <td>EPILEPSIA</td>\n",
       "      <td>98</td>\n",
       "      <td>60</td>\n",
       "      <td>78</td>\n",
       "      <td>17</td>\n",
       "      <td>36.0</td>\n",
       "      <td>47.0</td>\n",
       "      <td>...</td>\n",
       "      <td>17.69</td>\n",
       "      <td>REFORMULACION NEUROPEDIATRIA llega 1 hora y me...</td>\n",
       "      <td>paciente de 13 años con diagnosticos de:  1- e...</td>\n",
       "      <td>cuello corto y ancho nucoao oral humeda</td>\n",
       "      <td>rscs ritmico sin soplos rsrs sin agreagdos</td>\n",
       "      <td>G402</td>\n",
       "      <td>paciente de 13 años con diagnosticos de epilep...</td>\n",
       "      <td>92872</td>\n",
       "      <td>True</td>\n",
       "      <td>test</td>\n",
       "    </tr>\n",
       "  </tbody>\n",
       "</table>\n",
       "<p>96567 rows × 21 columns</p>\n",
       "</div>"
      ],
      "text/plain": [
       "      idGenero edad_grupos idEstadoCivil      Analisis Medicion1_PA_Sistolica  \\\n",
       "0            1        1-67             9  HIPERTENCION                    138   \n",
       "1            2       78-84             1  HIPERTENCION                    187   \n",
       "8            2        1-67             3  HIPERTENCION                    118   \n",
       "9            2         >84             1  HIPERTENCION                    158   \n",
       "11           2        1-67             9  HIPERTENCION                    112   \n",
       "...        ...         ...           ...           ...                    ...   \n",
       "69557        1        1-67             9     EPILEPSIA                    110   \n",
       "86880        2        1-67             6     EPILEPSIA                    110   \n",
       "83968        2        1-67             1     EPILEPSIA                    120   \n",
       "82835        2        1-67             9     EPILEPSIA                    110   \n",
       "92871        1        1-67             1     EPILEPSIA                     98   \n",
       "\n",
       "      Medicion2_PA_Diastolica Medicion3_Frecuencia_cardiaca  \\\n",
       "0                          82                            64   \n",
       "1                          64                            73   \n",
       "8                          75                            90   \n",
       "9                          59                            58   \n",
       "11                         76                            95   \n",
       "...                       ...                           ...   \n",
       "69557                      66                            78   \n",
       "86880                      70                            88   \n",
       "83968                      70                            74   \n",
       "82835                      60                            68   \n",
       "92871                      60                            78   \n",
       "\n",
       "      Medicion4_Frec_Respiratoria Medicion5_Temperatura Medicion6_Peso  ...  \\\n",
       "0                              19                  36.3             88  ...   \n",
       "1                              17                  36.2             53  ...   \n",
       "8                              19                  36.2             57  ...   \n",
       "9                              15                    36             56  ...   \n",
       "11                             20                  36.6             79  ...   \n",
       "...                           ...                   ...            ...  ...   \n",
       "69557                          17                  36.0           87.0  ...   \n",
       "86880                          18                  36.5           35.0  ...   \n",
       "83968                          20                  37.0           57.0  ...   \n",
       "82835                          20                  37.0           61.0  ...   \n",
       "92871                          17                  36.0           47.0  ...   \n",
       "\n",
       "      Medicion8_IMC                                     motivoPaciente  \\\n",
       "0             28.73                                            CONTROL   \n",
       "1             30.42                            \" TENEMOS EL CONTROL \"    \n",
       "8             26.02  CONTROL CRÓNICOS CAPITAL SALUD  NATURAL LA CAP...   \n",
       "9             24.89                         CONTROL PROGRAMA CRONICOS    \n",
       "11            34.19                                            CONTROL   \n",
       "...             ...                                                ...   \n",
       "69557         26.85                           REFORMULACION NEUROLOGIA   \n",
       "86880         16.20                         \"INICIAR HISTORIA CLINICA\"   \n",
       "83968         18.61                                      REFORMULACION   \n",
       "82835         25.72                                      REFORMULACION   \n",
       "92871         17.69  REFORMULACION NEUROPEDIATRIA llega 1 hora y me...   \n",
       "\n",
       "                                        enfermedadActual  \\\n",
       "0      PACIENTE DE 60 AÑOS DE EDAD CON DIAGNOSTICOS  ...   \n",
       "1      PACIENTE DE 76 AÑOS  CON DIAGNOSTICO:   1. HIP...   \n",
       "8      PACIENTE FEMENINA DE 54 AÑOS CON DIAGNÓSTICOS ...   \n",
       "9      PACIENTE DE 84 AÑOS CON DIAGNOSTICOS DE:  1. E...   \n",
       "11     PACIENTE DE 42 AÑOS DE EDAD CON DIAGNOSTICO DE...   \n",
       "...                                                  ...   \n",
       "69557  PACIENTE DE 61 AÑOS CON DIAGNOSTICOS DE:   1. ...   \n",
       "86880  PACIENTE D E11 AÑOS DE EDAD EN COMPAÑIA DE SU ...   \n",
       "83968  PACIENTE FEMENINA DE 45 AÑOS CON DX:   1. EPIL...   \n",
       "82835  PACIENTE FEMENINA DE 38 AÑOS  CON DX DE :   1....   \n",
       "92871  paciente de 13 años con diagnosticos de:  1- e...   \n",
       "\n",
       "                                     Zona2_Cabeza_Cuello  \\\n",
       "0                                      Sin alteraciones.   \n",
       "1                                      Sin alteraciones.   \n",
       "8                                          SIN CIANOSIS    \n",
       "9                             NO INGURGITACION YUGULAR.    \n",
       "11                                     Sin alteraciones.   \n",
       "...                                                  ...   \n",
       "69557          CUELLO CORTO Y ANCHO MNUCOAO ORAL HUMEDA    \n",
       "86880  NORMOCEFALICO  ESCLERAS ANICTERICAS  CONJUNTIV...   \n",
       "83968                                                  I   \n",
       "82835                                                  I   \n",
       "92871           cuello corto y ancho nucoao oral humeda    \n",
       "\n",
       "                                   Zona3_Cardio_Pulmonar codigoDiagnostico  \\\n",
       "0      RSCS RIMTICOS SIN SOPLOS RSRS MURMULLO EVSICUL...              I10X   \n",
       "1            RSRS SIN AGREGADOS RSCS RITMICOS SIN SOPLOS              I10X   \n",
       "8      RUIDOS CARDIOVASCULAR  RUIDOS RESPIRATORIOS CO...              I10X   \n",
       "9      RSCS RITMICOS SIN SOPLOS. RSRS MV CONSERVADOS ...              I10X   \n",
       "11     RSCS RITMICOS SIN SOPLOS RSRS MURMULLO EVSICUL...              I10X   \n",
       "...                                                  ...               ...   \n",
       "69557        RSCS RITMICO SIN SOPLOS RSRS SIN AGREAGDOS               G403   \n",
       "86880  TORAX NORMOEXPANSIBLE  RUIDOS CARDIACOS RITMIC...              G409   \n",
       "83968                                                  I              G402   \n",
       "82835                                                  I              G409   \n",
       "92871        rscs ritmico sin soplos rsrs sin agreagdos               G402   \n",
       "\n",
       "                                                Concepto     id original  \\\n",
       "0      PACIENTE DE 60 AÑOS DE EDAD CON DIAGNOSTICOS H...      1     True   \n",
       "1      PACIENTE EN PROGRAMA CRONICO; CURSA CON HTA EN...      2     True   \n",
       "8      PACIENTE FEMENINA CON DIAGNÓSTICOS ANOTADOS  S...      9     True   \n",
       "9      PACIENTE ADULTA MAYOR  CON DIAGNOSTICOS ANOTAD...     10     True   \n",
       "11     PACIENTE DE 42 AÑOS DE EDAD CON DIAGNOSTICO DE...     12     True   \n",
       "...                                                  ...    ...      ...   \n",
       "69557  PACIENTE  DE 61 AÑOS CON DIAGNOSTICO DE EPILEP...  69558     True   \n",
       "86880  PACIENTE DE 11 AÑOS DE EDAD CON ANTECEDENTE DE...  86881     True   \n",
       "83968  PACIENTE CON EPILEPSIAREFRACTARIA EN CONTROLES...  83969     True   \n",
       "82835  PACIENTE CON EPILEPSIA FOCAL REFRACTARIA + ESC...  82836     True   \n",
       "92871  paciente de 13 años con diagnosticos de epilep...  92872     True   \n",
       "\n",
       "       dataset  \n",
       "0        train  \n",
       "1        train  \n",
       "8        train  \n",
       "9        train  \n",
       "11       train  \n",
       "...        ...  \n",
       "69557     test  \n",
       "86880     test  \n",
       "83968     test  \n",
       "82835     test  \n",
       "92871     test  \n",
       "\n",
       "[96567 rows x 21 columns]"
      ]
     },
     "execution_count": 45,
     "metadata": {},
     "output_type": "execute_result"
    }
   ],
   "source": [
    "allData"
   ]
  },
  {
   "cell_type": "code",
   "execution_count": 46,
   "metadata": {},
   "outputs": [],
   "source": [
    "allData.to_csv('./data/preClasificacion.csv',encoding='utf8')"
   ]
  },
  {
   "cell_type": "code",
   "execution_count": null,
   "metadata": {},
   "outputs": [],
   "source": []
  }
 ],
 "metadata": {
  "kernelspec": {
   "display_name": "Python 3",
   "language": "python",
   "name": "python3"
  },
  "language_info": {
   "codemirror_mode": {
    "name": "ipython",
    "version": 3
   },
   "file_extension": ".py",
   "mimetype": "text/x-python",
   "name": "python",
   "nbconvert_exporter": "python",
   "pygments_lexer": "ipython3",
   "version": "3.7.3"
  }
 },
 "nbformat": 4,
 "nbformat_minor": 4
}
