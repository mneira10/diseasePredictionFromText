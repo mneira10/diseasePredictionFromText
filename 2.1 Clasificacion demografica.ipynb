{
 "cells": [
  {
   "cell_type": "code",
   "execution_count": 37,
   "metadata": {},
   "outputs": [],
   "source": [
    "import numpy as np\n",
    "import pandas as pd\n",
    "np.random.seed(0)\n",
    "\n",
    "from sklearn.ensemble import RandomForestClassifier\n",
    "from sklearn.model_selection import GridSearchCV, StratifiedKFold  # , cross_val_score\n",
    "from sklearn.metrics import make_scorer, accuracy_score, precision_score, recall_score, f1_score, precision_recall_fscore_support, confusion_matrix  # , classification_report\n",
    "from sklearn.metrics import precision_recall_curve\n",
    "from sklearn.metrics import confusion_matrix\n",
    "\n",
    "import matplotlib.pyplot as plt"
   ]
  },
  {
   "cell_type": "code",
   "execution_count": 2,
   "metadata": {},
   "outputs": [],
   "source": [
    "data = pd.read_csv('./data/preClasificacion.csv')"
   ]
  },
  {
   "cell_type": "code",
   "execution_count": 3,
   "metadata": {},
   "outputs": [
    {
     "data": {
      "text/html": [
       "<div>\n",
       "<style scoped>\n",
       "    .dataframe tbody tr th:only-of-type {\n",
       "        vertical-align: middle;\n",
       "    }\n",
       "\n",
       "    .dataframe tbody tr th {\n",
       "        vertical-align: top;\n",
       "    }\n",
       "\n",
       "    .dataframe thead th {\n",
       "        text-align: right;\n",
       "    }\n",
       "</style>\n",
       "<table border=\"1\" class=\"dataframe\">\n",
       "  <thead>\n",
       "    <tr style=\"text-align: right;\">\n",
       "      <th></th>\n",
       "      <th>Unnamed: 0</th>\n",
       "      <th>idGenero</th>\n",
       "      <th>edad_grupos</th>\n",
       "      <th>idEstadoCivil</th>\n",
       "      <th>Analisis</th>\n",
       "      <th>Medicion1_PA_Sistolica</th>\n",
       "      <th>Medicion2_PA_Diastolica</th>\n",
       "      <th>Medicion3_Frecuencia_cardiaca</th>\n",
       "      <th>Medicion4_Frec_Respiratoria</th>\n",
       "      <th>Medicion5_Temperatura</th>\n",
       "      <th>...</th>\n",
       "      <th>Medicion8_IMC</th>\n",
       "      <th>motivoPaciente</th>\n",
       "      <th>enfermedadActual</th>\n",
       "      <th>Zona2_Cabeza_Cuello</th>\n",
       "      <th>Zona3_Cardio_Pulmonar</th>\n",
       "      <th>codigoDiagnostico</th>\n",
       "      <th>Concepto</th>\n",
       "      <th>id</th>\n",
       "      <th>original</th>\n",
       "      <th>dataset</th>\n",
       "    </tr>\n",
       "  </thead>\n",
       "  <tbody>\n",
       "    <tr>\n",
       "      <td>0</td>\n",
       "      <td>0</td>\n",
       "      <td>1</td>\n",
       "      <td>1-67</td>\n",
       "      <td>9</td>\n",
       "      <td>HIPERTENCION</td>\n",
       "      <td>138</td>\n",
       "      <td>82</td>\n",
       "      <td>64</td>\n",
       "      <td>19</td>\n",
       "      <td>36.3</td>\n",
       "      <td>...</td>\n",
       "      <td>28.73</td>\n",
       "      <td>CONTROL</td>\n",
       "      <td>PACIENTE DE 60 AÑOS DE EDAD CON DIAGNOSTICOS  ...</td>\n",
       "      <td>Sin alteraciones.</td>\n",
       "      <td>RSCS RIMTICOS SIN SOPLOS RSRS MURMULLO EVSICUL...</td>\n",
       "      <td>I10X</td>\n",
       "      <td>PACIENTE DE 60 AÑOS DE EDAD CON DIAGNOSTICOS H...</td>\n",
       "      <td>1</td>\n",
       "      <td>True</td>\n",
       "      <td>train</td>\n",
       "    </tr>\n",
       "    <tr>\n",
       "      <td>1</td>\n",
       "      <td>1</td>\n",
       "      <td>2</td>\n",
       "      <td>78-84</td>\n",
       "      <td>1</td>\n",
       "      <td>HIPERTENCION</td>\n",
       "      <td>187</td>\n",
       "      <td>64</td>\n",
       "      <td>73</td>\n",
       "      <td>17</td>\n",
       "      <td>36.2</td>\n",
       "      <td>...</td>\n",
       "      <td>30.42</td>\n",
       "      <td>\" TENEMOS EL CONTROL \"</td>\n",
       "      <td>PACIENTE DE 76 AÑOS  CON DIAGNOSTICO:   1. HIP...</td>\n",
       "      <td>Sin alteraciones.</td>\n",
       "      <td>RSRS SIN AGREGADOS RSCS RITMICOS SIN SOPLOS</td>\n",
       "      <td>I10X</td>\n",
       "      <td>PACIENTE EN PROGRAMA CRONICO; CURSA CON HTA EN...</td>\n",
       "      <td>2</td>\n",
       "      <td>True</td>\n",
       "      <td>train</td>\n",
       "    </tr>\n",
       "    <tr>\n",
       "      <td>2</td>\n",
       "      <td>8</td>\n",
       "      <td>2</td>\n",
       "      <td>1-67</td>\n",
       "      <td>3</td>\n",
       "      <td>HIPERTENCION</td>\n",
       "      <td>118</td>\n",
       "      <td>75</td>\n",
       "      <td>90</td>\n",
       "      <td>19</td>\n",
       "      <td>36.2</td>\n",
       "      <td>...</td>\n",
       "      <td>26.02</td>\n",
       "      <td>CONTROL CRÓNICOS CAPITAL SALUD  NATURAL LA CAP...</td>\n",
       "      <td>PACIENTE FEMENINA DE 54 AÑOS CON DIAGNÓSTICOS ...</td>\n",
       "      <td>SIN CIANOSIS</td>\n",
       "      <td>RUIDOS CARDIOVASCULAR  RUIDOS RESPIRATORIOS CO...</td>\n",
       "      <td>I10X</td>\n",
       "      <td>PACIENTE FEMENINA CON DIAGNÓSTICOS ANOTADOS  S...</td>\n",
       "      <td>9</td>\n",
       "      <td>True</td>\n",
       "      <td>train</td>\n",
       "    </tr>\n",
       "    <tr>\n",
       "      <td>3</td>\n",
       "      <td>9</td>\n",
       "      <td>2</td>\n",
       "      <td>&gt;84</td>\n",
       "      <td>1</td>\n",
       "      <td>HIPERTENCION</td>\n",
       "      <td>158</td>\n",
       "      <td>59</td>\n",
       "      <td>58</td>\n",
       "      <td>15</td>\n",
       "      <td>36.0</td>\n",
       "      <td>...</td>\n",
       "      <td>24.89</td>\n",
       "      <td>CONTROL PROGRAMA CRONICOS</td>\n",
       "      <td>PACIENTE DE 84 AÑOS CON DIAGNOSTICOS DE:  1. E...</td>\n",
       "      <td>NO INGURGITACION YUGULAR.</td>\n",
       "      <td>RSCS RITMICOS SIN SOPLOS. RSRS MV CONSERVADOS ...</td>\n",
       "      <td>I10X</td>\n",
       "      <td>PACIENTE ADULTA MAYOR  CON DIAGNOSTICOS ANOTAD...</td>\n",
       "      <td>10</td>\n",
       "      <td>True</td>\n",
       "      <td>train</td>\n",
       "    </tr>\n",
       "    <tr>\n",
       "      <td>4</td>\n",
       "      <td>11</td>\n",
       "      <td>2</td>\n",
       "      <td>1-67</td>\n",
       "      <td>9</td>\n",
       "      <td>HIPERTENCION</td>\n",
       "      <td>112</td>\n",
       "      <td>76</td>\n",
       "      <td>95</td>\n",
       "      <td>20</td>\n",
       "      <td>36.6</td>\n",
       "      <td>...</td>\n",
       "      <td>34.19</td>\n",
       "      <td>CONTROL</td>\n",
       "      <td>PACIENTE DE 42 AÑOS DE EDAD CON DIAGNOSTICO DE...</td>\n",
       "      <td>Sin alteraciones.</td>\n",
       "      <td>RSCS RITMICOS SIN SOPLOS RSRS MURMULLO EVSICUL...</td>\n",
       "      <td>I10X</td>\n",
       "      <td>PACIENTE DE 42 AÑOS DE EDAD CON DIAGNOSTICO DE...</td>\n",
       "      <td>12</td>\n",
       "      <td>True</td>\n",
       "      <td>train</td>\n",
       "    </tr>\n",
       "    <tr>\n",
       "      <td>...</td>\n",
       "      <td>...</td>\n",
       "      <td>...</td>\n",
       "      <td>...</td>\n",
       "      <td>...</td>\n",
       "      <td>...</td>\n",
       "      <td>...</td>\n",
       "      <td>...</td>\n",
       "      <td>...</td>\n",
       "      <td>...</td>\n",
       "      <td>...</td>\n",
       "      <td>...</td>\n",
       "      <td>...</td>\n",
       "      <td>...</td>\n",
       "      <td>...</td>\n",
       "      <td>...</td>\n",
       "      <td>...</td>\n",
       "      <td>...</td>\n",
       "      <td>...</td>\n",
       "      <td>...</td>\n",
       "      <td>...</td>\n",
       "      <td>...</td>\n",
       "    </tr>\n",
       "    <tr>\n",
       "      <td>96901</td>\n",
       "      <td>98057</td>\n",
       "      <td>1</td>\n",
       "      <td>1-67</td>\n",
       "      <td>1</td>\n",
       "      <td>EPILEPSIA</td>\n",
       "      <td>115</td>\n",
       "      <td>70</td>\n",
       "      <td>65</td>\n",
       "      <td>20</td>\n",
       "      <td>36.0</td>\n",
       "      <td>...</td>\n",
       "      <td>21.10</td>\n",
       "      <td>REFORMULACIÓN NEUROLOGIA</td>\n",
       "      <td>PACIENTE DE 32 AÑOS CON DIAGNÓSTICOS DE:   1. ...</td>\n",
       "      <td>I</td>\n",
       "      <td>I</td>\n",
       "      <td>G402</td>\n",
       "      <td>PACIENTE MASCULINO CON CUADRO DE EPILEPSIA EN ...</td>\n",
       "      <td>98058</td>\n",
       "      <td>True</td>\n",
       "      <td>test</td>\n",
       "    </tr>\n",
       "    <tr>\n",
       "      <td>96902</td>\n",
       "      <td>82775</td>\n",
       "      <td>2</td>\n",
       "      <td>78-84</td>\n",
       "      <td>3</td>\n",
       "      <td>EPILEPSIA</td>\n",
       "      <td>130</td>\n",
       "      <td>80</td>\n",
       "      <td>85</td>\n",
       "      <td>18</td>\n",
       "      <td>37.0</td>\n",
       "      <td>...</td>\n",
       "      <td>24.00</td>\n",
       "      <td>CITA DE CONTROL - REFORMULACION NEUROLOGIA</td>\n",
       "      <td>PACIENTE FEMENINA DE 79 AÑOS CON DIAGNOTICOS D...</td>\n",
       "      <td>MUCOSA ORAL HUMEDA ESCLERAS ANICTERICAS CUELLO...</td>\n",
       "      <td>RUIDOS CARDIACOS RITMICOS SIN SOPLOS RUIDOS RE...</td>\n",
       "      <td>G401</td>\n",
       "      <td>PACIENTE DE 79 AÑOS CON DIAGNOSTICO DE EPILEPS...</td>\n",
       "      <td>82776</td>\n",
       "      <td>True</td>\n",
       "      <td>test</td>\n",
       "    </tr>\n",
       "    <tr>\n",
       "      <td>96903</td>\n",
       "      <td>59797</td>\n",
       "      <td>1</td>\n",
       "      <td>1-67</td>\n",
       "      <td>1</td>\n",
       "      <td>EPILEPSIA</td>\n",
       "      <td>100</td>\n",
       "      <td>60</td>\n",
       "      <td>80</td>\n",
       "      <td>22</td>\n",
       "      <td>36.0</td>\n",
       "      <td>...</td>\n",
       "      <td>27.70</td>\n",
       "      <td>REFORMULACION</td>\n",
       "      <td>PACIENTE MASCULINO DE 20 AÑOS CON DX: 1. EPILE...</td>\n",
       "      <td>I</td>\n",
       "      <td>I</td>\n",
       "      <td>G402</td>\n",
       "      <td>PACIENTE JOVEN CON HISTORIA DE EPILEPSIA FOCAL...</td>\n",
       "      <td>59798</td>\n",
       "      <td>True</td>\n",
       "      <td>test</td>\n",
       "    </tr>\n",
       "    <tr>\n",
       "      <td>96904</td>\n",
       "      <td>62974</td>\n",
       "      <td>1</td>\n",
       "      <td>78-84</td>\n",
       "      <td>9</td>\n",
       "      <td>EPILEPSIA</td>\n",
       "      <td>110</td>\n",
       "      <td>60</td>\n",
       "      <td>83</td>\n",
       "      <td>22</td>\n",
       "      <td>36.0</td>\n",
       "      <td>...</td>\n",
       "      <td>27.28</td>\n",
       "      <td>REFORMULACION</td>\n",
       "      <td>PACIENTE MASCULINO DE 77 AÑOS DE EDAD CON DIAG...</td>\n",
       "      <td>I</td>\n",
       "      <td>I</td>\n",
       "      <td>G409</td>\n",
       "      <td>PACIENTE MASCULINO DE 77 AÑOS DE EDAD  CON ANT...</td>\n",
       "      <td>62975</td>\n",
       "      <td>True</td>\n",
       "      <td>test</td>\n",
       "    </tr>\n",
       "    <tr>\n",
       "      <td>96905</td>\n",
       "      <td>74137</td>\n",
       "      <td>2</td>\n",
       "      <td>1-67</td>\n",
       "      <td>9</td>\n",
       "      <td>EPILEPSIA</td>\n",
       "      <td>110</td>\n",
       "      <td>70</td>\n",
       "      <td>64</td>\n",
       "      <td>20</td>\n",
       "      <td>37.0</td>\n",
       "      <td>...</td>\n",
       "      <td>25.72</td>\n",
       "      <td>REFORMULACION</td>\n",
       "      <td>PACIENTE FEMENINA DE 38 AÑOS  CON DX DE :   1....</td>\n",
       "      <td>I</td>\n",
       "      <td>I</td>\n",
       "      <td>G409</td>\n",
       "      <td>PACIENTE CON EPILEPSIA FOCAL REFRACTARIA + ESC...</td>\n",
       "      <td>74138</td>\n",
       "      <td>True</td>\n",
       "      <td>test</td>\n",
       "    </tr>\n",
       "  </tbody>\n",
       "</table>\n",
       "<p>96906 rows × 22 columns</p>\n",
       "</div>"
      ],
      "text/plain": [
       "       Unnamed: 0  idGenero edad_grupos  idEstadoCivil      Analisis  \\\n",
       "0               0         1        1-67              9  HIPERTENCION   \n",
       "1               1         2       78-84              1  HIPERTENCION   \n",
       "2               8         2        1-67              3  HIPERTENCION   \n",
       "3               9         2         >84              1  HIPERTENCION   \n",
       "4              11         2        1-67              9  HIPERTENCION   \n",
       "...           ...       ...         ...            ...           ...   \n",
       "96901       98057         1        1-67              1     EPILEPSIA   \n",
       "96902       82775         2       78-84              3     EPILEPSIA   \n",
       "96903       59797         1        1-67              1     EPILEPSIA   \n",
       "96904       62974         1       78-84              9     EPILEPSIA   \n",
       "96905       74137         2        1-67              9     EPILEPSIA   \n",
       "\n",
       "       Medicion1_PA_Sistolica  Medicion2_PA_Diastolica  \\\n",
       "0                         138                       82   \n",
       "1                         187                       64   \n",
       "2                         118                       75   \n",
       "3                         158                       59   \n",
       "4                         112                       76   \n",
       "...                       ...                      ...   \n",
       "96901                     115                       70   \n",
       "96902                     130                       80   \n",
       "96903                     100                       60   \n",
       "96904                     110                       60   \n",
       "96905                     110                       70   \n",
       "\n",
       "       Medicion3_Frecuencia_cardiaca  Medicion4_Frec_Respiratoria  \\\n",
       "0                                 64                           19   \n",
       "1                                 73                           17   \n",
       "2                                 90                           19   \n",
       "3                                 58                           15   \n",
       "4                                 95                           20   \n",
       "...                              ...                          ...   \n",
       "96901                             65                           20   \n",
       "96902                             85                           18   \n",
       "96903                             80                           22   \n",
       "96904                             83                           22   \n",
       "96905                             64                           20   \n",
       "\n",
       "       Medicion5_Temperatura  ...  Medicion8_IMC  \\\n",
       "0                       36.3  ...          28.73   \n",
       "1                       36.2  ...          30.42   \n",
       "2                       36.2  ...          26.02   \n",
       "3                       36.0  ...          24.89   \n",
       "4                       36.6  ...          34.19   \n",
       "...                      ...  ...            ...   \n",
       "96901                   36.0  ...          21.10   \n",
       "96902                   37.0  ...          24.00   \n",
       "96903                   36.0  ...          27.70   \n",
       "96904                   36.0  ...          27.28   \n",
       "96905                   37.0  ...          25.72   \n",
       "\n",
       "                                          motivoPaciente  \\\n",
       "0                                                CONTROL   \n",
       "1                                \" TENEMOS EL CONTROL \"    \n",
       "2      CONTROL CRÓNICOS CAPITAL SALUD  NATURAL LA CAP...   \n",
       "3                             CONTROL PROGRAMA CRONICOS    \n",
       "4                                                CONTROL   \n",
       "...                                                  ...   \n",
       "96901                          REFORMULACIÓN NEUROLOGIA    \n",
       "96902         CITA DE CONTROL - REFORMULACION NEUROLOGIA   \n",
       "96903                                      REFORMULACION   \n",
       "96904                                      REFORMULACION   \n",
       "96905                                      REFORMULACION   \n",
       "\n",
       "                                        enfermedadActual  \\\n",
       "0      PACIENTE DE 60 AÑOS DE EDAD CON DIAGNOSTICOS  ...   \n",
       "1      PACIENTE DE 76 AÑOS  CON DIAGNOSTICO:   1. HIP...   \n",
       "2      PACIENTE FEMENINA DE 54 AÑOS CON DIAGNÓSTICOS ...   \n",
       "3      PACIENTE DE 84 AÑOS CON DIAGNOSTICOS DE:  1. E...   \n",
       "4      PACIENTE DE 42 AÑOS DE EDAD CON DIAGNOSTICO DE...   \n",
       "...                                                  ...   \n",
       "96901  PACIENTE DE 32 AÑOS CON DIAGNÓSTICOS DE:   1. ...   \n",
       "96902  PACIENTE FEMENINA DE 79 AÑOS CON DIAGNOTICOS D...   \n",
       "96903  PACIENTE MASCULINO DE 20 AÑOS CON DX: 1. EPILE...   \n",
       "96904  PACIENTE MASCULINO DE 77 AÑOS DE EDAD CON DIAG...   \n",
       "96905  PACIENTE FEMENINA DE 38 AÑOS  CON DX DE :   1....   \n",
       "\n",
       "                                     Zona2_Cabeza_Cuello  \\\n",
       "0                                      Sin alteraciones.   \n",
       "1                                      Sin alteraciones.   \n",
       "2                                          SIN CIANOSIS    \n",
       "3                             NO INGURGITACION YUGULAR.    \n",
       "4                                      Sin alteraciones.   \n",
       "...                                                  ...   \n",
       "96901                                                  I   \n",
       "96902  MUCOSA ORAL HUMEDA ESCLERAS ANICTERICAS CUELLO...   \n",
       "96903                                                  I   \n",
       "96904                                                  I   \n",
       "96905                                                  I   \n",
       "\n",
       "                                   Zona3_Cardio_Pulmonar codigoDiagnostico  \\\n",
       "0      RSCS RIMTICOS SIN SOPLOS RSRS MURMULLO EVSICUL...              I10X   \n",
       "1            RSRS SIN AGREGADOS RSCS RITMICOS SIN SOPLOS              I10X   \n",
       "2      RUIDOS CARDIOVASCULAR  RUIDOS RESPIRATORIOS CO...              I10X   \n",
       "3      RSCS RITMICOS SIN SOPLOS. RSRS MV CONSERVADOS ...              I10X   \n",
       "4      RSCS RITMICOS SIN SOPLOS RSRS MURMULLO EVSICUL...              I10X   \n",
       "...                                                  ...               ...   \n",
       "96901                                                  I              G402   \n",
       "96902  RUIDOS CARDIACOS RITMICOS SIN SOPLOS RUIDOS RE...              G401   \n",
       "96903                                                  I              G402   \n",
       "96904                                                  I              G409   \n",
       "96905                                                  I              G409   \n",
       "\n",
       "                                                Concepto     id original  \\\n",
       "0      PACIENTE DE 60 AÑOS DE EDAD CON DIAGNOSTICOS H...      1     True   \n",
       "1      PACIENTE EN PROGRAMA CRONICO; CURSA CON HTA EN...      2     True   \n",
       "2      PACIENTE FEMENINA CON DIAGNÓSTICOS ANOTADOS  S...      9     True   \n",
       "3      PACIENTE ADULTA MAYOR  CON DIAGNOSTICOS ANOTAD...     10     True   \n",
       "4      PACIENTE DE 42 AÑOS DE EDAD CON DIAGNOSTICO DE...     12     True   \n",
       "...                                                  ...    ...      ...   \n",
       "96901  PACIENTE MASCULINO CON CUADRO DE EPILEPSIA EN ...  98058     True   \n",
       "96902  PACIENTE DE 79 AÑOS CON DIAGNOSTICO DE EPILEPS...  82776     True   \n",
       "96903  PACIENTE JOVEN CON HISTORIA DE EPILEPSIA FOCAL...  59798     True   \n",
       "96904  PACIENTE MASCULINO DE 77 AÑOS DE EDAD  CON ANT...  62975     True   \n",
       "96905  PACIENTE CON EPILEPSIA FOCAL REFRACTARIA + ESC...  74138     True   \n",
       "\n",
       "       dataset  \n",
       "0        train  \n",
       "1        train  \n",
       "2        train  \n",
       "3        train  \n",
       "4        train  \n",
       "...        ...  \n",
       "96901     test  \n",
       "96902     test  \n",
       "96903     test  \n",
       "96904     test  \n",
       "96905     test  \n",
       "\n",
       "[96906 rows x 22 columns]"
      ]
     },
     "execution_count": 3,
     "metadata": {},
     "output_type": "execute_result"
    }
   ],
   "source": [
    "data"
   ]
  },
  {
   "cell_type": "code",
   "execution_count": 4,
   "metadata": {},
   "outputs": [
    {
     "data": {
      "text/plain": [
       "Index(['Unnamed: 0', 'idGenero', 'edad_grupos', 'idEstadoCivil', 'Analisis',\n",
       "       'Medicion1_PA_Sistolica', 'Medicion2_PA_Diastolica',\n",
       "       'Medicion3_Frecuencia_cardiaca', 'Medicion4_Frec_Respiratoria',\n",
       "       'Medicion5_Temperatura', 'Medicion6_Peso', 'Medicion7_Talla',\n",
       "       'Medicion8_IMC', 'motivoPaciente', 'enfermedadActual',\n",
       "       'Zona2_Cabeza_Cuello', 'Zona3_Cardio_Pulmonar', 'codigoDiagnostico',\n",
       "       'Concepto', 'id', 'original', 'dataset'],\n",
       "      dtype='object')"
      ]
     },
     "execution_count": 4,
     "metadata": {},
     "output_type": "execute_result"
    }
   ],
   "source": [
    "data.columns"
   ]
  },
  {
   "cell_type": "code",
   "execution_count": 5,
   "metadata": {},
   "outputs": [
    {
     "name": "stdout",
     "output_type": "stream",
     "text": [
      "{'1-67': 0, '78-84': 1, '>84': 2, '68-77': 3}\n",
      "{'HIPERTENCION': 0, 'APNEA': 1, 'PULMONAR': 2, 'DIABETES': 3, 'EPILEPSIA': 4}\n"
     ]
    }
   ],
   "source": [
    "uniqAges = data.edad_grupos.unique()\n",
    "uniqAges = {x:i for i,x in enumerate(uniqAges)}\n",
    "\n",
    "target = data.Analisis.unique()\n",
    "target = {x:i for i,x in enumerate(target)}\n",
    "\n",
    "\n",
    "print(uniqAges)\n",
    "print(target)\n"
   ]
  },
  {
   "cell_type": "code",
   "execution_count": 6,
   "metadata": {},
   "outputs": [],
   "source": [
    "data['edad_grupos'] = list(map(lambda x:uniqAges[x], data['edad_grupos']))\n",
    "data['Analisis'] = list(map(lambda x:target[x], data['Analisis']))"
   ]
  },
  {
   "cell_type": "code",
   "execution_count": 19,
   "metadata": {},
   "outputs": [
    {
     "name": "stdout",
     "output_type": "stream",
     "text": [
      "['idGenero', 'edad_grupos', 'idEstadoCivil', 'Medicion1_PA_Sistolica', 'Medicion2_PA_Diastolica', 'Medicion3_Frecuencia_cardiaca', 'Medicion4_Frec_Respiratoria', 'Medicion5_Temperatura', 'Medicion6_Peso', 'Medicion7_Talla', 'Medicion8_IMC']\n"
     ]
    }
   ],
   "source": [
    "xfeatures = list(data.columns[1:-9])\n",
    "xfeatures.remove('Analisis')\n",
    "print(xfeatures)"
   ]
  },
  {
   "cell_type": "code",
   "execution_count": null,
   "metadata": {},
   "outputs": [],
   "source": []
  },
  {
   "cell_type": "code",
   "execution_count": 20,
   "metadata": {},
   "outputs": [],
   "source": [
    "train = data[data.dataset=='train']\n",
    "test = data[data.dataset=='test']"
   ]
  },
  {
   "cell_type": "code",
   "execution_count": 21,
   "metadata": {},
   "outputs": [],
   "source": [
    "#hypermarameters that gridsearch will optimize\n",
    "def rf():\n",
    "    params = {\n",
    "        'n_estimators': [200, 700],\n",
    "        'max_features': ['auto', 'sqrt', 'log2']\n",
    "    }\n",
    "    return RandomForestClassifier(random_state=0, class_weight='balanced'), params\n",
    "\n",
    "#metrics to be analized\n",
    "def scorers():\n",
    "    scoring = {'accuracy': make_scorer(accuracy_score),\n",
    "               'precision': make_scorer(precision_score, average='weighted'),\n",
    "               'recall': make_scorer(recall_score, average='weighted'),\n",
    "               'f1_score': make_scorer(f1_score, average='weighted')\n",
    "               }\n",
    "    return scoring"
   ]
  },
  {
   "cell_type": "code",
   "execution_count": 22,
   "metadata": {
    "scrolled": true
   },
   "outputs": [
    {
     "name": "stdout",
     "output_type": "stream",
     "text": [
      "Fitting 2 folds for each of 6 candidates, totalling 12 fits\n",
      "[Parallel(n_jobs=1)]: Using backend SequentialBackend with 1 concurrent workers.\n",
      "[CV] max_features=auto, n_estimators=200 .............................\n",
      "[CV]  max_features=auto, n_estimators=200, accuracy=(train=0.999, test=0.649), f1_score=(train=0.999, test=0.584), precision=(train=0.999, test=0.585), recall=(train=0.999, test=0.649), total=  13.6s\n",
      "[Parallel(n_jobs=1)]: Done   1 out of   1 | elapsed:   19.6s remaining:    0.0s\n",
      "[CV] max_features=auto, n_estimators=200 .............................\n",
      "[CV]  max_features=auto, n_estimators=200, accuracy=(train=0.999, test=0.624), f1_score=(train=0.999, test=0.562), precision=(train=0.999, test=0.561), recall=(train=0.999, test=0.624), total=  14.6s\n",
      "[Parallel(n_jobs=1)]: Done   2 out of   2 | elapsed:   40.4s remaining:    0.0s\n",
      "[CV] max_features=auto, n_estimators=700 .............................\n",
      "[CV]  max_features=auto, n_estimators=700, accuracy=(train=0.999, test=0.649), f1_score=(train=0.999, test=0.584), precision=(train=0.999, test=0.586), recall=(train=0.999, test=0.649), total=  47.0s\n",
      "[Parallel(n_jobs=1)]: Done   3 out of   3 | elapsed:  1.8min remaining:    0.0s\n",
      "[CV] max_features=auto, n_estimators=700 .............................\n",
      "[CV]  max_features=auto, n_estimators=700, accuracy=(train=0.999, test=0.625), f1_score=(train=0.999, test=0.562), precision=(train=0.999, test=0.564), recall=(train=0.999, test=0.625), total=  51.6s\n",
      "[Parallel(n_jobs=1)]: Done   4 out of   4 | elapsed:  3.0min remaining:    0.0s\n",
      "[CV] max_features=sqrt, n_estimators=200 .............................\n",
      "[CV]  max_features=sqrt, n_estimators=200, accuracy=(train=0.999, test=0.649), f1_score=(train=0.999, test=0.584), precision=(train=0.999, test=0.585), recall=(train=0.999, test=0.649), total=  13.5s\n",
      "[Parallel(n_jobs=1)]: Done   5 out of   5 | elapsed:  3.4min remaining:    0.0s\n",
      "[CV] max_features=sqrt, n_estimators=200 .............................\n",
      "[CV]  max_features=sqrt, n_estimators=200, accuracy=(train=0.999, test=0.624), f1_score=(train=0.999, test=0.562), precision=(train=0.999, test=0.561), recall=(train=0.999, test=0.624), total=  14.5s\n",
      "[Parallel(n_jobs=1)]: Done   6 out of   6 | elapsed:  3.7min remaining:    0.0s\n",
      "[CV] max_features=sqrt, n_estimators=700 .............................\n",
      "[CV]  max_features=sqrt, n_estimators=700, accuracy=(train=0.999, test=0.649), f1_score=(train=0.999, test=0.584), precision=(train=0.999, test=0.586), recall=(train=0.999, test=0.649), total=  47.6s\n",
      "[Parallel(n_jobs=1)]: Done   7 out of   7 | elapsed:  4.9min remaining:    0.0s\n",
      "[CV] max_features=sqrt, n_estimators=700 .............................\n",
      "[CV]  max_features=sqrt, n_estimators=700, accuracy=(train=0.999, test=0.625), f1_score=(train=0.999, test=0.562), precision=(train=0.999, test=0.564), recall=(train=0.999, test=0.625), total=  52.0s\n",
      "[Parallel(n_jobs=1)]: Done   8 out of   8 | elapsed:  6.1min remaining:    0.0s\n",
      "[CV] max_features=log2, n_estimators=200 .............................\n",
      "[CV]  max_features=log2, n_estimators=200, accuracy=(train=0.999, test=0.649), f1_score=(train=0.999, test=0.584), precision=(train=0.999, test=0.585), recall=(train=0.999, test=0.649), total=  13.7s\n",
      "[Parallel(n_jobs=1)]: Done   9 out of   9 | elapsed:  6.4min remaining:    0.0s\n",
      "[CV] max_features=log2, n_estimators=200 .............................\n",
      "[CV]  max_features=log2, n_estimators=200, accuracy=(train=0.999, test=0.624), f1_score=(train=0.999, test=0.562), precision=(train=0.999, test=0.561), recall=(train=0.999, test=0.624), total=  14.4s\n",
      "[Parallel(n_jobs=1)]: Done  10 out of  10 | elapsed:  6.8min remaining:    0.0s\n",
      "[CV] max_features=log2, n_estimators=700 .............................\n",
      "[CV]  max_features=log2, n_estimators=700, accuracy=(train=0.999, test=0.649), f1_score=(train=0.999, test=0.584), precision=(train=0.999, test=0.586), recall=(train=0.999, test=0.649), total=  48.3s\n",
      "[Parallel(n_jobs=1)]: Done  11 out of  11 | elapsed:  7.9min remaining:    0.0s\n",
      "[CV] max_features=log2, n_estimators=700 .............................\n",
      "[CV]  max_features=log2, n_estimators=700, accuracy=(train=0.999, test=0.625), f1_score=(train=0.999, test=0.562), precision=(train=0.999, test=0.564), recall=(train=0.999, test=0.625), total=  50.5s\n",
      "[Parallel(n_jobs=1)]: Done  12 out of  12 | elapsed:  9.1min remaining:    0.0s\n",
      "[Parallel(n_jobs=1)]: Done  12 out of  12 | elapsed:  9.1min finished\n"
     ]
    },
    {
     "data": {
      "text/plain": [
       "GridSearchCV(cv=StratifiedKFold(n_splits=2, random_state=None, shuffle=False),\n",
       "             error_score='raise-deprecating',\n",
       "             estimator=RandomForestClassifier(bootstrap=True,\n",
       "                                              class_weight='balanced',\n",
       "                                              criterion='gini', max_depth=None,\n",
       "                                              max_features='auto',\n",
       "                                              max_leaf_nodes=None,\n",
       "                                              min_impurity_decrease=0.0,\n",
       "                                              min_impurity_split=None,\n",
       "                                              min_samples_leaf=1,\n",
       "                                              min_samples_split=2,\n",
       "                                              min_weigh...\n",
       "             param_grid={'max_features': ['auto', 'sqrt', 'log2'],\n",
       "                         'n_estimators': [200, 700]},\n",
       "             pre_dispatch='2*n_jobs', refit='f1_score', return_train_score=True,\n",
       "             scoring={'accuracy': make_scorer(accuracy_score),\n",
       "                      'f1_score': make_scorer(f1_score, average=weighted),\n",
       "                      'precision': make_scorer(precision_score, average=weighted),\n",
       "                      'recall': make_scorer(recall_score, average=weighted)},\n",
       "             verbose=100)"
      ]
     },
     "execution_count": 22,
     "metadata": {},
     "output_type": "execute_result"
    }
   ],
   "source": [
    "#learning \n",
    "model,params = rf()\n",
    "grid_search = GridSearchCV(model, params, cv=StratifiedKFold(2), scoring=scorers(),\n",
    "                           refit='f1_score', return_train_score=True,verbose=100)\n",
    "grid_search.fit(train[xfeatures], train.Analisis)"
   ]
  },
  {
   "cell_type": "code",
   "execution_count": 23,
   "metadata": {},
   "outputs": [],
   "source": [
    "clf = grid_search"
   ]
  },
  {
   "cell_type": "code",
   "execution_count": 24,
   "metadata": {},
   "outputs": [],
   "source": [
    "cm = confusion_matrix(test.Analisis, clf.predict(test[xfeatures])).transpose()\n"
   ]
  },
  {
   "cell_type": "code",
   "execution_count": 25,
   "metadata": {},
   "outputs": [
    {
     "data": {
      "text/plain": [
       "array([[ 1060,   184,   237,   147,    11],\n",
       "       [  413,  2092,   484,   233,    63],\n",
       "       [ 2588,  1372, 13459,   797,   138],\n",
       "       [   53,    45,    38,   213,     2],\n",
       "       [   24,    42,    39,    13,   477]])"
      ]
     },
     "execution_count": 25,
     "metadata": {},
     "output_type": "execute_result"
    }
   ],
   "source": [
    "cm"
   ]
  },
  {
   "cell_type": "code",
   "execution_count": 26,
   "metadata": {},
   "outputs": [
    {
     "data": {
      "text/plain": [
       "{'PULMONAR': 0, 'HIPERTENCION': 1, 'DIABETES': 2, 'APNEA': 3, 'EPILEPSIA': 4}"
      ]
     },
     "execution_count": 26,
     "metadata": {},
     "output_type": "execute_result"
    }
   ],
   "source": [
    "{'PULMONAR': 0, 'HIPERTENCION': 1, 'DIABETES': 2, 'APNEA': 3, 'EPILEPSIA': 4}\n"
   ]
  },
  {
   "cell_type": "code",
   "execution_count": 27,
   "metadata": {},
   "outputs": [],
   "source": [
    "def fMeasure(precision,recall):\n",
    "    return 2*precision*recall/(precision+recall)"
   ]
  },
  {
   "cell_type": "code",
   "execution_count": 28,
   "metadata": {},
   "outputs": [],
   "source": [
    "newMatr = []\n",
    "for i in range(len(cm)):\n",
    "    prec = cm[i][i]/(sum(cm[i,:]))\n",
    "    rec = cm[i][i]/(sum(cm[:,i]))\n",
    "    newMatr.append([prec,rec,fMeasure(prec,rec),sum(cm[:,i])])"
   ]
  },
  {
   "cell_type": "code",
   "execution_count": 29,
   "metadata": {},
   "outputs": [
    {
     "name": "stdout",
     "output_type": "stream",
     "text": [
      "    Precision        Recall         F-score      Cover\n",
      "[[    0.64673581     0.2561624      0.36697248  4138.        ]\n",
      " [    0.63683409     0.5601071      0.5960114   3735.        ]\n",
      " [    0.73330064     0.9440275      0.825427   14257.        ]\n",
      " [    0.60683761     0.15181753     0.24287343  1403.        ]\n",
      " [    0.80168067     0.69030391     0.74183515   691.        ]]\n"
     ]
    }
   ],
   "source": [
    "np.set_printoptions(suppress=True)\n",
    "print('    Precision        Recall         F-score      Cover')\n",
    "print(np.array(newMatr))\n",
    "np.set_printoptions(suppress=False)"
   ]
  },
  {
   "cell_type": "code",
   "execution_count": 33,
   "metadata": {},
   "outputs": [
    {
     "name": "stdout",
     "output_type": "stream",
     "text": [
      "F1 promedio = 55.4624%\n"
     ]
    }
   ],
   "source": [
    "print('F1 promedio = {:.4f}%'.format(np.average(np.array(newMatr)[:,2])*100))"
   ]
  },
  {
   "cell_type": "code",
   "execution_count": 35,
   "metadata": {},
   "outputs": [],
   "source": [
    "importances = clf.best_estimator_.feature_importances_*100\n",
    "featsCopy = xfeatures.copy()\n",
    "\n",
    "Y = list(importances)\n",
    "X = list(featsCopy)\n",
    "\n",
    "yx = list(zip(Y, X))\n",
    "yx.sort()\n",
    "\n",
    "yx = yx[::-1]\n",
    "\n",
    "x_sorted = [x for y, x in yx]\n",
    "y_sorted = [y for y, x in yx]"
   ]
  },
  {
   "cell_type": "code",
   "execution_count": 42,
   "metadata": {},
   "outputs": [
    {
     "data": {
      "text/plain": [
       "Text(0.5, 1.0, 'Importancia de los features')"
      ]
     },
     "execution_count": 42,
     "metadata": {},
     "output_type": "execute_result"
    },
    {
     "data": {
      "image/png": "[encoded data removed]",
      "text/plain": [
       "<Figure size 1008x576 with 1 Axes>"
      ]
     },
     "metadata": {
      "needs_background": "light"
     },
     "output_type": "display_data"
    }
   ],
   "source": [
    "fig = plt.figure(figsize=(14,8))\n",
    "plt.gcf().subplots_adjust(bottom=0.15)\n",
    "plt.bar(np.arange(len(y_sorted)), y_sorted,edgecolor='black',color='firebrick')\n",
    "plt.xticks(np.arange(len(y_sorted)), x_sorted,rotation='vertical')\n",
    "plt.xlabel('Features')\n",
    "plt.ylabel('Feature importance(%)')\n",
    "plt.title(\"Importancia de los features\",fontsize = 27)\n",
    "# plt.savefig(\"../results/binFeatImportance.pdf\")"
   ]
  },
  {
   "cell_type": "code",
   "execution_count": null,
   "metadata": {},
   "outputs": [],
   "source": []
  }
 ],
 "metadata": {
  "kernelspec": {
   "display_name": "Python 3",
   "language": "python",
   "name": "python3"
  },
  "language_info": {
   "codemirror_mode": {
    "name": "ipython",
    "version": 3
   },
   "file_extension": ".py",
   "mimetype": "text/x-python",
   "name": "python",
   "nbconvert_exporter": "python",
   "pygments_lexer": "ipython3",
   "version": "3.7.3"
  }
 },
 "nbformat": 4,
 "nbformat_minor": 4
}
