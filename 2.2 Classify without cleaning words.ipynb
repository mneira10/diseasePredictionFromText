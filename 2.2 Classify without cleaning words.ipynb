{
 "cells": [
  {
   "cell_type": "code",
   "execution_count": 30,
   "metadata": {},
   "outputs": [],
   "source": [
    "import numpy as np\n",
    "import pandas as pd\n",
    "np.random.seed(0)\n",
    "\n",
    "from sklearn.ensemble import RandomForestClassifier\n",
    "from sklearn.model_selection import GridSearchCV, StratifiedKFold  # , cross_val_score\n",
    "from sklearn.metrics import make_scorer, accuracy_score, precision_score, recall_score, f1_score, precision_recall_fscore_support, confusion_matrix  # , classification_report\n",
    "from sklearn.metrics import precision_recall_curve\n",
    "from sklearn.metrics import confusion_matrix\n",
    "\n",
    "import matplotlib.pyplot as plt\n",
    "\n",
    "from sklearn.feature_extraction.text import TfidfVectorizer, CountVectorizer\n",
    "import unicodedata\n",
    "\n",
    "import tqdm\n",
    "import pickle\n",
    "\n"
   ]
  },
  {
   "cell_type": "code",
   "execution_count": 2,
   "metadata": {},
   "outputs": [],
   "source": [
    "data = pd.read_csv('./data/preClasificacion.csv')"
   ]
  },
  {
   "cell_type": "code",
   "execution_count": 3,
   "metadata": {},
   "outputs": [
    {
     "data": {
      "text/html": [
       "<div>\n",
       "<style scoped>\n",
       "    .dataframe tbody tr th:only-of-type {\n",
       "        vertical-align: middle;\n",
       "    }\n",
       "\n",
       "    .dataframe tbody tr th {\n",
       "        vertical-align: top;\n",
       "    }\n",
       "\n",
       "    .dataframe thead th {\n",
       "        text-align: right;\n",
       "    }\n",
       "</style>\n",
       "<table border=\"1\" class=\"dataframe\">\n",
       "  <thead>\n",
       "    <tr style=\"text-align: right;\">\n",
       "      <th></th>\n",
       "      <th>Unnamed: 0</th>\n",
       "      <th>idGenero</th>\n",
       "      <th>edad_grupos</th>\n",
       "      <th>idEstadoCivil</th>\n",
       "      <th>Analisis</th>\n",
       "      <th>Medicion1_PA_Sistolica</th>\n",
       "      <th>Medicion2_PA_Diastolica</th>\n",
       "      <th>Medicion3_Frecuencia_cardiaca</th>\n",
       "      <th>Medicion4_Frec_Respiratoria</th>\n",
       "      <th>Medicion5_Temperatura</th>\n",
       "      <th>...</th>\n",
       "      <th>Medicion8_IMC</th>\n",
       "      <th>motivoPaciente</th>\n",
       "      <th>enfermedadActual</th>\n",
       "      <th>Zona2_Cabeza_Cuello</th>\n",
       "      <th>Zona3_Cardio_Pulmonar</th>\n",
       "      <th>codigoDiagnostico</th>\n",
       "      <th>Concepto</th>\n",
       "      <th>id</th>\n",
       "      <th>original</th>\n",
       "      <th>dataset</th>\n",
       "    </tr>\n",
       "  </thead>\n",
       "  <tbody>\n",
       "    <tr>\n",
       "      <td>0</td>\n",
       "      <td>0</td>\n",
       "      <td>1</td>\n",
       "      <td>1-67</td>\n",
       "      <td>9</td>\n",
       "      <td>HIPERTENCION</td>\n",
       "      <td>138</td>\n",
       "      <td>82</td>\n",
       "      <td>64</td>\n",
       "      <td>19</td>\n",
       "      <td>36.3</td>\n",
       "      <td>...</td>\n",
       "      <td>28.73</td>\n",
       "      <td>CONTROL</td>\n",
       "      <td>PACIENTE DE 60 AÑOS DE EDAD CON DIAGNOSTICOS  ...</td>\n",
       "      <td>Sin alteraciones.</td>\n",
       "      <td>RSCS RIMTICOS SIN SOPLOS RSRS MURMULLO EVSICUL...</td>\n",
       "      <td>I10X</td>\n",
       "      <td>PACIENTE DE 60 AÑOS DE EDAD CON DIAGNOSTICOS H...</td>\n",
       "      <td>1</td>\n",
       "      <td>True</td>\n",
       "      <td>train</td>\n",
       "    </tr>\n",
       "    <tr>\n",
       "      <td>1</td>\n",
       "      <td>1</td>\n",
       "      <td>2</td>\n",
       "      <td>78-84</td>\n",
       "      <td>1</td>\n",
       "      <td>HIPERTENCION</td>\n",
       "      <td>187</td>\n",
       "      <td>64</td>\n",
       "      <td>73</td>\n",
       "      <td>17</td>\n",
       "      <td>36.2</td>\n",
       "      <td>...</td>\n",
       "      <td>30.42</td>\n",
       "      <td>\" TENEMOS EL CONTROL \"</td>\n",
       "      <td>PACIENTE DE 76 AÑOS  CON DIAGNOSTICO:   1. HIP...</td>\n",
       "      <td>Sin alteraciones.</td>\n",
       "      <td>RSRS SIN AGREGADOS RSCS RITMICOS SIN SOPLOS</td>\n",
       "      <td>I10X</td>\n",
       "      <td>PACIENTE EN PROGRAMA CRONICO; CURSA CON HTA EN...</td>\n",
       "      <td>2</td>\n",
       "      <td>True</td>\n",
       "      <td>train</td>\n",
       "    </tr>\n",
       "    <tr>\n",
       "      <td>2</td>\n",
       "      <td>8</td>\n",
       "      <td>2</td>\n",
       "      <td>1-67</td>\n",
       "      <td>3</td>\n",
       "      <td>HIPERTENCION</td>\n",
       "      <td>118</td>\n",
       "      <td>75</td>\n",
       "      <td>90</td>\n",
       "      <td>19</td>\n",
       "      <td>36.2</td>\n",
       "      <td>...</td>\n",
       "      <td>26.02</td>\n",
       "      <td>CONTROL CRÓNICOS CAPITAL SALUD  NATURAL LA CAP...</td>\n",
       "      <td>PACIENTE FEMENINA DE 54 AÑOS CON DIAGNÓSTICOS ...</td>\n",
       "      <td>SIN CIANOSIS</td>\n",
       "      <td>RUIDOS CARDIOVASCULAR  RUIDOS RESPIRATORIOS CO...</td>\n",
       "      <td>I10X</td>\n",
       "      <td>PACIENTE FEMENINA CON DIAGNÓSTICOS ANOTADOS  S...</td>\n",
       "      <td>9</td>\n",
       "      <td>True</td>\n",
       "      <td>train</td>\n",
       "    </tr>\n",
       "    <tr>\n",
       "      <td>3</td>\n",
       "      <td>9</td>\n",
       "      <td>2</td>\n",
       "      <td>&gt;84</td>\n",
       "      <td>1</td>\n",
       "      <td>HIPERTENCION</td>\n",
       "      <td>158</td>\n",
       "      <td>59</td>\n",
       "      <td>58</td>\n",
       "      <td>15</td>\n",
       "      <td>36.0</td>\n",
       "      <td>...</td>\n",
       "      <td>24.89</td>\n",
       "      <td>CONTROL PROGRAMA CRONICOS</td>\n",
       "      <td>PACIENTE DE 84 AÑOS CON DIAGNOSTICOS DE:  1. E...</td>\n",
       "      <td>NO INGURGITACION YUGULAR.</td>\n",
       "      <td>RSCS RITMICOS SIN SOPLOS. RSRS MV CONSERVADOS ...</td>\n",
       "      <td>I10X</td>\n",
       "      <td>PACIENTE ADULTA MAYOR  CON DIAGNOSTICOS ANOTAD...</td>\n",
       "      <td>10</td>\n",
       "      <td>True</td>\n",
       "      <td>train</td>\n",
       "    </tr>\n",
       "    <tr>\n",
       "      <td>4</td>\n",
       "      <td>11</td>\n",
       "      <td>2</td>\n",
       "      <td>1-67</td>\n",
       "      <td>9</td>\n",
       "      <td>HIPERTENCION</td>\n",
       "      <td>112</td>\n",
       "      <td>76</td>\n",
       "      <td>95</td>\n",
       "      <td>20</td>\n",
       "      <td>36.6</td>\n",
       "      <td>...</td>\n",
       "      <td>34.19</td>\n",
       "      <td>CONTROL</td>\n",
       "      <td>PACIENTE DE 42 AÑOS DE EDAD CON DIAGNOSTICO DE...</td>\n",
       "      <td>Sin alteraciones.</td>\n",
       "      <td>RSCS RITMICOS SIN SOPLOS RSRS MURMULLO EVSICUL...</td>\n",
       "      <td>I10X</td>\n",
       "      <td>PACIENTE DE 42 AÑOS DE EDAD CON DIAGNOSTICO DE...</td>\n",
       "      <td>12</td>\n",
       "      <td>True</td>\n",
       "      <td>train</td>\n",
       "    </tr>\n",
       "  </tbody>\n",
       "</table>\n",
       "<p>5 rows × 22 columns</p>\n",
       "</div>"
      ],
      "text/plain": [
       "   Unnamed: 0  idGenero edad_grupos  idEstadoCivil      Analisis  \\\n",
       "0           0         1        1-67              9  HIPERTENCION   \n",
       "1           1         2       78-84              1  HIPERTENCION   \n",
       "2           8         2        1-67              3  HIPERTENCION   \n",
       "3           9         2         >84              1  HIPERTENCION   \n",
       "4          11         2        1-67              9  HIPERTENCION   \n",
       "\n",
       "   Medicion1_PA_Sistolica  Medicion2_PA_Diastolica  \\\n",
       "0                     138                       82   \n",
       "1                     187                       64   \n",
       "2                     118                       75   \n",
       "3                     158                       59   \n",
       "4                     112                       76   \n",
       "\n",
       "   Medicion3_Frecuencia_cardiaca  Medicion4_Frec_Respiratoria  \\\n",
       "0                             64                           19   \n",
       "1                             73                           17   \n",
       "2                             90                           19   \n",
       "3                             58                           15   \n",
       "4                             95                           20   \n",
       "\n",
       "   Medicion5_Temperatura  ...  Medicion8_IMC  \\\n",
       "0                   36.3  ...          28.73   \n",
       "1                   36.2  ...          30.42   \n",
       "2                   36.2  ...          26.02   \n",
       "3                   36.0  ...          24.89   \n",
       "4                   36.6  ...          34.19   \n",
       "\n",
       "                                      motivoPaciente  \\\n",
       "0                                            CONTROL   \n",
       "1                            \" TENEMOS EL CONTROL \"    \n",
       "2  CONTROL CRÓNICOS CAPITAL SALUD  NATURAL LA CAP...   \n",
       "3                         CONTROL PROGRAMA CRONICOS    \n",
       "4                                            CONTROL   \n",
       "\n",
       "                                    enfermedadActual  \\\n",
       "0  PACIENTE DE 60 AÑOS DE EDAD CON DIAGNOSTICOS  ...   \n",
       "1  PACIENTE DE 76 AÑOS  CON DIAGNOSTICO:   1. HIP...   \n",
       "2  PACIENTE FEMENINA DE 54 AÑOS CON DIAGNÓSTICOS ...   \n",
       "3  PACIENTE DE 84 AÑOS CON DIAGNOSTICOS DE:  1. E...   \n",
       "4  PACIENTE DE 42 AÑOS DE EDAD CON DIAGNOSTICO DE...   \n",
       "\n",
       "          Zona2_Cabeza_Cuello  \\\n",
       "0           Sin alteraciones.   \n",
       "1           Sin alteraciones.   \n",
       "2               SIN CIANOSIS    \n",
       "3  NO INGURGITACION YUGULAR.    \n",
       "4           Sin alteraciones.   \n",
       "\n",
       "                               Zona3_Cardio_Pulmonar codigoDiagnostico  \\\n",
       "0  RSCS RIMTICOS SIN SOPLOS RSRS MURMULLO EVSICUL...              I10X   \n",
       "1        RSRS SIN AGREGADOS RSCS RITMICOS SIN SOPLOS              I10X   \n",
       "2  RUIDOS CARDIOVASCULAR  RUIDOS RESPIRATORIOS CO...              I10X   \n",
       "3  RSCS RITMICOS SIN SOPLOS. RSRS MV CONSERVADOS ...              I10X   \n",
       "4  RSCS RITMICOS SIN SOPLOS RSRS MURMULLO EVSICUL...              I10X   \n",
       "\n",
       "                                            Concepto  id original  dataset  \n",
       "0  PACIENTE DE 60 AÑOS DE EDAD CON DIAGNOSTICOS H...   1     True    train  \n",
       "1  PACIENTE EN PROGRAMA CRONICO; CURSA CON HTA EN...   2     True    train  \n",
       "2  PACIENTE FEMENINA CON DIAGNÓSTICOS ANOTADOS  S...   9     True    train  \n",
       "3  PACIENTE ADULTA MAYOR  CON DIAGNOSTICOS ANOTAD...  10     True    train  \n",
       "4  PACIENTE DE 42 AÑOS DE EDAD CON DIAGNOSTICO DE...  12     True    train  \n",
       "\n",
       "[5 rows x 22 columns]"
      ]
     },
     "execution_count": 3,
     "metadata": {},
     "output_type": "execute_result"
    }
   ],
   "source": [
    "data.head()"
   ]
  },
  {
   "cell_type": "code",
   "execution_count": 4,
   "metadata": {},
   "outputs": [],
   "source": [
    "def normunicode_data(string):\n",
    "    '''\n",
    "     Normalise (normalize) unicode data in Python to remove umlauts, accents etc.\n",
    "    '''\n",
    "    #print(strin)\n",
    "    return unicodedata.normalize('NFKD', string).encode('ASCII', 'ignore').decode(\"utf-8\").lower()"
   ]
  },
  {
   "cell_type": "code",
   "execution_count": 5,
   "metadata": {},
   "outputs": [],
   "source": [
    "textFields = ['motivoPaciente','enfermedadActual','Zona2_Cabeza_Cuello','Zona3_Cardio_Pulmonar','Concepto']"
   ]
  },
  {
   "cell_type": "code",
   "execution_count": 6,
   "metadata": {},
   "outputs": [
    {
     "name": "stderr",
     "output_type": "stream",
     "text": [
      "100%|██████████| 5/5 [00:15<00:00,  2.26s/it]\n"
     ]
    }
   ],
   "source": [
    "for tf in tqdm.tqdm(textFields):\n",
    "    # quita acentos, dieresis, etc\n",
    "    data[tf] = data[tf].apply(lambda row: normunicode_data(row))\n",
    "    # quita numeros\n",
    "    data[tf] = data[tf].str.replace('\\d+', '')\n",
    "    # quita puntuacion: ,.:;\"\n",
    "    data[tf] = data[tf].str.replace('[^\\w\\s]','')\n",
    "\n"
   ]
  },
  {
   "cell_type": "code",
   "execution_count": 7,
   "metadata": {},
   "outputs": [],
   "source": [
    "train = data[data.dataset=='train']\n",
    "test = data[data.dataset=='test']"
   ]
  },
  {
   "cell_type": "code",
   "execution_count": 8,
   "metadata": {},
   "outputs": [
    {
     "data": {
      "text/plain": [
       "(72426,)"
      ]
     },
     "execution_count": 8,
     "metadata": {},
     "output_type": "execute_result"
    }
   ],
   "source": [
    "train['motivoPaciente'].shape"
   ]
  },
  {
   "cell_type": "code",
   "execution_count": 28,
   "metadata": {},
   "outputs": [
    {
     "name": "stdout",
     "output_type": "stream",
     "text": [
      "processing motivoPaciente\n",
      "calculating tf-idf matrix...\n",
      "converting matrix to dataframe...\n",
      "saving dataframe...\n",
      "processing enfermedadActual\n",
      "calculating tf-idf matrix...\n",
      "converting matrix to dataframe...\n",
      "saving dataframe...\n",
      "processing Zona2_Cabeza_Cuello\n",
      "calculating tf-idf matrix...\n",
      "converting matrix to dataframe...\n",
      "saving dataframe...\n",
      "processing Zona3_Cardio_Pulmonar\n",
      "calculating tf-idf matrix...\n",
      "converting matrix to dataframe...\n",
      "saving dataframe...\n",
      "processing Concepto\n",
      "calculating tf-idf matrix...\n",
      "converting matrix to dataframe...\n",
      "saving dataframe...\n"
     ]
    }
   ],
   "source": [
    "\n",
    "vectorizers  = {}\n",
    "for tf in textFields:\n",
    "    print('processing',tf)\n",
    "    \n",
    "    colToAnalyse = train[tf]\n",
    "    \n",
    "        \n",
    "    best_params = {'v__max_features': 2000 if tf=='enfermedadActual' else 1000 , 'v__ngram_range': (1, 3)}\n",
    "\n",
    "    \n",
    "    vectorizer = TfidfVectorizer(\n",
    "        ngram_range=best_params['v__ngram_range'], \n",
    "        max_features=best_params['v__max_features'])\n",
    "    \n",
    "    print('calculating tf-idf matrix...')\n",
    "    X = vectorizer.fit_transform(train[tf])\n",
    "    \n",
    "    print('converting matrix to dataframe...')\n",
    "    featdf = pd.DataFrame(X.toarray(),columns=[tf+ \" \" + x for x in vectorizer.get_feature_names()])\n",
    "    \n",
    "    print('saving dataframe...')\n",
    "    featdf.to_csv('./data/uncleanTfIdf/'+tf+'.csv')\n",
    "    \n",
    "    vectorizers[tf] = vectorizer\n",
    "    \n",
    "    # free up memory \n",
    "    del featdf\n",
    "    del X\n",
    "    \n",
    "    \n",
    "    \n",
    "    \n",
    "    "
   ]
  },
  {
   "cell_type": "code",
   "execution_count": 32,
   "metadata": {},
   "outputs": [],
   "source": [
    "# todo guardar vectorizers\n",
    "with open('./vectorizers/nonCleanWords.pickle', 'wb') as handle:\n",
    "    pickle.dump(vectorizers, handle, protocol=pickle.HIGHEST_PROTOCOL)\n",
    "    \n",
    "# to read\n",
    "# with open('filename.pickle', 'rb') as handle:\n",
    "#     b = pickle.load(handle)"
   ]
  },
  {
   "cell_type": "code",
   "execution_count": 41,
   "metadata": {},
   "outputs": [
    {
     "ename": "MemoryError",
     "evalue": "",
     "output_type": "error",
     "traceback": [
      "\u001b[0;31m---------------------------------------------------------------------------\u001b[0m",
      "\u001b[0;31mMemoryError\u001b[0m                               Traceback (most recent call last)",
      "\u001b[0;32m<ipython-input-41-8cd36805f048>\u001b[0m in \u001b[0;36m<module>\u001b[0;34m\u001b[0m\n\u001b[1;32m      2\u001b[0m     \u001b[0mnewDf\u001b[0m \u001b[0;34m=\u001b[0m \u001b[0mpd\u001b[0m\u001b[0;34m.\u001b[0m\u001b[0mread_csv\u001b[0m\u001b[0;34m(\u001b[0m\u001b[0;34m'./data/uncleanTfIdf/'\u001b[0m\u001b[0;34m+\u001b[0m\u001b[0mtf\u001b[0m\u001b[0;34m+\u001b[0m\u001b[0;34m'.csv'\u001b[0m\u001b[0;34m)\u001b[0m\u001b[0;34m\u001b[0m\u001b[0;34m\u001b[0m\u001b[0m\n\u001b[1;32m      3\u001b[0m     \u001b[0mnewDf\u001b[0m \u001b[0;34m=\u001b[0m \u001b[0mnewDf\u001b[0m\u001b[0;34m.\u001b[0m\u001b[0mdrop\u001b[0m\u001b[0;34m(\u001b[0m\u001b[0;34m[\u001b[0m\u001b[0;34m'Unnamed: 0'\u001b[0m\u001b[0;34m]\u001b[0m\u001b[0;34m,\u001b[0m\u001b[0maxis\u001b[0m\u001b[0;34m=\u001b[0m\u001b[0;36m1\u001b[0m\u001b[0;34m)\u001b[0m\u001b[0;34m\u001b[0m\u001b[0;34m\u001b[0m\u001b[0m\n\u001b[0;32m----> 4\u001b[0;31m     \u001b[0mtrain\u001b[0m \u001b[0;34m=\u001b[0m \u001b[0mpd\u001b[0m\u001b[0;34m.\u001b[0m\u001b[0mconcat\u001b[0m\u001b[0;34m(\u001b[0m\u001b[0;34m[\u001b[0m\u001b[0mtrain\u001b[0m\u001b[0;34m,\u001b[0m \u001b[0mnewDf\u001b[0m\u001b[0;34m]\u001b[0m\u001b[0;34m,\u001b[0m \u001b[0maxis\u001b[0m\u001b[0;34m=\u001b[0m\u001b[0;36m1\u001b[0m\u001b[0;34m,\u001b[0m \u001b[0msort\u001b[0m\u001b[0;34m=\u001b[0m\u001b[0;32mFalse\u001b[0m\u001b[0;34m)\u001b[0m\u001b[0;34m\u001b[0m\u001b[0;34m\u001b[0m\u001b[0m\n\u001b[0m\u001b[1;32m      5\u001b[0m     \u001b[0;32mdel\u001b[0m \u001b[0mnewDf\u001b[0m\u001b[0;34m\u001b[0m\u001b[0;34m\u001b[0m\u001b[0m\n",
      "\u001b[0;32m~/anaconda3/lib/python3.7/site-packages/pandas/core/reshape/concat.py\u001b[0m in \u001b[0;36mconcat\u001b[0;34m(objs, axis, join, join_axes, ignore_index, keys, levels, names, verify_integrity, sort, copy)\u001b[0m\n\u001b[1;32m    253\u001b[0m         \u001b[0mverify_integrity\u001b[0m\u001b[0;34m=\u001b[0m\u001b[0mverify_integrity\u001b[0m\u001b[0;34m,\u001b[0m\u001b[0;34m\u001b[0m\u001b[0;34m\u001b[0m\u001b[0m\n\u001b[1;32m    254\u001b[0m         \u001b[0mcopy\u001b[0m\u001b[0;34m=\u001b[0m\u001b[0mcopy\u001b[0m\u001b[0;34m,\u001b[0m\u001b[0;34m\u001b[0m\u001b[0;34m\u001b[0m\u001b[0m\n\u001b[0;32m--> 255\u001b[0;31m         \u001b[0msort\u001b[0m\u001b[0;34m=\u001b[0m\u001b[0msort\u001b[0m\u001b[0;34m,\u001b[0m\u001b[0;34m\u001b[0m\u001b[0;34m\u001b[0m\u001b[0m\n\u001b[0m\u001b[1;32m    256\u001b[0m     )\n\u001b[1;32m    257\u001b[0m \u001b[0;34m\u001b[0m\u001b[0m\n",
      "\u001b[0;32m~/anaconda3/lib/python3.7/site-packages/pandas/core/reshape/concat.py\u001b[0m in \u001b[0;36m__init__\u001b[0;34m(self, objs, axis, join, join_axes, keys, levels, names, ignore_index, verify_integrity, copy, sort)\u001b[0m\n\u001b[1;32m    333\u001b[0m \u001b[0;34m\u001b[0m\u001b[0m\n\u001b[1;32m    334\u001b[0m             \u001b[0;31m# consolidate\u001b[0m\u001b[0;34m\u001b[0m\u001b[0;34m\u001b[0m\u001b[0;34m\u001b[0m\u001b[0m\n\u001b[0;32m--> 335\u001b[0;31m             \u001b[0mobj\u001b[0m\u001b[0;34m.\u001b[0m\u001b[0m_consolidate\u001b[0m\u001b[0;34m(\u001b[0m\u001b[0minplace\u001b[0m\u001b[0;34m=\u001b[0m\u001b[0;32mTrue\u001b[0m\u001b[0;34m)\u001b[0m\u001b[0;34m\u001b[0m\u001b[0;34m\u001b[0m\u001b[0m\n\u001b[0m\u001b[1;32m    336\u001b[0m             \u001b[0mndims\u001b[0m\u001b[0;34m.\u001b[0m\u001b[0madd\u001b[0m\u001b[0;34m(\u001b[0m\u001b[0mobj\u001b[0m\u001b[0;34m.\u001b[0m\u001b[0mndim\u001b[0m\u001b[0;34m)\u001b[0m\u001b[0;34m\u001b[0m\u001b[0;34m\u001b[0m\u001b[0m\n\u001b[1;32m    337\u001b[0m \u001b[0;34m\u001b[0m\u001b[0m\n",
      "\u001b[0;32m~/anaconda3/lib/python3.7/site-packages/pandas/core/generic.py\u001b[0m in \u001b[0;36m_consolidate\u001b[0;34m(self, inplace)\u001b[0m\n\u001b[1;32m   5268\u001b[0m         \u001b[0minplace\u001b[0m \u001b[0;34m=\u001b[0m \u001b[0mvalidate_bool_kwarg\u001b[0m\u001b[0;34m(\u001b[0m\u001b[0minplace\u001b[0m\u001b[0;34m,\u001b[0m \u001b[0;34m\"inplace\"\u001b[0m\u001b[0;34m)\u001b[0m\u001b[0;34m\u001b[0m\u001b[0;34m\u001b[0m\u001b[0m\n\u001b[1;32m   5269\u001b[0m         \u001b[0;32mif\u001b[0m \u001b[0minplace\u001b[0m\u001b[0;34m:\u001b[0m\u001b[0;34m\u001b[0m\u001b[0;34m\u001b[0m\u001b[0m\n\u001b[0;32m-> 5270\u001b[0;31m             \u001b[0mself\u001b[0m\u001b[0;34m.\u001b[0m\u001b[0m_consolidate_inplace\u001b[0m\u001b[0;34m(\u001b[0m\u001b[0;34m)\u001b[0m\u001b[0;34m\u001b[0m\u001b[0;34m\u001b[0m\u001b[0m\n\u001b[0m\u001b[1;32m   5271\u001b[0m         \u001b[0;32melse\u001b[0m\u001b[0;34m:\u001b[0m\u001b[0;34m\u001b[0m\u001b[0;34m\u001b[0m\u001b[0m\n\u001b[1;32m   5272\u001b[0m             \u001b[0mf\u001b[0m \u001b[0;34m=\u001b[0m \u001b[0;32mlambda\u001b[0m\u001b[0;34m:\u001b[0m \u001b[0mself\u001b[0m\u001b[0;34m.\u001b[0m\u001b[0m_data\u001b[0m\u001b[0;34m.\u001b[0m\u001b[0mconsolidate\u001b[0m\u001b[0;34m(\u001b[0m\u001b[0;34m)\u001b[0m\u001b[0;34m\u001b[0m\u001b[0;34m\u001b[0m\u001b[0m\n",
      "\u001b[0;32m~/anaconda3/lib/python3.7/site-packages/pandas/core/generic.py\u001b[0m in \u001b[0;36m_consolidate_inplace\u001b[0;34m(self)\u001b[0m\n\u001b[1;32m   5250\u001b[0m             \u001b[0mself\u001b[0m\u001b[0;34m.\u001b[0m\u001b[0m_data\u001b[0m \u001b[0;34m=\u001b[0m \u001b[0mself\u001b[0m\u001b[0;34m.\u001b[0m\u001b[0m_data\u001b[0m\u001b[0;34m.\u001b[0m\u001b[0mconsolidate\u001b[0m\u001b[0;34m(\u001b[0m\u001b[0;34m)\u001b[0m\u001b[0;34m\u001b[0m\u001b[0;34m\u001b[0m\u001b[0m\n\u001b[1;32m   5251\u001b[0m \u001b[0;34m\u001b[0m\u001b[0m\n\u001b[0;32m-> 5252\u001b[0;31m         \u001b[0mself\u001b[0m\u001b[0;34m.\u001b[0m\u001b[0m_protect_consolidate\u001b[0m\u001b[0;34m(\u001b[0m\u001b[0mf\u001b[0m\u001b[0;34m)\u001b[0m\u001b[0;34m\u001b[0m\u001b[0;34m\u001b[0m\u001b[0m\n\u001b[0m\u001b[1;32m   5253\u001b[0m \u001b[0;34m\u001b[0m\u001b[0m\n\u001b[1;32m   5254\u001b[0m     \u001b[0;32mdef\u001b[0m \u001b[0m_consolidate\u001b[0m\u001b[0;34m(\u001b[0m\u001b[0mself\u001b[0m\u001b[0;34m,\u001b[0m \u001b[0minplace\u001b[0m\u001b[0;34m=\u001b[0m\u001b[0;32mFalse\u001b[0m\u001b[0;34m)\u001b[0m\u001b[0;34m:\u001b[0m\u001b[0;34m\u001b[0m\u001b[0;34m\u001b[0m\u001b[0m\n",
      "\u001b[0;32m~/anaconda3/lib/python3.7/site-packages/pandas/core/generic.py\u001b[0m in \u001b[0;36m_protect_consolidate\u001b[0;34m(self, f)\u001b[0m\n\u001b[1;32m   5239\u001b[0m         \"\"\"\n\u001b[1;32m   5240\u001b[0m         \u001b[0mblocks_before\u001b[0m \u001b[0;34m=\u001b[0m \u001b[0mlen\u001b[0m\u001b[0;34m(\u001b[0m\u001b[0mself\u001b[0m\u001b[0;34m.\u001b[0m\u001b[0m_data\u001b[0m\u001b[0;34m.\u001b[0m\u001b[0mblocks\u001b[0m\u001b[0;34m)\u001b[0m\u001b[0;34m\u001b[0m\u001b[0;34m\u001b[0m\u001b[0m\n\u001b[0;32m-> 5241\u001b[0;31m         \u001b[0mresult\u001b[0m \u001b[0;34m=\u001b[0m \u001b[0mf\u001b[0m\u001b[0;34m(\u001b[0m\u001b[0;34m)\u001b[0m\u001b[0;34m\u001b[0m\u001b[0;34m\u001b[0m\u001b[0m\n\u001b[0m\u001b[1;32m   5242\u001b[0m         \u001b[0;32mif\u001b[0m \u001b[0mlen\u001b[0m\u001b[0;34m(\u001b[0m\u001b[0mself\u001b[0m\u001b[0;34m.\u001b[0m\u001b[0m_data\u001b[0m\u001b[0;34m.\u001b[0m\u001b[0mblocks\u001b[0m\u001b[0;34m)\u001b[0m \u001b[0;34m!=\u001b[0m \u001b[0mblocks_before\u001b[0m\u001b[0;34m:\u001b[0m\u001b[0;34m\u001b[0m\u001b[0;34m\u001b[0m\u001b[0m\n\u001b[1;32m   5243\u001b[0m             \u001b[0mself\u001b[0m\u001b[0;34m.\u001b[0m\u001b[0m_clear_item_cache\u001b[0m\u001b[0;34m(\u001b[0m\u001b[0;34m)\u001b[0m\u001b[0;34m\u001b[0m\u001b[0;34m\u001b[0m\u001b[0m\n",
      "\u001b[0;32m~/anaconda3/lib/python3.7/site-packages/pandas/core/generic.py\u001b[0m in \u001b[0;36mf\u001b[0;34m()\u001b[0m\n\u001b[1;32m   5248\u001b[0m \u001b[0;34m\u001b[0m\u001b[0m\n\u001b[1;32m   5249\u001b[0m         \u001b[0;32mdef\u001b[0m \u001b[0mf\u001b[0m\u001b[0;34m(\u001b[0m\u001b[0;34m)\u001b[0m\u001b[0;34m:\u001b[0m\u001b[0;34m\u001b[0m\u001b[0;34m\u001b[0m\u001b[0m\n\u001b[0;32m-> 5250\u001b[0;31m             \u001b[0mself\u001b[0m\u001b[0;34m.\u001b[0m\u001b[0m_data\u001b[0m \u001b[0;34m=\u001b[0m \u001b[0mself\u001b[0m\u001b[0;34m.\u001b[0m\u001b[0m_data\u001b[0m\u001b[0;34m.\u001b[0m\u001b[0mconsolidate\u001b[0m\u001b[0;34m(\u001b[0m\u001b[0;34m)\u001b[0m\u001b[0;34m\u001b[0m\u001b[0;34m\u001b[0m\u001b[0m\n\u001b[0m\u001b[1;32m   5251\u001b[0m \u001b[0;34m\u001b[0m\u001b[0m\n\u001b[1;32m   5252\u001b[0m         \u001b[0mself\u001b[0m\u001b[0;34m.\u001b[0m\u001b[0m_protect_consolidate\u001b[0m\u001b[0;34m(\u001b[0m\u001b[0mf\u001b[0m\u001b[0;34m)\u001b[0m\u001b[0;34m\u001b[0m\u001b[0;34m\u001b[0m\u001b[0m\n",
      "\u001b[0;32m~/anaconda3/lib/python3.7/site-packages/pandas/core/internals/managers.py\u001b[0m in \u001b[0;36mconsolidate\u001b[0;34m(self)\u001b[0m\n\u001b[1;32m    930\u001b[0m         \u001b[0mbm\u001b[0m \u001b[0;34m=\u001b[0m \u001b[0mself\u001b[0m\u001b[0;34m.\u001b[0m\u001b[0m__class__\u001b[0m\u001b[0;34m(\u001b[0m\u001b[0mself\u001b[0m\u001b[0;34m.\u001b[0m\u001b[0mblocks\u001b[0m\u001b[0;34m,\u001b[0m \u001b[0mself\u001b[0m\u001b[0;34m.\u001b[0m\u001b[0maxes\u001b[0m\u001b[0;34m)\u001b[0m\u001b[0;34m\u001b[0m\u001b[0;34m\u001b[0m\u001b[0m\n\u001b[1;32m    931\u001b[0m         \u001b[0mbm\u001b[0m\u001b[0;34m.\u001b[0m\u001b[0m_is_consolidated\u001b[0m \u001b[0;34m=\u001b[0m \u001b[0;32mFalse\u001b[0m\u001b[0;34m\u001b[0m\u001b[0;34m\u001b[0m\u001b[0m\n\u001b[0;32m--> 932\u001b[0;31m         \u001b[0mbm\u001b[0m\u001b[0;34m.\u001b[0m\u001b[0m_consolidate_inplace\u001b[0m\u001b[0;34m(\u001b[0m\u001b[0;34m)\u001b[0m\u001b[0;34m\u001b[0m\u001b[0;34m\u001b[0m\u001b[0m\n\u001b[0m\u001b[1;32m    933\u001b[0m         \u001b[0;32mreturn\u001b[0m \u001b[0mbm\u001b[0m\u001b[0;34m\u001b[0m\u001b[0;34m\u001b[0m\u001b[0m\n\u001b[1;32m    934\u001b[0m \u001b[0;34m\u001b[0m\u001b[0m\n",
      "\u001b[0;32m~/anaconda3/lib/python3.7/site-packages/pandas/core/internals/managers.py\u001b[0m in \u001b[0;36m_consolidate_inplace\u001b[0;34m(self)\u001b[0m\n\u001b[1;32m    935\u001b[0m     \u001b[0;32mdef\u001b[0m \u001b[0m_consolidate_inplace\u001b[0m\u001b[0;34m(\u001b[0m\u001b[0mself\u001b[0m\u001b[0;34m)\u001b[0m\u001b[0;34m:\u001b[0m\u001b[0;34m\u001b[0m\u001b[0;34m\u001b[0m\u001b[0m\n\u001b[1;32m    936\u001b[0m         \u001b[0;32mif\u001b[0m \u001b[0;32mnot\u001b[0m \u001b[0mself\u001b[0m\u001b[0;34m.\u001b[0m\u001b[0mis_consolidated\u001b[0m\u001b[0;34m(\u001b[0m\u001b[0;34m)\u001b[0m\u001b[0;34m:\u001b[0m\u001b[0;34m\u001b[0m\u001b[0;34m\u001b[0m\u001b[0m\n\u001b[0;32m--> 937\u001b[0;31m             \u001b[0mself\u001b[0m\u001b[0;34m.\u001b[0m\u001b[0mblocks\u001b[0m \u001b[0;34m=\u001b[0m \u001b[0mtuple\u001b[0m\u001b[0;34m(\u001b[0m\u001b[0m_consolidate\u001b[0m\u001b[0;34m(\u001b[0m\u001b[0mself\u001b[0m\u001b[0;34m.\u001b[0m\u001b[0mblocks\u001b[0m\u001b[0;34m)\u001b[0m\u001b[0;34m)\u001b[0m\u001b[0;34m\u001b[0m\u001b[0;34m\u001b[0m\u001b[0m\n\u001b[0m\u001b[1;32m    938\u001b[0m             \u001b[0mself\u001b[0m\u001b[0;34m.\u001b[0m\u001b[0m_is_consolidated\u001b[0m \u001b[0;34m=\u001b[0m \u001b[0;32mTrue\u001b[0m\u001b[0;34m\u001b[0m\u001b[0;34m\u001b[0m\u001b[0m\n\u001b[1;32m    939\u001b[0m             \u001b[0mself\u001b[0m\u001b[0;34m.\u001b[0m\u001b[0m_known_consolidated\u001b[0m \u001b[0;34m=\u001b[0m \u001b[0;32mTrue\u001b[0m\u001b[0;34m\u001b[0m\u001b[0;34m\u001b[0m\u001b[0m\n",
      "\u001b[0;32m~/anaconda3/lib/python3.7/site-packages/pandas/core/internals/managers.py\u001b[0m in \u001b[0;36m_consolidate\u001b[0;34m(blocks)\u001b[0m\n\u001b[1;32m   1911\u001b[0m     \u001b[0;32mfor\u001b[0m \u001b[0;34m(\u001b[0m\u001b[0m_can_consolidate\u001b[0m\u001b[0;34m,\u001b[0m \u001b[0mdtype\u001b[0m\u001b[0;34m)\u001b[0m\u001b[0;34m,\u001b[0m \u001b[0mgroup_blocks\u001b[0m \u001b[0;32min\u001b[0m \u001b[0mgrouper\u001b[0m\u001b[0;34m:\u001b[0m\u001b[0;34m\u001b[0m\u001b[0;34m\u001b[0m\u001b[0m\n\u001b[1;32m   1912\u001b[0m         merged_blocks = _merge_blocks(\n\u001b[0;32m-> 1913\u001b[0;31m             \u001b[0mlist\u001b[0m\u001b[0;34m(\u001b[0m\u001b[0mgroup_blocks\u001b[0m\u001b[0;34m)\u001b[0m\u001b[0;34m,\u001b[0m \u001b[0mdtype\u001b[0m\u001b[0;34m=\u001b[0m\u001b[0mdtype\u001b[0m\u001b[0;34m,\u001b[0m \u001b[0m_can_consolidate\u001b[0m\u001b[0;34m=\u001b[0m\u001b[0m_can_consolidate\u001b[0m\u001b[0;34m\u001b[0m\u001b[0;34m\u001b[0m\u001b[0m\n\u001b[0m\u001b[1;32m   1914\u001b[0m         )\n\u001b[1;32m   1915\u001b[0m         \u001b[0mnew_blocks\u001b[0m \u001b[0;34m=\u001b[0m \u001b[0m_extend_blocks\u001b[0m\u001b[0;34m(\u001b[0m\u001b[0mmerged_blocks\u001b[0m\u001b[0;34m,\u001b[0m \u001b[0mnew_blocks\u001b[0m\u001b[0;34m)\u001b[0m\u001b[0;34m\u001b[0m\u001b[0;34m\u001b[0m\u001b[0m\n",
      "\u001b[0;32m~/anaconda3/lib/python3.7/site-packages/pandas/core/internals/blocks.py\u001b[0m in \u001b[0;36m_merge_blocks\u001b[0;34m(blocks, dtype, _can_consolidate)\u001b[0m\n\u001b[1;32m   3321\u001b[0m \u001b[0;34m\u001b[0m\u001b[0m\n\u001b[1;32m   3322\u001b[0m         \u001b[0margsort\u001b[0m \u001b[0;34m=\u001b[0m \u001b[0mnp\u001b[0m\u001b[0;34m.\u001b[0m\u001b[0margsort\u001b[0m\u001b[0;34m(\u001b[0m\u001b[0mnew_mgr_locs\u001b[0m\u001b[0;34m)\u001b[0m\u001b[0;34m\u001b[0m\u001b[0;34m\u001b[0m\u001b[0m\n\u001b[0;32m-> 3323\u001b[0;31m         \u001b[0mnew_values\u001b[0m \u001b[0;34m=\u001b[0m \u001b[0mnew_values\u001b[0m\u001b[0;34m[\u001b[0m\u001b[0margsort\u001b[0m\u001b[0;34m]\u001b[0m\u001b[0;34m\u001b[0m\u001b[0;34m\u001b[0m\u001b[0m\n\u001b[0m\u001b[1;32m   3324\u001b[0m         \u001b[0mnew_mgr_locs\u001b[0m \u001b[0;34m=\u001b[0m \u001b[0mnew_mgr_locs\u001b[0m\u001b[0;34m[\u001b[0m\u001b[0margsort\u001b[0m\u001b[0;34m]\u001b[0m\u001b[0;34m\u001b[0m\u001b[0;34m\u001b[0m\u001b[0m\n\u001b[1;32m   3325\u001b[0m \u001b[0;34m\u001b[0m\u001b[0m\n",
      "\u001b[0;31mMemoryError\u001b[0m: "
     ]
    }
   ],
   "source": [
    "for tf in textFields:\n",
    "    newDf = pd.read_csv('./data/uncleanTfIdf/'+tf+'.csv')\n",
    "    newDf = newDf.drop(['Unnamed: 0'],axis=1)\n",
    "    train = pd.concat([train, newDf], axis=1, sort=False)\n",
    "    del newDf"
   ]
  },
  {
   "cell_type": "code",
   "execution_count": null,
   "metadata": {},
   "outputs": [],
   "source": []
  },
  {
   "cell_type": "code",
   "execution_count": 49,
   "metadata": {},
   "outputs": [
    {
     "data": {
      "text/plain": [
       "array([[0., 0., 0., ..., 0., 0., 0.],\n",
       "       [0., 0., 0., ..., 0., 0., 0.]])"
      ]
     },
     "execution_count": 49,
     "metadata": {},
     "output_type": "execute_result"
    }
   ],
   "source": [
    "vectorizer.transform(testField.iloc[:2]).toarray()"
   ]
  },
  {
   "cell_type": "code",
   "execution_count": null,
   "metadata": {},
   "outputs": [],
   "source": []
  }
 ],
 "metadata": {
  "kernelspec": {
   "display_name": "Python 3",
   "language": "python",
   "name": "python3"
  },
  "language_info": {
   "codemirror_mode": {
    "name": "ipython",
    "version": 3
   },
   "file_extension": ".py",
   "mimetype": "text/x-python",
   "name": "python",
   "nbconvert_exporter": "python",
   "pygments_lexer": "ipython3",
   "version": "3.7.3"
  }
 },
 "nbformat": 4,
 "nbformat_minor": 4
}
