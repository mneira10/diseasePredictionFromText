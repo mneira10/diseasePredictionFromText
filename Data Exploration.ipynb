{
 "cells": [
  {
   "cell_type": "code",
   "execution_count": 1,
   "metadata": {},
   "outputs": [],
   "source": [
    "import pandas as pd \n",
    "import numpy as np\n",
    "import matplotlib.pyplot as plt \n",
    "\n",
    "from sklearn.ensemble import RandomForestClassifier\n",
    "np.random.seed(0)\n",
    "from sklearn.model_selection import GridSearchCV, StratifiedKFold  # , cross_val_score\n",
    "from sklearn.metrics import make_scorer, accuracy_score, precision_score, recall_score, f1_score, precision_recall_fscore_support, confusion_matrix  # , classification_report\n",
    "\n",
    "\n",
    "from sklearn.metrics import precision_recall_curve\n",
    "from sklearn.metrics import confusion_matrix"
   ]
  },
  {
   "cell_type": "code",
   "execution_count": 2,
   "metadata": {},
   "outputs": [
    {
     "name": "stderr",
     "output_type": "stream",
     "text": [
      "/home/mauro/anaconda3/lib/python3.7/site-packages/IPython/core/interactiveshell.py:3058: DtypeWarning: Columns (4166,4167,4168) have mixed types. Specify dtype option on import or set low_memory=False.\n",
      "  interactivity=interactivity, compiler=compiler, result=result)\n"
     ]
    }
   ],
   "source": [
    "data = pd.read_csv('./data/datos_modelo2.csv')"
   ]
  },
  {
   "cell_type": "code",
   "execution_count": 3,
   "metadata": {},
   "outputs": [],
   "source": [
    "data[\"id\"] = data.index + 1"
   ]
  },
  {
   "cell_type": "code",
   "execution_count": 4,
   "metadata": {},
   "outputs": [
    {
     "data": {
      "text/plain": [
       "(36360, 4173)"
      ]
     },
     "execution_count": 4,
     "metadata": {},
     "output_type": "execute_result"
    }
   ],
   "source": [
    "data.shape"
   ]
  },
  {
   "cell_type": "code",
   "execution_count": 5,
   "metadata": {},
   "outputs": [],
   "source": [
    "# mp = 680\n",
    "# z2 = 595\n",
    "# z3 = 401 \n",
    "# ea = 2483"
   ]
  },
  {
   "cell_type": "markdown",
   "metadata": {},
   "source": [
    "# Classify only with demographic data "
   ]
  },
  {
   "cell_type": "code",
   "execution_count": 36,
   "metadata": {},
   "outputs": [],
   "source": [
    "demoColumns = data.columns[680+595+401+2483:]"
   ]
  },
  {
   "cell_type": "code",
   "execution_count": 37,
   "metadata": {},
   "outputs": [],
   "source": [
    "demoData = data[demoColumns]"
   ]
  },
  {
   "cell_type": "code",
   "execution_count": 38,
   "metadata": {},
   "outputs": [
    {
     "data": {
      "text/html": [
       "<div>\n",
       "<style scoped>\n",
       "    .dataframe tbody tr th:only-of-type {\n",
       "        vertical-align: middle;\n",
       "    }\n",
       "\n",
       "    .dataframe tbody tr th {\n",
       "        vertical-align: top;\n",
       "    }\n",
       "\n",
       "    .dataframe thead th {\n",
       "        text-align: right;\n",
       "    }\n",
       "</style>\n",
       "<table border=\"1\" class=\"dataframe\">\n",
       "  <thead>\n",
       "    <tr style=\"text-align: right;\">\n",
       "      <th></th>\n",
       "      <th>idGenero</th>\n",
       "      <th>edad_grupos</th>\n",
       "      <th>idEstadoCivil</th>\n",
       "      <th>Medicion1_PA_Sistolica</th>\n",
       "      <th>Medicion2_PA_Diastolica</th>\n",
       "      <th>Medicion3_Frecuencia_cardiaca</th>\n",
       "      <th>Medicion4_Frec_Respiratoria</th>\n",
       "      <th>Medicion5_Temperatura</th>\n",
       "      <th>Medicion6_Peso</th>\n",
       "      <th>Medicion7_Talla</th>\n",
       "      <th>Medicion8_IMC</th>\n",
       "      <th>codigoDiagnostico</th>\n",
       "      <th>Analisis</th>\n",
       "      <th>id</th>\n",
       "    </tr>\n",
       "  </thead>\n",
       "  <tbody>\n",
       "    <tr>\n",
       "      <td>0</td>\n",
       "      <td>2.0</td>\n",
       "      <td>78-84</td>\n",
       "      <td>6.000000</td>\n",
       "      <td>123.000000</td>\n",
       "      <td>62.000000</td>\n",
       "      <td>95.000000</td>\n",
       "      <td>18.000000</td>\n",
       "      <td>35.7</td>\n",
       "      <td>69</td>\n",
       "      <td>147</td>\n",
       "      <td>31.930000</td>\n",
       "      <td>J449</td>\n",
       "      <td>PULMONAR</td>\n",
       "      <td>1</td>\n",
       "    </tr>\n",
       "    <tr>\n",
       "      <td>1</td>\n",
       "      <td>1.0</td>\n",
       "      <td>1-67</td>\n",
       "      <td>9.000000</td>\n",
       "      <td>140.000000</td>\n",
       "      <td>80.000000</td>\n",
       "      <td>70.000000</td>\n",
       "      <td>17.000000</td>\n",
       "      <td>36</td>\n",
       "      <td>111</td>\n",
       "      <td>176</td>\n",
       "      <td>35.830000</td>\n",
       "      <td>J449</td>\n",
       "      <td>PULMONAR</td>\n",
       "      <td>2</td>\n",
       "    </tr>\n",
       "    <tr>\n",
       "      <td>2</td>\n",
       "      <td>2.0</td>\n",
       "      <td>1-67</td>\n",
       "      <td>1.000000</td>\n",
       "      <td>80.000000</td>\n",
       "      <td>120.000000</td>\n",
       "      <td>78.000000</td>\n",
       "      <td>17.000000</td>\n",
       "      <td>36.5</td>\n",
       "      <td>67</td>\n",
       "      <td>158</td>\n",
       "      <td>26.840000</td>\n",
       "      <td>I10X</td>\n",
       "      <td>HIPERTENCION</td>\n",
       "      <td>3</td>\n",
       "    </tr>\n",
       "    <tr>\n",
       "      <td>3</td>\n",
       "      <td>2.0</td>\n",
       "      <td>68-77</td>\n",
       "      <td>6.000000</td>\n",
       "      <td>115.000000</td>\n",
       "      <td>70.000000</td>\n",
       "      <td>72.000000</td>\n",
       "      <td>16.000000</td>\n",
       "      <td>36</td>\n",
       "      <td>59</td>\n",
       "      <td>143</td>\n",
       "      <td>28.850000</td>\n",
       "      <td>J449</td>\n",
       "      <td>PULMONAR</td>\n",
       "      <td>4</td>\n",
       "    </tr>\n",
       "    <tr>\n",
       "      <td>4</td>\n",
       "      <td>2.0</td>\n",
       "      <td>1-67</td>\n",
       "      <td>1.000000</td>\n",
       "      <td>120.000000</td>\n",
       "      <td>80.000000</td>\n",
       "      <td>74.000000</td>\n",
       "      <td>19.000000</td>\n",
       "      <td>37</td>\n",
       "      <td>64</td>\n",
       "      <td>150</td>\n",
       "      <td>28.440000</td>\n",
       "      <td>E119</td>\n",
       "      <td>DIABETES</td>\n",
       "      <td>5</td>\n",
       "    </tr>\n",
       "    <tr>\n",
       "      <td>...</td>\n",
       "      <td>...</td>\n",
       "      <td>...</td>\n",
       "      <td>...</td>\n",
       "      <td>...</td>\n",
       "      <td>...</td>\n",
       "      <td>...</td>\n",
       "      <td>...</td>\n",
       "      <td>...</td>\n",
       "      <td>...</td>\n",
       "      <td>...</td>\n",
       "      <td>...</td>\n",
       "      <td>...</td>\n",
       "      <td>...</td>\n",
       "      <td>...</td>\n",
       "    </tr>\n",
       "    <tr>\n",
       "      <td>36355</td>\n",
       "      <td>2.0</td>\n",
       "      <td>1-67</td>\n",
       "      <td>6.000000</td>\n",
       "      <td>118.200720</td>\n",
       "      <td>72.627749</td>\n",
       "      <td>80.899640</td>\n",
       "      <td>17.000000</td>\n",
       "      <td>36.2</td>\n",
       "      <td>66</td>\n",
       "      <td>160</td>\n",
       "      <td>29.432383</td>\n",
       "      <td>G402</td>\n",
       "      <td>EPILEPSIA</td>\n",
       "      <td>36356</td>\n",
       "    </tr>\n",
       "    <tr>\n",
       "      <td>36356</td>\n",
       "      <td>2.0</td>\n",
       "      <td>&gt;84</td>\n",
       "      <td>2.575869</td>\n",
       "      <td>121.819017</td>\n",
       "      <td>71.819017</td>\n",
       "      <td>67.151738</td>\n",
       "      <td>18.424131</td>\n",
       "      <td>36</td>\n",
       "      <td>59</td>\n",
       "      <td>155</td>\n",
       "      <td>30.684205</td>\n",
       "      <td>G400</td>\n",
       "      <td>EPILEPSIA</td>\n",
       "      <td>36357</td>\n",
       "    </tr>\n",
       "    <tr>\n",
       "      <td>36357</td>\n",
       "      <td>2.0</td>\n",
       "      <td>68-77</td>\n",
       "      <td>1.000000</td>\n",
       "      <td>128.112843</td>\n",
       "      <td>75.253897</td>\n",
       "      <td>74.915368</td>\n",
       "      <td>17.000000</td>\n",
       "      <td>36.2</td>\n",
       "      <td>55</td>\n",
       "      <td>160</td>\n",
       "      <td>25.551797</td>\n",
       "      <td>G409</td>\n",
       "      <td>EPILEPSIA</td>\n",
       "      <td>36358</td>\n",
       "    </tr>\n",
       "    <tr>\n",
       "      <td>36358</td>\n",
       "      <td>1.0</td>\n",
       "      <td>78-84</td>\n",
       "      <td>4.211584</td>\n",
       "      <td>121.922772</td>\n",
       "      <td>70.730495</td>\n",
       "      <td>65.192277</td>\n",
       "      <td>17.615446</td>\n",
       "      <td>36</td>\n",
       "      <td>65</td>\n",
       "      <td>166</td>\n",
       "      <td>20.363148</td>\n",
       "      <td>G408</td>\n",
       "      <td>EPILEPSIA</td>\n",
       "      <td>36359</td>\n",
       "    </tr>\n",
       "    <tr>\n",
       "      <td>36359</td>\n",
       "      <td>2.0</td>\n",
       "      <td>1-67</td>\n",
       "      <td>9.000000</td>\n",
       "      <td>118.805941</td>\n",
       "      <td>82.985147</td>\n",
       "      <td>72.985147</td>\n",
       "      <td>18.000000</td>\n",
       "      <td>36</td>\n",
       "      <td>70</td>\n",
       "      <td>146</td>\n",
       "      <td>28.392131</td>\n",
       "      <td>G402</td>\n",
       "      <td>EPILEPSIA</td>\n",
       "      <td>36360</td>\n",
       "    </tr>\n",
       "  </tbody>\n",
       "</table>\n",
       "<p>36360 rows × 14 columns</p>\n",
       "</div>"
      ],
      "text/plain": [
       "       idGenero edad_grupos  idEstadoCivil  Medicion1_PA_Sistolica  \\\n",
       "0           2.0       78-84       6.000000              123.000000   \n",
       "1           1.0        1-67       9.000000              140.000000   \n",
       "2           2.0        1-67       1.000000               80.000000   \n",
       "3           2.0       68-77       6.000000              115.000000   \n",
       "4           2.0        1-67       1.000000              120.000000   \n",
       "...         ...         ...            ...                     ...   \n",
       "36355       2.0        1-67       6.000000              118.200720   \n",
       "36356       2.0         >84       2.575869              121.819017   \n",
       "36357       2.0       68-77       1.000000              128.112843   \n",
       "36358       1.0       78-84       4.211584              121.922772   \n",
       "36359       2.0        1-67       9.000000              118.805941   \n",
       "\n",
       "       Medicion2_PA_Diastolica  Medicion3_Frecuencia_cardiaca  \\\n",
       "0                    62.000000                      95.000000   \n",
       "1                    80.000000                      70.000000   \n",
       "2                   120.000000                      78.000000   \n",
       "3                    70.000000                      72.000000   \n",
       "4                    80.000000                      74.000000   \n",
       "...                        ...                            ...   \n",
       "36355                72.627749                      80.899640   \n",
       "36356                71.819017                      67.151738   \n",
       "36357                75.253897                      74.915368   \n",
       "36358                70.730495                      65.192277   \n",
       "36359                82.985147                      72.985147   \n",
       "\n",
       "       Medicion4_Frec_Respiratoria Medicion5_Temperatura Medicion6_Peso  \\\n",
       "0                        18.000000                  35.7             69   \n",
       "1                        17.000000                    36            111   \n",
       "2                        17.000000                  36.5             67   \n",
       "3                        16.000000                    36             59   \n",
       "4                        19.000000                    37             64   \n",
       "...                            ...                   ...            ...   \n",
       "36355                    17.000000                  36.2             66   \n",
       "36356                    18.424131                    36             59   \n",
       "36357                    17.000000                  36.2             55   \n",
       "36358                    17.615446                    36             65   \n",
       "36359                    18.000000                    36             70   \n",
       "\n",
       "      Medicion7_Talla  Medicion8_IMC codigoDiagnostico      Analisis     id  \n",
       "0                 147      31.930000              J449      PULMONAR      1  \n",
       "1                 176      35.830000              J449      PULMONAR      2  \n",
       "2                 158      26.840000              I10X  HIPERTENCION      3  \n",
       "3                 143      28.850000              J449      PULMONAR      4  \n",
       "4                 150      28.440000              E119      DIABETES      5  \n",
       "...               ...            ...               ...           ...    ...  \n",
       "36355             160      29.432383              G402     EPILEPSIA  36356  \n",
       "36356             155      30.684205              G400     EPILEPSIA  36357  \n",
       "36357             160      25.551797              G409     EPILEPSIA  36358  \n",
       "36358             166      20.363148              G408     EPILEPSIA  36359  \n",
       "36359             146      28.392131              G402     EPILEPSIA  36360  \n",
       "\n",
       "[36360 rows x 14 columns]"
      ]
     },
     "execution_count": 38,
     "metadata": {},
     "output_type": "execute_result"
    }
   ],
   "source": [
    "demoData"
   ]
  },
  {
   "cell_type": "code",
   "execution_count": 39,
   "metadata": {},
   "outputs": [
    {
     "name": "stdout",
     "output_type": "stream",
     "text": [
      "{'78-84': 0, '1-67': 1, '68-77': 2, '>84': 3}\n",
      "{'PULMONAR': 0, 'HIPERTENCION': 1, 'DIABETES': 2, 'APNEA': 3, 'EPILEPSIA': 4}\n"
     ]
    }
   ],
   "source": [
    "uniqAges = demoData.edad_grupos.unique()\n",
    "uniqAges = {x:i for i,x in enumerate(uniqAges)}\n",
    "\n",
    "target = demoData.Analisis.unique()\n",
    "target = {x:i for i,x in enumerate(target)}\n",
    "\n",
    "\n",
    "print(uniqAges)\n",
    "print(target)\n"
   ]
  },
  {
   "cell_type": "code",
   "execution_count": 40,
   "metadata": {},
   "outputs": [
    {
     "name": "stderr",
     "output_type": "stream",
     "text": [
      "/home/mauro/anaconda3/lib/python3.7/site-packages/ipykernel_launcher.py:1: SettingWithCopyWarning: \n",
      "A value is trying to be set on a copy of a slice from a DataFrame.\n",
      "Try using .loc[row_indexer,col_indexer] = value instead\n",
      "\n",
      "See the caveats in the documentation: http://pandas.pydata.org/pandas-docs/stable/user_guide/indexing.html#returning-a-view-versus-a-copy\n",
      "  \"\"\"Entry point for launching an IPython kernel.\n"
     ]
    }
   ],
   "source": [
    "demoData['edad_grupos'] = list(map(lambda x:uniqAges[x], demoData['edad_grupos']))"
   ]
  },
  {
   "cell_type": "code",
   "execution_count": 41,
   "metadata": {},
   "outputs": [
    {
     "name": "stderr",
     "output_type": "stream",
     "text": [
      "/home/mauro/anaconda3/lib/python3.7/site-packages/ipykernel_launcher.py:1: SettingWithCopyWarning: \n",
      "A value is trying to be set on a copy of a slice from a DataFrame.\n",
      "Try using .loc[row_indexer,col_indexer] = value instead\n",
      "\n",
      "See the caveats in the documentation: http://pandas.pydata.org/pandas-docs/stable/user_guide/indexing.html#returning-a-view-versus-a-copy\n",
      "  \"\"\"Entry point for launching an IPython kernel.\n"
     ]
    }
   ],
   "source": [
    "demoData['Analisis'] = list(map(lambda x:target[x], demoData['Analisis']))"
   ]
  },
  {
   "cell_type": "code",
   "execution_count": 42,
   "metadata": {},
   "outputs": [
    {
     "data": {
      "text/plain": [
       "idGenero                         float64\n",
       "edad_grupos                        int64\n",
       "idEstadoCivil                    float64\n",
       "Medicion1_PA_Sistolica           float64\n",
       "Medicion2_PA_Diastolica          float64\n",
       "Medicion3_Frecuencia_cardiaca    float64\n",
       "Medicion4_Frec_Respiratoria      float64\n",
       "Medicion5_Temperatura             object\n",
       "Medicion6_Peso                    object\n",
       "Medicion7_Talla                   object\n",
       "Medicion8_IMC                    float64\n",
       "codigoDiagnostico                 object\n",
       "Analisis                           int64\n",
       "id                                 int64\n",
       "dtype: object"
      ]
     },
     "execution_count": 42,
     "metadata": {},
     "output_type": "execute_result"
    }
   ],
   "source": [
    "demoData.dtypes "
   ]
  },
  {
   "cell_type": "code",
   "execution_count": 55,
   "metadata": {},
   "outputs": [
    {
     "name": "stderr",
     "output_type": "stream",
     "text": [
      "/home/mauro/anaconda3/lib/python3.7/site-packages/ipykernel_launcher.py:1: SettingWithCopyWarning: \n",
      "A value is trying to be set on a copy of a slice from a DataFrame.\n",
      "Try using .loc[row_indexer,col_indexer] = value instead\n",
      "\n",
      "See the caveats in the documentation: http://pandas.pydata.org/pandas-docs/stable/user_guide/indexing.html#returning-a-view-versus-a-copy\n",
      "  \"\"\"Entry point for launching an IPython kernel.\n",
      "/home/mauro/anaconda3/lib/python3.7/site-packages/ipykernel_launcher.py:2: SettingWithCopyWarning: \n",
      "A value is trying to be set on a copy of a slice from a DataFrame.\n",
      "Try using .loc[row_indexer,col_indexer] = value instead\n",
      "\n",
      "See the caveats in the documentation: http://pandas.pydata.org/pandas-docs/stable/user_guide/indexing.html#returning-a-view-versus-a-copy\n",
      "  \n",
      "/home/mauro/anaconda3/lib/python3.7/site-packages/ipykernel_launcher.py:3: SettingWithCopyWarning: \n",
      "A value is trying to be set on a copy of a slice from a DataFrame.\n",
      "Try using .loc[row_indexer,col_indexer] = value instead\n",
      "\n",
      "See the caveats in the documentation: http://pandas.pydata.org/pandas-docs/stable/user_guide/indexing.html#returning-a-view-versus-a-copy\n",
      "  This is separate from the ipykernel package so we can avoid doing imports until\n"
     ]
    }
   ],
   "source": [
    "demoData['Medicion5_Temperatura'] = demoData['Medicion5_Temperatura'].astype(str).str.replace(',','.')\n",
    "demoData['Medicion6_Peso'] = demoData['Medicion6_Peso'].astype(str).str.replace(',','.')\n",
    "demoData['Medicion7_Talla'] = demoData['Medicion7_Talla'].astype(str).str.replace(',','.')"
   ]
  },
  {
   "cell_type": "code",
   "execution_count": 56,
   "metadata": {},
   "outputs": [
    {
     "data": {
      "text/plain": [
       "idGenero                         float64\n",
       "edad_grupos                        int64\n",
       "idEstadoCivil                    float64\n",
       "Medicion1_PA_Sistolica           float64\n",
       "Medicion2_PA_Diastolica          float64\n",
       "Medicion3_Frecuencia_cardiaca    float64\n",
       "Medicion4_Frec_Respiratoria      float64\n",
       "Medicion5_Temperatura             object\n",
       "Medicion6_Peso                    object\n",
       "Medicion7_Talla                   object\n",
       "Medicion8_IMC                    float64\n",
       "codigoDiagnostico                 object\n",
       "Analisis                           int64\n",
       "id                                 int64\n",
       "dtype: object"
      ]
     },
     "execution_count": 56,
     "metadata": {},
     "output_type": "execute_result"
    }
   ],
   "source": [
    "demoData.dtypes"
   ]
  },
  {
   "cell_type": "code",
   "execution_count": 57,
   "metadata": {},
   "outputs": [
    {
     "data": {
      "text/plain": [
       "idGenero                         0\n",
       "edad_grupos                      0\n",
       "idEstadoCivil                    0\n",
       "Medicion1_PA_Sistolica           0\n",
       "Medicion2_PA_Diastolica          0\n",
       "Medicion3_Frecuencia_cardiaca    0\n",
       "Medicion4_Frec_Respiratoria      0\n",
       "Medicion5_Temperatura            0\n",
       "Medicion6_Peso                   0\n",
       "Medicion7_Talla                  0\n",
       "Medicion8_IMC                    0\n",
       "codigoDiagnostico                0\n",
       "Analisis                         0\n",
       "id                               0\n",
       "dtype: int64"
      ]
     },
     "execution_count": 57,
     "metadata": {},
     "output_type": "execute_result"
    }
   ],
   "source": [
    "demoData.isna().sum()"
   ]
  },
  {
   "cell_type": "code",
   "execution_count": 58,
   "metadata": {},
   "outputs": [
    {
     "name": "stderr",
     "output_type": "stream",
     "text": [
      "/home/mauro/anaconda3/lib/python3.7/site-packages/pandas/core/frame.py:3494: SettingWithCopyWarning: \n",
      "A value is trying to be set on a copy of a slice from a DataFrame.\n",
      "Try using .loc[row_indexer,col_indexer] = value instead\n",
      "\n",
      "See the caveats in the documentation: http://pandas.pydata.org/pandas-docs/stable/user_guide/indexing.html#returning-a-view-versus-a-copy\n",
      "  self[k1] = value[k2]\n"
     ]
    }
   ],
   "source": [
    "# df[[\"a\", \"b\"]] = df[[\"a\", \"b\"]].apply(pd.to_numeric)\n",
    "demoData[demoData.columns[:-3]] = demoData[demoData.columns[:-3]].apply(pd.to_numeric)"
   ]
  },
  {
   "cell_type": "code",
   "execution_count": 59,
   "metadata": {},
   "outputs": [
    {
     "data": {
      "text/plain": [
       "idGenero                         float64\n",
       "edad_grupos                        int64\n",
       "idEstadoCivil                    float64\n",
       "Medicion1_PA_Sistolica           float64\n",
       "Medicion2_PA_Diastolica          float64\n",
       "Medicion3_Frecuencia_cardiaca    float64\n",
       "Medicion4_Frec_Respiratoria      float64\n",
       "Medicion5_Temperatura            float64\n",
       "Medicion6_Peso                   float64\n",
       "Medicion7_Talla                  float64\n",
       "Medicion8_IMC                    float64\n",
       "codigoDiagnostico                 object\n",
       "Analisis                           int64\n",
       "id                                 int64\n",
       "dtype: object"
      ]
     },
     "execution_count": 59,
     "metadata": {},
     "output_type": "execute_result"
    }
   ],
   "source": [
    "demoData.dtypes"
   ]
  },
  {
   "cell_type": "code",
   "execution_count": 60,
   "metadata": {},
   "outputs": [],
   "source": [
    "xfeatures = demoData.columns[:-3]\n",
    "yfeature = demoData.columns[-2]"
   ]
  },
  {
   "cell_type": "markdown",
   "metadata": {},
   "source": [
    "# Split data"
   ]
  },
  {
   "cell_type": "code",
   "execution_count": 61,
   "metadata": {},
   "outputs": [],
   "source": [
    "def splitTrainTest(dataframe):\n",
    "    #create output dataframes\n",
    "    test = pd.DataFrame(columns = demoData.columns)\n",
    "\n",
    "    train = pd.DataFrame(columns = demoData.columns)\n",
    "    \n",
    "    for uClass in dataframe.Analisis.unique():\n",
    "        #get each class \n",
    "        classDf = dataframe[dataframe.Analisis == uClass]\n",
    "        \n",
    "        # randomly choose 25% of indices \n",
    "        ids = [x for x in range(classDf.shape[0])]\n",
    "        testInd = np.random.choice(ids, int(0.25*len(ids)),replace=False)\n",
    "        \n",
    "        trainInd = list(set(ids)-set(testInd))\n",
    "\n",
    "        #get dataframes\n",
    "        test = pd.concat([test,classDf.iloc[testInd]])\n",
    "        \n",
    "        train = pd.concat([train,classDf.iloc[trainInd]])\n",
    "\n",
    "    return train,test"
   ]
  },
  {
   "cell_type": "code",
   "execution_count": 62,
   "metadata": {},
   "outputs": [],
   "source": [
    "train,test = splitTrainTest(demoData)\n",
    "assert train.shape[0]+test.shape[0] == demoData.shape[0]"
   ]
  },
  {
   "cell_type": "code",
   "execution_count": 63,
   "metadata": {},
   "outputs": [],
   "source": [
    "np.savetxt('./data/trainids.txt', train.id.values, delimiter=',')\n",
    "np.savetxt('./data/testids.txt', test.id.values, delimiter=',')\n"
   ]
  },
  {
   "cell_type": "markdown",
   "metadata": {},
   "source": [
    "## Random Forest attempt\n"
   ]
  },
  {
   "cell_type": "code",
   "execution_count": 65,
   "metadata": {},
   "outputs": [],
   "source": [
    "#hypermarameters that gridsearch will optimize\n",
    "def rf():\n",
    "    params = {\n",
    "        'n_estimators': [200, 700],\n",
    "        'max_features': ['auto', 'sqrt', 'log2']\n",
    "    }\n",
    "    return RandomForestClassifier(random_state=0, class_weight='balanced'), params\n",
    "\n",
    "#metrics to be analized\n",
    "def scorers():\n",
    "    scoring = {'accuracy': make_scorer(accuracy_score),\n",
    "               'precision': make_scorer(precision_score, average='weighted'),\n",
    "               'recall': make_scorer(recall_score, average='weighted'),\n",
    "               'f1_score': make_scorer(f1_score, average='weighted')\n",
    "               }\n",
    "    return scoring"
   ]
  },
  {
   "cell_type": "code",
   "execution_count": null,
   "metadata": {},
   "outputs": [],
   "source": []
  },
  {
   "cell_type": "code",
   "execution_count": 77,
   "metadata": {},
   "outputs": [],
   "source": [
    "train['Analisis'] = train['Analisis'].apply(pd.to_numeric)\n",
    "test['Analisis'] = test['Analisis'].apply(pd.to_numeric)"
   ]
  },
  {
   "cell_type": "code",
   "execution_count": 78,
   "metadata": {
    "scrolled": true
   },
   "outputs": [
    {
     "name": "stdout",
     "output_type": "stream",
     "text": [
      "Fitting 2 folds for each of 6 candidates, totalling 12 fits\n",
      "[Parallel(n_jobs=1)]: Using backend SequentialBackend with 1 concurrent workers.\n",
      "[CV] max_features=auto, n_estimators=200 .............................\n",
      "[CV]  max_features=auto, n_estimators=200, accuracy=(train=1.000, test=0.652), f1_score=(train=1.000, test=0.613), precision=(train=1.000, test=0.672), recall=(train=1.000, test=0.652), total=   5.8s\n",
      "[Parallel(n_jobs=1)]: Done   1 out of   1 | elapsed:    7.9s remaining:    0.0s\n",
      "[CV] max_features=auto, n_estimators=200 .............................\n",
      "[CV]  max_features=auto, n_estimators=200, accuracy=(train=1.000, test=0.644), f1_score=(train=1.000, test=0.603), precision=(train=1.000, test=0.654), recall=(train=1.000, test=0.644), total=   5.3s\n",
      "[Parallel(n_jobs=1)]: Done   2 out of   2 | elapsed:   15.6s remaining:    0.0s\n",
      "[CV] max_features=auto, n_estimators=700 .............................\n",
      "[CV]  max_features=auto, n_estimators=700, accuracy=(train=1.000, test=0.652), f1_score=(train=1.000, test=0.613), precision=(train=1.000, test=0.675), recall=(train=1.000, test=0.652), total=  23.8s\n",
      "[Parallel(n_jobs=1)]: Done   3 out of   3 | elapsed:   47.0s remaining:    0.0s\n",
      "[CV] max_features=auto, n_estimators=700 .............................\n",
      "[CV]  max_features=auto, n_estimators=700, accuracy=(train=1.000, test=0.643), f1_score=(train=1.000, test=0.603), precision=(train=1.000, test=0.655), recall=(train=1.000, test=0.643), total=  20.0s\n",
      "[Parallel(n_jobs=1)]: Done   4 out of   4 | elapsed:  1.2min remaining:    0.0s\n",
      "[CV] max_features=sqrt, n_estimators=200 .............................\n",
      "[CV]  max_features=sqrt, n_estimators=200, accuracy=(train=1.000, test=0.652), f1_score=(train=1.000, test=0.613), precision=(train=1.000, test=0.672), recall=(train=1.000, test=0.652), total=   5.3s\n",
      "[Parallel(n_jobs=1)]: Done   5 out of   5 | elapsed:  1.4min remaining:    0.0s\n",
      "[CV] max_features=sqrt, n_estimators=200 .............................\n",
      "[CV]  max_features=sqrt, n_estimators=200, accuracy=(train=1.000, test=0.644), f1_score=(train=1.000, test=0.603), precision=(train=1.000, test=0.654), recall=(train=1.000, test=0.644), total=   4.9s\n",
      "[Parallel(n_jobs=1)]: Done   6 out of   6 | elapsed:  1.5min remaining:    0.0s\n",
      "[CV] max_features=sqrt, n_estimators=700 .............................\n",
      "[CV]  max_features=sqrt, n_estimators=700, accuracy=(train=1.000, test=0.652), f1_score=(train=1.000, test=0.613), precision=(train=1.000, test=0.675), recall=(train=1.000, test=0.652), total=  18.4s\n",
      "[Parallel(n_jobs=1)]: Done   7 out of   7 | elapsed:  1.9min remaining:    0.0s\n",
      "[CV] max_features=sqrt, n_estimators=700 .............................\n",
      "[CV]  max_features=sqrt, n_estimators=700, accuracy=(train=1.000, test=0.643), f1_score=(train=1.000, test=0.603), precision=(train=1.000, test=0.655), recall=(train=1.000, test=0.643), total=  17.2s\n",
      "[Parallel(n_jobs=1)]: Done   8 out of   8 | elapsed:  2.3min remaining:    0.0s\n",
      "[CV] max_features=log2, n_estimators=200 .............................\n",
      "[CV]  max_features=log2, n_estimators=200, accuracy=(train=1.000, test=0.652), f1_score=(train=1.000, test=0.613), precision=(train=1.000, test=0.672), recall=(train=1.000, test=0.652), total=   5.2s\n",
      "[Parallel(n_jobs=1)]: Done   9 out of   9 | elapsed:  2.4min remaining:    0.0s\n",
      "[CV] max_features=log2, n_estimators=200 .............................\n",
      "[CV]  max_features=log2, n_estimators=200, accuracy=(train=1.000, test=0.644), f1_score=(train=1.000, test=0.603), precision=(train=1.000, test=0.654), recall=(train=1.000, test=0.644), total=   4.8s\n",
      "[Parallel(n_jobs=1)]: Done  10 out of  10 | elapsed:  2.5min remaining:    0.0s\n",
      "[CV] max_features=log2, n_estimators=700 .............................\n",
      "[CV]  max_features=log2, n_estimators=700, accuracy=(train=1.000, test=0.652), f1_score=(train=1.000, test=0.613), precision=(train=1.000, test=0.675), recall=(train=1.000, test=0.652), total=  18.1s\n",
      "[Parallel(n_jobs=1)]: Done  11 out of  11 | elapsed:  2.9min remaining:    0.0s\n",
      "[CV] max_features=log2, n_estimators=700 .............................\n",
      "[CV]  max_features=log2, n_estimators=700, accuracy=(train=1.000, test=0.643), f1_score=(train=1.000, test=0.603), precision=(train=1.000, test=0.655), recall=(train=1.000, test=0.643), total=  16.7s\n",
      "[Parallel(n_jobs=1)]: Done  12 out of  12 | elapsed:  3.3min remaining:    0.0s\n",
      "[Parallel(n_jobs=1)]: Done  12 out of  12 | elapsed:  3.3min finished\n"
     ]
    },
    {
     "data": {
      "text/plain": [
       "GridSearchCV(cv=StratifiedKFold(n_splits=2, random_state=None, shuffle=False),\n",
       "             error_score='raise-deprecating',\n",
       "             estimator=RandomForestClassifier(bootstrap=True,\n",
       "                                              class_weight='balanced',\n",
       "                                              criterion='gini', max_depth=None,\n",
       "                                              max_features='auto',\n",
       "                                              max_leaf_nodes=None,\n",
       "                                              min_impurity_decrease=0.0,\n",
       "                                              min_impurity_split=None,\n",
       "                                              min_samples_leaf=1,\n",
       "                                              min_samples_split=2,\n",
       "                                              min_weigh...\n",
       "             param_grid={'max_features': ['auto', 'sqrt', 'log2'],\n",
       "                         'n_estimators': [200, 700]},\n",
       "             pre_dispatch='2*n_jobs', refit='f1_score', return_train_score=True,\n",
       "             scoring={'accuracy': make_scorer(accuracy_score),\n",
       "                      'f1_score': make_scorer(f1_score, average=weighted),\n",
       "                      'precision': make_scorer(precision_score, average=weighted),\n",
       "                      'recall': make_scorer(recall_score, average=weighted)},\n",
       "             verbose=100)"
      ]
     },
     "execution_count": 78,
     "metadata": {},
     "output_type": "execute_result"
    }
   ],
   "source": [
    "#learning \n",
    "model,params = rf()\n",
    "grid_search = GridSearchCV(model, params, cv=StratifiedKFold(2), scoring=scorers(),\n",
    "                           refit='f1_score', return_train_score=True,verbose=100)\n",
    "grid_search.fit(train[xfeatures], train[yfeature])\n",
    "\n",
    "\n"
   ]
  },
  {
   "cell_type": "code",
   "execution_count": 79,
   "metadata": {},
   "outputs": [],
   "source": [
    "clf = grid_search"
   ]
  },
  {
   "cell_type": "code",
   "execution_count": 80,
   "metadata": {},
   "outputs": [],
   "source": [
    "cm = confusion_matrix(test.Analisis, clf.predict(test[xfeatures])).transpose()\n"
   ]
  },
  {
   "cell_type": "code",
   "execution_count": 82,
   "metadata": {},
   "outputs": [
    {
     "data": {
      "text/plain": [
       "array([[4306,  748,  216,  414,  143],\n",
       "       [  47,  443,   33,   51,   18],\n",
       "       [  10,    7,  119,    3,    0],\n",
       "       [ 160,  114,   58,  684,   48],\n",
       "       [  67,   40,   13,   41, 1306]])"
      ]
     },
     "execution_count": 82,
     "metadata": {},
     "output_type": "execute_result"
    }
   ],
   "source": [
    "cm"
   ]
  },
  {
   "cell_type": "code",
   "execution_count": 83,
   "metadata": {},
   "outputs": [
    {
     "data": {
      "text/plain": [
       "{'PULMONAR': 0, 'HIPERTENCION': 1, 'DIABETES': 2, 'APNEA': 3, 'EPILEPSIA': 4}"
      ]
     },
     "execution_count": 83,
     "metadata": {},
     "output_type": "execute_result"
    }
   ],
   "source": [
    "{'PULMONAR': 0, 'HIPERTENCION': 1, 'DIABETES': 2, 'APNEA': 3, 'EPILEPSIA': 4}\n"
   ]
  },
  {
   "cell_type": "code",
   "execution_count": 85,
   "metadata": {},
   "outputs": [
    {
     "name": "stdout",
     "output_type": "stream",
     "text": [
      "[[0 0 0 0 0]\n",
      " [0 0 0 0 0]\n",
      " [0 0 0 0 0]\n",
      " [0 0 0 0 0]\n",
      " [0 0 0 0 0]]\n"
     ]
    }
   ],
   "source": [
    "normedMatrix = cm.copy()\n",
    "# print(normedMatrix)\n",
    "for i in range(len(normedMatrix)):\n",
    "#     print(normedMatrix[:,i]/normedMatrix[:,i].sum())\n",
    "    normedMatrix[:,i] = normedMatrix[:,i]/normedMatrix[:,i].sum()\n",
    "#     print(normedMatrix[:,i])\n",
    "# np.set_printoptions(suppress=True)\n",
    "print(normedMatrix)\n",
    "# np.set_printoptions(suppress=False)"
   ]
  },
  {
   "cell_type": "code",
   "execution_count": 89,
   "metadata": {},
   "outputs": [],
   "source": [
    "def fMeasure(precision,recall):\n",
    "    return 2*precision*recall/(precision+recall)"
   ]
  },
  {
   "cell_type": "code",
   "execution_count": 90,
   "metadata": {},
   "outputs": [],
   "source": [
    "newMatr = []\n",
    "for i in range(len(cm)):\n",
    "    prec = cm[i][i]/(sum(cm[i,:]))\n",
    "    rec = cm[i][i]/(sum(cm[:,i]))\n",
    "    newMatr.append([prec,rec,fMeasure(prec,rec),sum(cm[:,i])])"
   ]
  },
  {
   "cell_type": "code",
   "execution_count": 95,
   "metadata": {},
   "outputs": [
    {
     "data": {
      "text/plain": [
       "array([[0, 0, 0, 0, 0],\n",
       "       [0, 0, 0, 0, 0],\n",
       "       [0, 0, 0, 0, 0],\n",
       "       [0, 0, 0, 0, 0],\n",
       "       [0, 0, 0, 0, 0]])"
      ]
     },
     "execution_count": 95,
     "metadata": {},
     "output_type": "execute_result"
    }
   ],
   "source": [
    "normedMatrix"
   ]
  },
  {
   "cell_type": "code",
   "execution_count": 91,
   "metadata": {},
   "outputs": [
    {
     "name": "stdout",
     "output_type": "stream",
     "text": [
      "    Precision        Recall         F-score      Cover\n",
      "[[   0.73897374    0.93812636    0.82672554 4590.        ]\n",
      " [   0.74831081    0.32766272    0.45576132 1352.        ]\n",
      " [   0.85611511    0.27107062    0.41176471  439.        ]\n",
      " [   0.64285714    0.57334451    0.60611431 1193.        ]\n",
      " [   0.89025222    0.8620462     0.8759222  1515.        ]]\n"
     ]
    }
   ],
   "source": [
    "np.set_printoptions(suppress=True)\n",
    "print('    Precision        Recall         F-score      Cover')\n",
    "print(np.array(newMatr))\n",
    "np.set_printoptions(suppress=False)"
   ]
  },
  {
   "cell_type": "code",
   "execution_count": 97,
   "metadata": {},
   "outputs": [
    {
     "data": {
      "text/plain": [
       "<matplotlib.axes._subplots.AxesSubplot at 0x7f058e4388d0>"
      ]
     },
     "execution_count": 97,
     "metadata": {},
     "output_type": "execute_result"
    },
    {
     "data": {
      "image/png": "[encoded data removed]",
      "text/plain": [
       "<Figure size 432x288 with 1 Axes>"
      ]
     },
     "metadata": {
      "needs_background": "light"
     },
     "output_type": "display_data"
    }
   ],
   "source": [
    "data.Analisis.hist()"
   ]
  },
  {
   "cell_type": "code",
   "execution_count": 104,
   "metadata": {},
   "outputs": [
    {
     "data": {
      "text/plain": [
       "<matplotlib.collections.PathCollection at 0x7f058cdcdfd0>"
      ]
     },
     "execution_count": 104,
     "metadata": {},
     "output_type": "execute_result"
    },
    {
     "data": {
      "image/png": "[encoded data removed]",
      "text/plain": [
       "<Figure size 432x288 with 1 Axes>"
      ]
     },
     "metadata": {
      "needs_background": "light"
     },
     "output_type": "display_data"
    }
   ],
   "source": [
    "newMatr = np.array(newMatr)\n",
    "plt.scatter(newMatr[:,-1],newMatr[:,2])"
   ]
  },
  {
   "cell_type": "code",
   "execution_count": 102,
   "metadata": {},
   "outputs": [
    {
     "data": {
      "text/plain": [
       "[0.7389737429208856, 0.9381263616557735, 0.826725544782567, 4590]"
      ]
     },
     "execution_count": 102,
     "metadata": {},
     "output_type": "execute_result"
    }
   ],
   "source": [
    "newMatr[:,0]"
   ]
  },
  {
   "cell_type": "code",
   "execution_count": 106,
   "metadata": {},
   "outputs": [
    {
     "data": {
      "text/html": [
       "<div>\n",
       "<style scoped>\n",
       "    .dataframe tbody tr th:only-of-type {\n",
       "        vertical-align: middle;\n",
       "    }\n",
       "\n",
       "    .dataframe tbody tr th {\n",
       "        vertical-align: top;\n",
       "    }\n",
       "\n",
       "    .dataframe thead th {\n",
       "        text-align: right;\n",
       "    }\n",
       "</style>\n",
       "<table border=\"1\" class=\"dataframe\">\n",
       "  <thead>\n",
       "    <tr style=\"text-align: right;\">\n",
       "      <th></th>\n",
       "      <th>idGenero</th>\n",
       "      <th>edad_grupos</th>\n",
       "      <th>idEstadoCivil</th>\n",
       "      <th>Medicion1_PA_Sistolica</th>\n",
       "      <th>Medicion2_PA_Diastolica</th>\n",
       "      <th>Medicion3_Frecuencia_cardiaca</th>\n",
       "      <th>Medicion4_Frec_Respiratoria</th>\n",
       "      <th>Medicion5_Temperatura</th>\n",
       "      <th>Medicion6_Peso</th>\n",
       "      <th>Medicion7_Talla</th>\n",
       "      <th>Medicion8_IMC</th>\n",
       "      <th>codigoDiagnostico</th>\n",
       "      <th>Analisis</th>\n",
       "      <th>id</th>\n",
       "    </tr>\n",
       "  </thead>\n",
       "  <tbody>\n",
       "    <tr>\n",
       "      <td>0</td>\n",
       "      <td>2.0</td>\n",
       "      <td>0</td>\n",
       "      <td>6.000000</td>\n",
       "      <td>123.000000</td>\n",
       "      <td>62.000000</td>\n",
       "      <td>95.000000</td>\n",
       "      <td>18.000000</td>\n",
       "      <td>35.7</td>\n",
       "      <td>69.0</td>\n",
       "      <td>147.0</td>\n",
       "      <td>31.930000</td>\n",
       "      <td>J449</td>\n",
       "      <td>0</td>\n",
       "      <td>1</td>\n",
       "    </tr>\n",
       "    <tr>\n",
       "      <td>1</td>\n",
       "      <td>1.0</td>\n",
       "      <td>1</td>\n",
       "      <td>9.000000</td>\n",
       "      <td>140.000000</td>\n",
       "      <td>80.000000</td>\n",
       "      <td>70.000000</td>\n",
       "      <td>17.000000</td>\n",
       "      <td>36.0</td>\n",
       "      <td>111.0</td>\n",
       "      <td>176.0</td>\n",
       "      <td>35.830000</td>\n",
       "      <td>J449</td>\n",
       "      <td>0</td>\n",
       "      <td>2</td>\n",
       "    </tr>\n",
       "    <tr>\n",
       "      <td>2</td>\n",
       "      <td>2.0</td>\n",
       "      <td>1</td>\n",
       "      <td>1.000000</td>\n",
       "      <td>80.000000</td>\n",
       "      <td>120.000000</td>\n",
       "      <td>78.000000</td>\n",
       "      <td>17.000000</td>\n",
       "      <td>36.5</td>\n",
       "      <td>67.0</td>\n",
       "      <td>158.0</td>\n",
       "      <td>26.840000</td>\n",
       "      <td>I10X</td>\n",
       "      <td>1</td>\n",
       "      <td>3</td>\n",
       "    </tr>\n",
       "    <tr>\n",
       "      <td>3</td>\n",
       "      <td>2.0</td>\n",
       "      <td>2</td>\n",
       "      <td>6.000000</td>\n",
       "      <td>115.000000</td>\n",
       "      <td>70.000000</td>\n",
       "      <td>72.000000</td>\n",
       "      <td>16.000000</td>\n",
       "      <td>36.0</td>\n",
       "      <td>59.0</td>\n",
       "      <td>143.0</td>\n",
       "      <td>28.850000</td>\n",
       "      <td>J449</td>\n",
       "      <td>0</td>\n",
       "      <td>4</td>\n",
       "    </tr>\n",
       "    <tr>\n",
       "      <td>4</td>\n",
       "      <td>2.0</td>\n",
       "      <td>1</td>\n",
       "      <td>1.000000</td>\n",
       "      <td>120.000000</td>\n",
       "      <td>80.000000</td>\n",
       "      <td>74.000000</td>\n",
       "      <td>19.000000</td>\n",
       "      <td>37.0</td>\n",
       "      <td>64.0</td>\n",
       "      <td>150.0</td>\n",
       "      <td>28.440000</td>\n",
       "      <td>E119</td>\n",
       "      <td>2</td>\n",
       "      <td>5</td>\n",
       "    </tr>\n",
       "    <tr>\n",
       "      <td>...</td>\n",
       "      <td>...</td>\n",
       "      <td>...</td>\n",
       "      <td>...</td>\n",
       "      <td>...</td>\n",
       "      <td>...</td>\n",
       "      <td>...</td>\n",
       "      <td>...</td>\n",
       "      <td>...</td>\n",
       "      <td>...</td>\n",
       "      <td>...</td>\n",
       "      <td>...</td>\n",
       "      <td>...</td>\n",
       "      <td>...</td>\n",
       "      <td>...</td>\n",
       "    </tr>\n",
       "    <tr>\n",
       "      <td>36355</td>\n",
       "      <td>2.0</td>\n",
       "      <td>1</td>\n",
       "      <td>6.000000</td>\n",
       "      <td>118.200720</td>\n",
       "      <td>72.627749</td>\n",
       "      <td>80.899640</td>\n",
       "      <td>17.000000</td>\n",
       "      <td>36.2</td>\n",
       "      <td>66.0</td>\n",
       "      <td>160.0</td>\n",
       "      <td>29.432383</td>\n",
       "      <td>G402</td>\n",
       "      <td>4</td>\n",
       "      <td>36356</td>\n",
       "    </tr>\n",
       "    <tr>\n",
       "      <td>36356</td>\n",
       "      <td>2.0</td>\n",
       "      <td>3</td>\n",
       "      <td>2.575869</td>\n",
       "      <td>121.819017</td>\n",
       "      <td>71.819017</td>\n",
       "      <td>67.151738</td>\n",
       "      <td>18.424131</td>\n",
       "      <td>36.0</td>\n",
       "      <td>59.0</td>\n",
       "      <td>155.0</td>\n",
       "      <td>30.684205</td>\n",
       "      <td>G400</td>\n",
       "      <td>4</td>\n",
       "      <td>36357</td>\n",
       "    </tr>\n",
       "    <tr>\n",
       "      <td>36357</td>\n",
       "      <td>2.0</td>\n",
       "      <td>2</td>\n",
       "      <td>1.000000</td>\n",
       "      <td>128.112843</td>\n",
       "      <td>75.253897</td>\n",
       "      <td>74.915368</td>\n",
       "      <td>17.000000</td>\n",
       "      <td>36.2</td>\n",
       "      <td>55.0</td>\n",
       "      <td>160.0</td>\n",
       "      <td>25.551797</td>\n",
       "      <td>G409</td>\n",
       "      <td>4</td>\n",
       "      <td>36358</td>\n",
       "    </tr>\n",
       "    <tr>\n",
       "      <td>36358</td>\n",
       "      <td>1.0</td>\n",
       "      <td>0</td>\n",
       "      <td>4.211584</td>\n",
       "      <td>121.922772</td>\n",
       "      <td>70.730495</td>\n",
       "      <td>65.192277</td>\n",
       "      <td>17.615446</td>\n",
       "      <td>36.0</td>\n",
       "      <td>65.0</td>\n",
       "      <td>166.0</td>\n",
       "      <td>20.363148</td>\n",
       "      <td>G408</td>\n",
       "      <td>4</td>\n",
       "      <td>36359</td>\n",
       "    </tr>\n",
       "    <tr>\n",
       "      <td>36359</td>\n",
       "      <td>2.0</td>\n",
       "      <td>1</td>\n",
       "      <td>9.000000</td>\n",
       "      <td>118.805941</td>\n",
       "      <td>82.985147</td>\n",
       "      <td>72.985147</td>\n",
       "      <td>18.000000</td>\n",
       "      <td>36.0</td>\n",
       "      <td>70.0</td>\n",
       "      <td>146.0</td>\n",
       "      <td>28.392131</td>\n",
       "      <td>G402</td>\n",
       "      <td>4</td>\n",
       "      <td>36360</td>\n",
       "    </tr>\n",
       "  </tbody>\n",
       "</table>\n",
       "<p>36360 rows × 14 columns</p>\n",
       "</div>"
      ],
      "text/plain": [
       "       idGenero  edad_grupos  idEstadoCivil  Medicion1_PA_Sistolica  \\\n",
       "0           2.0            0       6.000000              123.000000   \n",
       "1           1.0            1       9.000000              140.000000   \n",
       "2           2.0            1       1.000000               80.000000   \n",
       "3           2.0            2       6.000000              115.000000   \n",
       "4           2.0            1       1.000000              120.000000   \n",
       "...         ...          ...            ...                     ...   \n",
       "36355       2.0            1       6.000000              118.200720   \n",
       "36356       2.0            3       2.575869              121.819017   \n",
       "36357       2.0            2       1.000000              128.112843   \n",
       "36358       1.0            0       4.211584              121.922772   \n",
       "36359       2.0            1       9.000000              118.805941   \n",
       "\n",
       "       Medicion2_PA_Diastolica  Medicion3_Frecuencia_cardiaca  \\\n",
       "0                    62.000000                      95.000000   \n",
       "1                    80.000000                      70.000000   \n",
       "2                   120.000000                      78.000000   \n",
       "3                    70.000000                      72.000000   \n",
       "4                    80.000000                      74.000000   \n",
       "...                        ...                            ...   \n",
       "36355                72.627749                      80.899640   \n",
       "36356                71.819017                      67.151738   \n",
       "36357                75.253897                      74.915368   \n",
       "36358                70.730495                      65.192277   \n",
       "36359                82.985147                      72.985147   \n",
       "\n",
       "       Medicion4_Frec_Respiratoria  Medicion5_Temperatura  Medicion6_Peso  \\\n",
       "0                        18.000000                   35.7            69.0   \n",
       "1                        17.000000                   36.0           111.0   \n",
       "2                        17.000000                   36.5            67.0   \n",
       "3                        16.000000                   36.0            59.0   \n",
       "4                        19.000000                   37.0            64.0   \n",
       "...                            ...                    ...             ...   \n",
       "36355                    17.000000                   36.2            66.0   \n",
       "36356                    18.424131                   36.0            59.0   \n",
       "36357                    17.000000                   36.2            55.0   \n",
       "36358                    17.615446                   36.0            65.0   \n",
       "36359                    18.000000                   36.0            70.0   \n",
       "\n",
       "       Medicion7_Talla  Medicion8_IMC codigoDiagnostico  Analisis     id  \n",
       "0                147.0      31.930000              J449         0      1  \n",
       "1                176.0      35.830000              J449         0      2  \n",
       "2                158.0      26.840000              I10X         1      3  \n",
       "3                143.0      28.850000              J449         0      4  \n",
       "4                150.0      28.440000              E119         2      5  \n",
       "...                ...            ...               ...       ...    ...  \n",
       "36355            160.0      29.432383              G402         4  36356  \n",
       "36356            155.0      30.684205              G400         4  36357  \n",
       "36357            160.0      25.551797              G409         4  36358  \n",
       "36358            166.0      20.363148              G408         4  36359  \n",
       "36359            146.0      28.392131              G402         4  36360  \n",
       "\n",
       "[36360 rows x 14 columns]"
      ]
     },
     "execution_count": 106,
     "metadata": {},
     "output_type": "execute_result"
    }
   ],
   "source": [
    "demoData"
   ]
  },
  {
   "cell_type": "code",
   "execution_count": 126,
   "metadata": {},
   "outputs": [
    {
     "data": {
      "text/plain": [
       "(array([3.617e+04, 5.000e+00, 4.400e+01, 8.100e+01, 4.200e+01, 1.300e+01,\n",
       "        2.000e+00, 1.000e+00, 1.000e+00, 1.000e+00]),\n",
       " array([     0.,  72000., 144000., 216000., 288000., 360000., 432000.,\n",
       "        504000., 576000., 648000., 720000.]),\n",
       " <a list of 10 Patch objects>)"
      ]
     },
     "execution_count": 126,
     "metadata": {},
     "output_type": "execute_result"
    },
    {
     "data": {
      "image/png": "[encoded data removed]",
      "text/plain": [
       "<Figure size 432x288 with 1 Axes>"
      ]
     },
     "metadata": {
      "needs_background": "light"
     },
     "output_type": "display_data"
    }
   ],
   "source": [
    "plt.hist(demoData.Medicion8_IMC)"
   ]
  },
  {
   "cell_type": "code",
   "execution_count": 124,
   "metadata": {},
   "outputs": [
    {
     "data": {
      "text/plain": [
       "645.0"
      ]
     },
     "execution_count": 124,
     "metadata": {},
     "output_type": "execute_result"
    }
   ],
   "source": [
    "max(demoData.Medicion6_Peso)"
   ]
  },
  {
   "cell_type": "code",
   "execution_count": 132,
   "metadata": {},
   "outputs": [
    {
     "data": {
      "text/plain": [
       "(array([2.9700e+02, 3.9000e+01, 1.2700e+02, 2.1200e+03, 9.2620e+03,\n",
       "        1.2704e+04, 7.3530e+03, 2.7980e+03, 9.3300e+02, 2.1700e+02,\n",
       "        8.8000e+01, 5.0000e+01, 2.3000e+01, 1.3000e+01, 4.0000e+00,\n",
       "        0.0000e+00, 0.0000e+00, 2.0000e+00, 1.0000e+00, 2.0000e+00]),\n",
       " array([ 0.   ,  4.856,  9.712, 14.568, 19.424, 24.28 , 29.136, 33.992,\n",
       "        38.848, 43.704, 48.56 , 53.416, 58.272, 63.128, 67.984, 72.84 ,\n",
       "        77.696, 82.552, 87.408, 92.264, 97.12 ]),\n",
       " <a list of 20 Patch objects>)"
      ]
     },
     "execution_count": 132,
     "metadata": {},
     "output_type": "execute_result"
    },
    {
     "data": {
      "image/png": "[encoded data removed]",
      "text/plain": [
       "<Figure size 432x288 with 1 Axes>"
      ]
     },
     "metadata": {
      "needs_background": "light"
     },
     "output_type": "display_data"
    }
   ],
   "source": [
    "plt.hist(demoData[demoData.Medicion8_IMC<100].Medicion8_IMC,bins=20)"
   ]
  },
  {
   "cell_type": "code",
   "execution_count": 118,
   "metadata": {},
   "outputs": [
    {
     "data": {
      "text/plain": [
       "36352"
      ]
     },
     "execution_count": 118,
     "metadata": {},
     "output_type": "execute_result"
    }
   ],
   "source": [
    "len(demoData[demoData.Medicion2_PA_Diastolica<300])"
   ]
  },
  {
   "cell_type": "code",
   "execution_count": 115,
   "metadata": {},
   "outputs": [
    {
     "data": {
      "text/plain": [
       "36360"
      ]
     },
     "execution_count": 115,
     "metadata": {},
     "output_type": "execute_result"
    }
   ],
   "source": [
    "len(demoData)"
   ]
  },
  {
   "cell_type": "code",
   "execution_count": 119,
   "metadata": {},
   "outputs": [
    {
     "data": {
      "text/plain": [
       "8"
      ]
     },
     "execution_count": 119,
     "metadata": {},
     "output_type": "execute_result"
    }
   ],
   "source": [
    "36360-36352"
   ]
  },
  {
   "cell_type": "code",
   "execution_count": 120,
   "metadata": {},
   "outputs": [
    {
     "data": {
      "text/plain": [
       "array([6.        , 9.        , 1.        , ..., 8.76163745, 2.57586891,\n",
       "       4.21158413])"
      ]
     },
     "execution_count": 120,
     "metadata": {},
     "output_type": "execute_result"
    }
   ],
   "source": [
    "demoData.idEstadoCivil.unique()"
   ]
  },
  {
   "cell_type": "code",
   "execution_count": 135,
   "metadata": {},
   "outputs": [
    {
     "data": {
      "text/plain": [
       "1156"
      ]
     },
     "execution_count": 135,
     "metadata": {},
     "output_type": "execute_result"
    }
   ],
   "source": [
    "len(data.idEstadoCivil.unique())"
   ]
  },
  {
   "cell_type": "code",
   "execution_count": 136,
   "metadata": {},
   "outputs": [],
   "source": [
    "demoData.to_csv('./data/demoData.csv')"
   ]
  },
  {
   "cell_type": "code",
   "execution_count": 138,
   "metadata": {},
   "outputs": [
    {
     "data": {
      "text/plain": [
       "array(['78-84', '1-67', '68-77', '>84'], dtype=object)"
      ]
     },
     "execution_count": 138,
     "metadata": {},
     "output_type": "execute_result"
    }
   ],
   "source": [
    "data.edad_grupos.unique()\n"
   ]
  },
  {
   "cell_type": "code",
   "execution_count": null,
   "metadata": {},
   "outputs": [],
   "source": []
  }
 ],
 "metadata": {
  "kernelspec": {
   "display_name": "Python 3",
   "language": "python",
   "name": "python3"
  },
  "language_info": {
   "codemirror_mode": {
    "name": "ipython",
    "version": 3
   },
   "file_extension": ".py",
   "mimetype": "text/x-python",
   "name": "python",
   "nbconvert_exporter": "python",
   "pygments_lexer": "ipython3",
   "version": "3.7.3"
  }
 },
 "nbformat": 4,
 "nbformat_minor": 4
}
